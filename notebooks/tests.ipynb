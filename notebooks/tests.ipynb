{
 "cells": [
  {
   "attachments": {},
   "cell_type": "markdown",
   "metadata": {},
   "source": [
    "# Notebook for small tests"
   ]
  },
  {
   "attachments": {},
   "cell_type": "markdown",
   "metadata": {},
   "source": [
    "## Imports"
   ]
  },
  {
   "attachments": {},
   "cell_type": "markdown",
   "metadata": {},
   "source": [
    "### Packages"
   ]
  },
  {
   "cell_type": "code",
   "execution_count": 8,
   "metadata": {},
   "outputs": [],
   "source": [
    "import os\n",
    "import pandas as pd\n",
    "import warnings"
   ]
  },
  {
   "cell_type": "code",
   "execution_count": 9,
   "metadata": {},
   "outputs": [],
   "source": [
    "warnings.filterwarnings('ignore')"
   ]
  },
  {
   "attachments": {},
   "cell_type": "markdown",
   "metadata": {},
   "source": [
    "### Paths"
   ]
  },
  {
   "cell_type": "code",
   "execution_count": 10,
   "metadata": {},
   "outputs": [],
   "source": [
    "project_path = \"/home/onyxia/work/deduplication/\"\n",
    "path_01_raw = \"data/01_raw/\"\n",
    "path_02_intermediate = \"data/02_intermediate/\"\n",
    "path_03_primary = \"data/03_primary/\"\n",
    "path_04_feature = \"data/04_feature/\"\n",
    "path_05_model_input = \"data/05_model_input/\"\n",
    "path_06_models = \"data/06_models/\"\n",
    "path_07_model_output = \"data/07_model_output/\"\n",
    "path_08_reporting = \"data/08_reporting/\"\n",
    "path_09_past_submissions =  \"data/09_past_submissions/\""
   ]
  },
  {
   "attachments": {},
   "cell_type": "markdown",
   "metadata": {},
   "source": [
    "### Data"
   ]
  },
  {
   "cell_type": "code",
   "execution_count": 11,
   "metadata": {},
   "outputs": [
    {
     "data": {
      "text/plain": [
       "112056"
      ]
     },
     "execution_count": 11,
     "metadata": {},
     "output_type": "execute_result"
    }
   ],
   "source": [
    "data = pd.read_csv(project_path + path_01_raw + 'wi_dataset.csv',\n",
    "                   lineterminator='\\n')\n",
    "\n",
    "len(data)"
   ]
  },
  {
   "cell_type": "code",
   "execution_count": 12,
   "metadata": {},
   "outputs": [
    {
     "data": {
      "text/html": [
       "<div>\n",
       "<style scoped>\n",
       "    .dataframe tbody tr th:only-of-type {\n",
       "        vertical-align: middle;\n",
       "    }\n",
       "\n",
       "    .dataframe tbody tr th {\n",
       "        vertical-align: top;\n",
       "    }\n",
       "\n",
       "    .dataframe thead th {\n",
       "        text-align: right;\n",
       "    }\n",
       "</style>\n",
       "<table border=\"1\" class=\"dataframe\">\n",
       "  <thead>\n",
       "    <tr style=\"text-align: right;\">\n",
       "      <th></th>\n",
       "      <th>id</th>\n",
       "      <th>title</th>\n",
       "      <th>description</th>\n",
       "      <th>location</th>\n",
       "      <th>country_id</th>\n",
       "      <th>company_name</th>\n",
       "      <th>retrieval_date</th>\n",
       "    </tr>\n",
       "  </thead>\n",
       "  <tbody>\n",
       "    <tr>\n",
       "      <th>0</th>\n",
       "      <td>1</td>\n",
       "      <td>Traineeship Pensioen &amp; Leven in Utrecht</td>\n",
       "      <td>We sturen je door naar je toekomstige opdracht...</td>\n",
       "      <td>Utrecht</td>\n",
       "      <td>NL</td>\n",
       "      <td>NaN</td>\n",
       "      <td>2021-01-19</td>\n",
       "    </tr>\n",
       "    <tr>\n",
       "      <th>1</th>\n",
       "      <td>2</td>\n",
       "      <td>DEPOSITARY OFFICER (M/F)</td>\n",
       "      <td>DEPOSITARY OFFICER (M/F) DO Recruitment Adviso...</td>\n",
       "      <td>NaN</td>\n",
       "      <td>FR</td>\n",
       "      <td>DO Recruitment Advisors</td>\n",
       "      <td>2021-09-30</td>\n",
       "    </tr>\n",
       "    <tr>\n",
       "      <th>2</th>\n",
       "      <td>3</td>\n",
       "      <td>Cautam colegi manipulanti marfa</td>\n",
       "      <td>Descriere Angajam manipulanti marfa din Pitest...</td>\n",
       "      <td>Pitesti</td>\n",
       "      <td>RO</td>\n",
       "      <td>NaN</td>\n",
       "      <td>2021-06-18</td>\n",
       "    </tr>\n",
       "    <tr>\n",
       "      <th>3</th>\n",
       "      <td>4</td>\n",
       "      <td>Home Care Assistant</td>\n",
       "      <td>Are you looking for a role as a Care Assistant...</td>\n",
       "      <td>NaN</td>\n",
       "      <td>UK</td>\n",
       "      <td>Cera Care</td>\n",
       "      <td>2021-02-09</td>\n",
       "    </tr>\n",
       "    <tr>\n",
       "      <th>4</th>\n",
       "      <td>5</td>\n",
       "      <td>Chef de chantier espaces verts h/f</td>\n",
       "      <td>LE POSTE Vous êtes passionné par les Espaces V...</td>\n",
       "      <td>NaN</td>\n",
       "      <td>FR</td>\n",
       "      <td>ALPHEA CONSEIL</td>\n",
       "      <td>2021-06-08</td>\n",
       "    </tr>\n",
       "  </tbody>\n",
       "</table>\n",
       "</div>"
      ],
      "text/plain": [
       "   id                                    title  \\\n",
       "0   1  Traineeship Pensioen & Leven in Utrecht   \n",
       "1   2                 DEPOSITARY OFFICER (M/F)   \n",
       "2   3          Cautam colegi manipulanti marfa   \n",
       "3   4                      Home Care Assistant   \n",
       "4   5       Chef de chantier espaces verts h/f   \n",
       "\n",
       "                                         description location country_id  \\\n",
       "0  We sturen je door naar je toekomstige opdracht...  Utrecht         NL   \n",
       "1  DEPOSITARY OFFICER (M/F) DO Recruitment Adviso...      NaN         FR   \n",
       "2  Descriere Angajam manipulanti marfa din Pitest...  Pitesti         RO   \n",
       "3  Are you looking for a role as a Care Assistant...      NaN         UK   \n",
       "4  LE POSTE Vous êtes passionné par les Espaces V...      NaN         FR   \n",
       "\n",
       "              company_name retrieval_date  \n",
       "0                      NaN     2021-01-19  \n",
       "1  DO Recruitment Advisors     2021-09-30  \n",
       "2                      NaN     2021-06-18  \n",
       "3                Cera Care     2021-02-09  \n",
       "4           ALPHEA CONSEIL     2021-06-08  "
      ]
     },
     "execution_count": 12,
     "metadata": {},
     "output_type": "execute_result"
    }
   ],
   "source": [
    "data.head()"
   ]
  },
  {
   "cell_type": "code",
   "execution_count": 13,
   "metadata": {},
   "outputs": [
    {
     "data": {
      "text/html": [
       "<div>\n",
       "<style scoped>\n",
       "    .dataframe tbody tr th:only-of-type {\n",
       "        vertical-align: middle;\n",
       "    }\n",
       "\n",
       "    .dataframe tbody tr th {\n",
       "        vertical-align: top;\n",
       "    }\n",
       "\n",
       "    .dataframe thead th {\n",
       "        text-align: right;\n",
       "    }\n",
       "</style>\n",
       "<table border=\"1\" class=\"dataframe\">\n",
       "  <thead>\n",
       "    <tr style=\"text-align: right;\">\n",
       "      <th></th>\n",
       "      <th>id</th>\n",
       "      <th>title</th>\n",
       "      <th>description</th>\n",
       "      <th>location</th>\n",
       "      <th>country_id</th>\n",
       "      <th>company_name</th>\n",
       "      <th>retrieval_date</th>\n",
       "    </tr>\n",
       "  </thead>\n",
       "  <tbody>\n",
       "    <tr>\n",
       "      <th>112051</th>\n",
       "      <td>112052</td>\n",
       "      <td>OPERATORE IMPIANTI AUTOMATICI</td>\n",
       "      <td>OPERATORE IMPIANTI AUTOMATICI SBE VARVIT - Mon...</td>\n",
       "      <td>Monfalcone, Friuli-Venezia Giulia</td>\n",
       "      <td>IT</td>\n",
       "      <td>S.B.E. VARVIT</td>\n",
       "      <td>2021-01-31</td>\n",
       "    </tr>\n",
       "    <tr>\n",
       "      <th>112052</th>\n",
       "      <td>112053</td>\n",
       "      <td>Tarvittaessa töihin kutsuttavia siivoojia</td>\n",
       "      <td>Etsimme useampaa MATALAPAINEPESIJÄÄ tiimiimme ...</td>\n",
       "      <td>NaN</td>\n",
       "      <td>FI</td>\n",
       "      <td>ISS Palvelut Oy</td>\n",
       "      <td>2021-04-01</td>\n",
       "    </tr>\n",
       "    <tr>\n",
       "      <th>112053</th>\n",
       "      <td>112054</td>\n",
       "      <td>Timanställning - Lager - Start Augusti</td>\n",
       "      <td>Om Jobbet: Just nu söker vi efter nya medarbet...</td>\n",
       "      <td>Jönköping</td>\n",
       "      <td>SE</td>\n",
       "      <td>Lyreco Sverige AB</td>\n",
       "      <td>2021-08-03</td>\n",
       "    </tr>\n",
       "    <tr>\n",
       "      <th>112054</th>\n",
       "      <td>112055</td>\n",
       "      <td>Opérateur de saisie bancaire H/F</td>\n",
       "      <td>Venez nous découvrir sur : https://www.tessi.e...</td>\n",
       "      <td>Fontenay-sous-Bois (94)</td>\n",
       "      <td>FR</td>\n",
       "      <td>tessi</td>\n",
       "      <td>2021-05-31</td>\n",
       "    </tr>\n",
       "    <tr>\n",
       "      <th>112055</th>\n",
       "      <td>112056</td>\n",
       "      <td>Senior Java developer</td>\n",
       "      <td>Do you want to know what is means to be BOLD? ...</td>\n",
       "      <td>NaN</td>\n",
       "      <td>PT</td>\n",
       "      <td>BOLD International</td>\n",
       "      <td>2021-01-30</td>\n",
       "    </tr>\n",
       "  </tbody>\n",
       "</table>\n",
       "</div>"
      ],
      "text/plain": [
       "            id                                      title  \\\n",
       "112051  112052              OPERATORE IMPIANTI AUTOMATICI   \n",
       "112052  112053  Tarvittaessa töihin kutsuttavia siivoojia   \n",
       "112053  112054     Timanställning - Lager - Start Augusti   \n",
       "112054  112055           Opérateur de saisie bancaire H/F   \n",
       "112055  112056                      Senior Java developer   \n",
       "\n",
       "                                              description  \\\n",
       "112051  OPERATORE IMPIANTI AUTOMATICI SBE VARVIT - Mon...   \n",
       "112052  Etsimme useampaa MATALAPAINEPESIJÄÄ tiimiimme ...   \n",
       "112053  Om Jobbet: Just nu söker vi efter nya medarbet...   \n",
       "112054  Venez nous découvrir sur : https://www.tessi.e...   \n",
       "112055  Do you want to know what is means to be BOLD? ...   \n",
       "\n",
       "                                 location country_id        company_name  \\\n",
       "112051  Monfalcone, Friuli-Venezia Giulia         IT       S.B.E. VARVIT   \n",
       "112052                                NaN         FI     ISS Palvelut Oy   \n",
       "112053                          Jönköping         SE   Lyreco Sverige AB   \n",
       "112054            Fontenay-sous-Bois (94)         FR               tessi   \n",
       "112055                                NaN         PT  BOLD International   \n",
       "\n",
       "       retrieval_date  \n",
       "112051     2021-01-31  \n",
       "112052     2021-04-01  \n",
       "112053     2021-08-03  \n",
       "112054     2021-05-31  \n",
       "112055     2021-01-30  "
      ]
     },
     "execution_count": 13,
     "metadata": {},
     "output_type": "execute_result"
    }
   ],
   "source": [
    "data.tail()"
   ]
  },
  {
   "cell_type": "code",
   "execution_count": 14,
   "metadata": {},
   "outputs": [
    {
     "data": {
      "text/plain": [
       "112056"
      ]
     },
     "execution_count": 14,
     "metadata": {},
     "output_type": "execute_result"
    }
   ],
   "source": [
    "extensively_preprocessed_dataset = pd.read_parquet(project_path + path_03_primary + 'extensively_preprocessed_dataset.pq')\n",
    "\n",
    "len(extensively_preprocessed_dataset)"
   ]
  },
  {
   "cell_type": "code",
   "execution_count": 15,
   "metadata": {},
   "outputs": [
    {
     "data": {
      "text/html": [
       "<div>\n",
       "<style scoped>\n",
       "    .dataframe tbody tr th:only-of-type {\n",
       "        vertical-align: middle;\n",
       "    }\n",
       "\n",
       "    .dataframe tbody tr th {\n",
       "        vertical-align: top;\n",
       "    }\n",
       "\n",
       "    .dataframe thead th {\n",
       "        text-align: right;\n",
       "    }\n",
       "</style>\n",
       "<table border=\"1\" class=\"dataframe\">\n",
       "  <thead>\n",
       "    <tr style=\"text-align: right;\">\n",
       "      <th></th>\n",
       "      <th>id</th>\n",
       "      <th>title</th>\n",
       "      <th>description</th>\n",
       "      <th>location</th>\n",
       "      <th>country_id</th>\n",
       "      <th>company_name</th>\n",
       "      <th>retrieval_date</th>\n",
       "      <th>language</th>\n",
       "      <th>beginning_description</th>\n",
       "      <th>end_description</th>\n",
       "      <th>concatenated_offer</th>\n",
       "    </tr>\n",
       "  </thead>\n",
       "  <tbody>\n",
       "    <tr>\n",
       "      <th>0</th>\n",
       "      <td>1</td>\n",
       "      <td>traineeship pensioen leven utrecht</td>\n",
       "      <td>sturen toekomstige opdrachtgever duurt paar se...</td>\n",
       "      <td>utrecht</td>\n",
       "      <td>NL</td>\n",
       "      <td></td>\n",
       "      <td>2021-01-19</td>\n",
       "      <td>nl</td>\n",
       "      <td>sturen toekomstige opdrachtgever duurt paar se...</td>\n",
       "      <td>job studenten werkgevers gehele site studentjo...</td>\n",
       "      <td>traineeship pensioen leven utrecht  utrecht NL...</td>\n",
       "    </tr>\n",
       "    <tr>\n",
       "      <th>1</th>\n",
       "      <td>2</td>\n",
       "      <td>depositary officer</td>\n",
       "      <td>depositary officer recruitment advisors recrui...</td>\n",
       "      <td></td>\n",
       "      <td>FR</td>\n",
       "      <td>recruitment advisors</td>\n",
       "      <td>2021-09-30</td>\n",
       "      <td>en</td>\n",
       "      <td>depositary officer recruitment advisors recrui...</td>\n",
       "      <td>waiting direction appropriate client client pr...</td>\n",
       "      <td>depositary officer recruitment advisors  FR de...</td>\n",
       "    </tr>\n",
       "    <tr>\n",
       "      <th>2</th>\n",
       "      <td>3</td>\n",
       "      <td>cautam colegi manipulanti marfa</td>\n",
       "      <td>descriere angajam manipulanti marfa pitesti zo...</td>\n",
       "      <td>pitesti</td>\n",
       "      <td>RO</td>\n",
       "      <td></td>\n",
       "      <td>2021-06-18</td>\n",
       "      <td>ro</td>\n",
       "      <td>descriere angajam manipulanti marfa pitesti zo...</td>\n",
       "      <td>descriere angajam manipulanti marfa pitesti zo...</td>\n",
       "      <td>cautam colegi manipulanti marfa  pitesti RO de...</td>\n",
       "    </tr>\n",
       "    <tr>\n",
       "      <th>3</th>\n",
       "      <td>4</td>\n",
       "      <td>home assistant</td>\n",
       "      <td>assistant ayshire driving license access vehic...</td>\n",
       "      <td></td>\n",
       "      <td>UK</td>\n",
       "      <td>cera</td>\n",
       "      <td>2021-02-09</td>\n",
       "      <td>en</td>\n",
       "      <td>assistant ayshire driving license access vehic...</td>\n",
       "      <td>ve tasks reports return commitment hard cera o...</td>\n",
       "      <td>home assistant cera  UK assistant ayshire driv...</td>\n",
       "    </tr>\n",
       "    <tr>\n",
       "      <th>4</th>\n",
       "      <td>5</td>\n",
       "      <td>chef chantier espaces verts</td>\n",
       "      <td>passionne espaces verts creativite sans limite...</td>\n",
       "      <td></td>\n",
       "      <td>FR</td>\n",
       "      <td>alphea conseil</td>\n",
       "      <td>2021-06-08</td>\n",
       "      <td>fr</td>\n",
       "      <td>passionne espaces verts creativite sans limite...</td>\n",
       "      <td>leader savez transmettre passion insuffler ene...</td>\n",
       "      <td>chef chantier espaces verts alphea conseil  FR...</td>\n",
       "    </tr>\n",
       "  </tbody>\n",
       "</table>\n",
       "</div>"
      ],
      "text/plain": [
       "   id                               title  \\\n",
       "0   1  traineeship pensioen leven utrecht   \n",
       "1   2                  depositary officer   \n",
       "2   3     cautam colegi manipulanti marfa   \n",
       "3   4                      home assistant   \n",
       "4   5         chef chantier espaces verts   \n",
       "\n",
       "                                         description location country_id  \\\n",
       "0  sturen toekomstige opdrachtgever duurt paar se...  utrecht         NL   \n",
       "1  depositary officer recruitment advisors recrui...                  FR   \n",
       "2  descriere angajam manipulanti marfa pitesti zo...  pitesti         RO   \n",
       "3  assistant ayshire driving license access vehic...                  UK   \n",
       "4  passionne espaces verts creativite sans limite...                  FR   \n",
       "\n",
       "           company_name retrieval_date language  \\\n",
       "0                           2021-01-19       nl   \n",
       "1  recruitment advisors     2021-09-30       en   \n",
       "2                           2021-06-18       ro   \n",
       "3                  cera     2021-02-09       en   \n",
       "4        alphea conseil     2021-06-08       fr   \n",
       "\n",
       "                               beginning_description  \\\n",
       "0  sturen toekomstige opdrachtgever duurt paar se...   \n",
       "1  depositary officer recruitment advisors recrui...   \n",
       "2  descriere angajam manipulanti marfa pitesti zo...   \n",
       "3  assistant ayshire driving license access vehic...   \n",
       "4  passionne espaces verts creativite sans limite...   \n",
       "\n",
       "                                     end_description  \\\n",
       "0  job studenten werkgevers gehele site studentjo...   \n",
       "1  waiting direction appropriate client client pr...   \n",
       "2  descriere angajam manipulanti marfa pitesti zo...   \n",
       "3  ve tasks reports return commitment hard cera o...   \n",
       "4  leader savez transmettre passion insuffler ene...   \n",
       "\n",
       "                                  concatenated_offer  \n",
       "0  traineeship pensioen leven utrecht  utrecht NL...  \n",
       "1  depositary officer recruitment advisors  FR de...  \n",
       "2  cautam colegi manipulanti marfa  pitesti RO de...  \n",
       "3  home assistant cera  UK assistant ayshire driv...  \n",
       "4  chef chantier espaces verts alphea conseil  FR...  "
      ]
     },
     "execution_count": 15,
     "metadata": {},
     "output_type": "execute_result"
    }
   ],
   "source": [
    "extensively_preprocessed_dataset.head()"
   ]
  },
  {
   "cell_type": "code",
   "execution_count": 16,
   "metadata": {},
   "outputs": [
    {
     "data": {
      "text/html": [
       "<div>\n",
       "<style scoped>\n",
       "    .dataframe tbody tr th:only-of-type {\n",
       "        vertical-align: middle;\n",
       "    }\n",
       "\n",
       "    .dataframe tbody tr th {\n",
       "        vertical-align: top;\n",
       "    }\n",
       "\n",
       "    .dataframe thead th {\n",
       "        text-align: right;\n",
       "    }\n",
       "</style>\n",
       "<table border=\"1\" class=\"dataframe\">\n",
       "  <thead>\n",
       "    <tr style=\"text-align: right;\">\n",
       "      <th></th>\n",
       "      <th>id</th>\n",
       "      <th>title</th>\n",
       "      <th>description</th>\n",
       "      <th>location</th>\n",
       "      <th>country_id</th>\n",
       "      <th>company_name</th>\n",
       "      <th>retrieval_date</th>\n",
       "      <th>language</th>\n",
       "      <th>beginning_description</th>\n",
       "      <th>end_description</th>\n",
       "      <th>concatenated_offer</th>\n",
       "    </tr>\n",
       "  </thead>\n",
       "  <tbody>\n",
       "    <tr>\n",
       "      <th>112051</th>\n",
       "      <td>112052</td>\n",
       "      <td>operatore impianti automatici</td>\n",
       "      <td>operatore impianti automatici sbe varvit monfa...</td>\n",
       "      <td>monfalcone friuli venezia giulia</td>\n",
       "      <td>IT</td>\n",
       "      <td>varvit</td>\n",
       "      <td>2021-01-31</td>\n",
       "      <td>it</td>\n",
       "      <td>operatore impianti automatici sbe varvit monfa...</td>\n",
       "      <td>nomo manutenzione elettromeccanica individuare...</td>\n",
       "      <td>operatore impianti automatici varvit monfalcon...</td>\n",
       "    </tr>\n",
       "    <tr>\n",
       "      <th>112052</th>\n",
       "      <td>112053</td>\n",
       "      <td>tarvittaessa toihin kutsuttavia siivoojia</td>\n",
       "      <td>useampaa matalapainepesijaa tiimiimme outokump...</td>\n",
       "      <td></td>\n",
       "      <td>FI</td>\n",
       "      <td>iss palvelut oy</td>\n",
       "      <td>2021-04-01</td>\n",
       "      <td>fi</td>\n",
       "      <td>useampaa matalapainepesijaa tiimiimme outokump...</td>\n",
       "      <td>useampaa matalapainepesijaa tiimiimme outokump...</td>\n",
       "      <td>tarvittaessa toihin kutsuttavia siivoojia iss ...</td>\n",
       "    </tr>\n",
       "    <tr>\n",
       "      <th>112053</th>\n",
       "      <td>112054</td>\n",
       "      <td>timanstallning lager start augusti</td>\n",
       "      <td>jobbet orderplockare centrallager bankeryd hog...</td>\n",
       "      <td>jonkoping</td>\n",
       "      <td>SE</td>\n",
       "      <td>lyreco sverige ab</td>\n",
       "      <td>2021-08-03</td>\n",
       "      <td>sv</td>\n",
       "      <td>jobbet orderplockare centrallager bankeryd hog...</td>\n",
       "      <td>rplockare centrallager bankeryd hogt tempo arb...</td>\n",
       "      <td>timanstallning lager start augusti lyreco sver...</td>\n",
       "    </tr>\n",
       "    <tr>\n",
       "      <th>112054</th>\n",
       "      <td>112055</td>\n",
       "      <td>operateur saisie bancaire</td>\n",
       "      <td>venez decouvrir https www tessi fr quelques mo...</td>\n",
       "      <td>fontenay sous bois 94</td>\n",
       "      <td>FR</td>\n",
       "      <td>tessi</td>\n",
       "      <td>2021-05-31</td>\n",
       "      <td>fr</td>\n",
       "      <td>venez decouvrir https www tessi fr quelques mo...</td>\n",
       "      <td>2 45 remboursement titre transport hebdomadair...</td>\n",
       "      <td>operateur saisie bancaire tessi fontenay sous ...</td>\n",
       "    </tr>\n",
       "    <tr>\n",
       "      <th>112055</th>\n",
       "      <td>112056</td>\n",
       "      <td>senior java developer</td>\n",
       "      <td>know means bold bold driving technology world ...</td>\n",
       "      <td></td>\n",
       "      <td>PT</td>\n",
       "      <td>bold international</td>\n",
       "      <td>2021-01-30</td>\n",
       "      <td>en</td>\n",
       "      <td>know means bold bold driving technology world ...</td>\n",
       "      <td>need expertise j2ee spring core javascript fra...</td>\n",
       "      <td>senior java developer bold international  PT k...</td>\n",
       "    </tr>\n",
       "  </tbody>\n",
       "</table>\n",
       "</div>"
      ],
      "text/plain": [
       "            id                                      title  \\\n",
       "112051  112052              operatore impianti automatici   \n",
       "112052  112053  tarvittaessa toihin kutsuttavia siivoojia   \n",
       "112053  112054         timanstallning lager start augusti   \n",
       "112054  112055                  operateur saisie bancaire   \n",
       "112055  112056                      senior java developer   \n",
       "\n",
       "                                              description  \\\n",
       "112051  operatore impianti automatici sbe varvit monfa...   \n",
       "112052  useampaa matalapainepesijaa tiimiimme outokump...   \n",
       "112053  jobbet orderplockare centrallager bankeryd hog...   \n",
       "112054  venez decouvrir https www tessi fr quelques mo...   \n",
       "112055  know means bold bold driving technology world ...   \n",
       "\n",
       "                                location country_id        company_name  \\\n",
       "112051  monfalcone friuli venezia giulia         IT              varvit   \n",
       "112052                                           FI     iss palvelut oy   \n",
       "112053                         jonkoping         SE   lyreco sverige ab   \n",
       "112054             fontenay sous bois 94         FR               tessi   \n",
       "112055                                           PT  bold international   \n",
       "\n",
       "       retrieval_date language  \\\n",
       "112051     2021-01-31       it   \n",
       "112052     2021-04-01       fi   \n",
       "112053     2021-08-03       sv   \n",
       "112054     2021-05-31       fr   \n",
       "112055     2021-01-30       en   \n",
       "\n",
       "                                    beginning_description  \\\n",
       "112051  operatore impianti automatici sbe varvit monfa...   \n",
       "112052  useampaa matalapainepesijaa tiimiimme outokump...   \n",
       "112053  jobbet orderplockare centrallager bankeryd hog...   \n",
       "112054  venez decouvrir https www tessi fr quelques mo...   \n",
       "112055  know means bold bold driving technology world ...   \n",
       "\n",
       "                                          end_description  \\\n",
       "112051  nomo manutenzione elettromeccanica individuare...   \n",
       "112052  useampaa matalapainepesijaa tiimiimme outokump...   \n",
       "112053  rplockare centrallager bankeryd hogt tempo arb...   \n",
       "112054  2 45 remboursement titre transport hebdomadair...   \n",
       "112055  need expertise j2ee spring core javascript fra...   \n",
       "\n",
       "                                       concatenated_offer  \n",
       "112051  operatore impianti automatici varvit monfalcon...  \n",
       "112052  tarvittaessa toihin kutsuttavia siivoojia iss ...  \n",
       "112053  timanstallning lager start augusti lyreco sver...  \n",
       "112054  operateur saisie bancaire tessi fontenay sous ...  \n",
       "112055  senior java developer bold international  PT k...  "
      ]
     },
     "execution_count": 16,
     "metadata": {},
     "output_type": "execute_result"
    }
   ],
   "source": [
    "extensively_preprocessed_dataset.tail()"
   ]
  },
  {
   "cell_type": "markdown",
   "metadata": {},
   "source": [
    "## Tests"
   ]
  },
  {
   "cell_type": "code",
   "execution_count": 17,
   "metadata": {},
   "outputs": [
    {
     "data": {
      "text/plain": [
       "'Do you want to know what is means to be BOLD? Being BOLD is driving into the technology world, inspired and inspiring. Creating strong teams along the way and building roads for the next journey. Enjoying every ride is part of our DNA. Are you BOLD enough? If so, join us. Position: Senior Java developer for an International project in Lisbon We need expertise in:  J2EE Spring Core Javascript frameworks (ReactJS is a plus) Jersey (Restful services), API Oracle/SQL Hibernate/JPA Maven Docker, container in general, kubernetes, cloud architecture Fluent in English   Still not sure if you will send your application to BOLD? More than creating solutions, we push and inspire our people to go further and deliver innovation anytime, anywhere. So, here’s a little push – BE BOLD.   Send your application to  **************************'"
      ]
     },
     "execution_count": 17,
     "metadata": {},
     "output_type": "execute_result"
    }
   ],
   "source": [
    "data.loc[112055, 'description']"
   ]
  },
  {
   "cell_type": "code",
   "execution_count": 18,
   "metadata": {},
   "outputs": [
    {
     "data": {
      "text/plain": [
       "'know means bold bold driving technology world inspired inspiring creating strong teams along way building roads next journey enjoying every ride dna bold enough join senior java developer international project lisbon need expertise j2ee spring core javascript frameworks reactjs plus jersey restful api oracle sql hibernate jpa maven docker container general kubernetes cloud architecture fluent english still sure send bold creating solutions push inspire go deliver innovation anytime anywhere little push bold send'"
      ]
     },
     "execution_count": 18,
     "metadata": {},
     "output_type": "execute_result"
    }
   ],
   "source": [
    "extensively_preprocessed_dataset.loc[112055, 'description']"
   ]
  },
  {
   "cell_type": "code",
   "execution_count": 23,
   "metadata": {},
   "outputs": [
    {
     "data": {
      "text/plain": [
       "444803"
      ]
     },
     "execution_count": 23,
     "metadata": {},
     "output_type": "execute_result"
    }
   ],
   "source": [
    "last_submission = pd.read_csv(\n",
    "    project_path + path_09_past_submissions + 'submission_2_KF.csv',\n",
    "    names=['id1', 'id2', 'type'],\n",
    "    lineterminator='\\n')\n",
    "\n",
    "len(last_submission)"
   ]
  },
  {
   "cell_type": "code",
   "execution_count": 24,
   "metadata": {},
   "outputs": [],
   "source": [
    "def describe_duplicates(all_duplicates: pd.DataFrame) -> pd.DataFrame:\n",
    "    duplicates_description = all_duplicates.groupby('type').count(\n",
    "    ).reset_index()\n",
    "    return duplicates_description"
   ]
  },
  {
   "cell_type": "code",
   "execution_count": 25,
   "metadata": {},
   "outputs": [
    {
     "data": {
      "text/html": [
       "<div>\n",
       "<style scoped>\n",
       "    .dataframe tbody tr th:only-of-type {\n",
       "        vertical-align: middle;\n",
       "    }\n",
       "\n",
       "    .dataframe tbody tr th {\n",
       "        vertical-align: top;\n",
       "    }\n",
       "\n",
       "    .dataframe thead th {\n",
       "        text-align: right;\n",
       "    }\n",
       "</style>\n",
       "<table border=\"1\" class=\"dataframe\">\n",
       "  <thead>\n",
       "    <tr style=\"text-align: right;\">\n",
       "      <th></th>\n",
       "      <th>type</th>\n",
       "      <th>id1</th>\n",
       "      <th>id2</th>\n",
       "    </tr>\n",
       "  </thead>\n",
       "  <tbody>\n",
       "    <tr>\n",
       "      <th>0</th>\n",
       "      <td>FULL</td>\n",
       "      <td>63353</td>\n",
       "      <td>63353</td>\n",
       "    </tr>\n",
       "    <tr>\n",
       "      <th>1</th>\n",
       "      <td>PARTIAL</td>\n",
       "      <td>21916</td>\n",
       "      <td>21916</td>\n",
       "    </tr>\n",
       "    <tr>\n",
       "      <th>2</th>\n",
       "      <td>SEMANTIC</td>\n",
       "      <td>4726</td>\n",
       "      <td>4726</td>\n",
       "    </tr>\n",
       "    <tr>\n",
       "      <th>3</th>\n",
       "      <td>TEMPORAL</td>\n",
       "      <td>354808</td>\n",
       "      <td>354808</td>\n",
       "    </tr>\n",
       "  </tbody>\n",
       "</table>\n",
       "</div>"
      ],
      "text/plain": [
       "       type     id1     id2\n",
       "0      FULL   63353   63353\n",
       "1   PARTIAL   21916   21916\n",
       "2  SEMANTIC    4726    4726\n",
       "3  TEMPORAL  354808  354808"
      ]
     },
     "execution_count": 25,
     "metadata": {},
     "output_type": "execute_result"
    }
   ],
   "source": [
    "describe_duplicates(last_submission)"
   ]
  }
 ],
 "metadata": {
  "kernelspec": {
   "display_name": "base",
   "language": "python",
   "name": "python3"
  },
  "language_info": {
   "codemirror_mode": {
    "name": "ipython",
    "version": 3
   },
   "file_extension": ".py",
   "mimetype": "text/x-python",
   "name": "python",
   "nbconvert_exporter": "python",
   "pygments_lexer": "ipython3",
   "version": "3.10.9"
  },
  "orig_nbformat": 4,
  "vscode": {
   "interpreter": {
    "hash": "3fa046f995eb80ac40c0869a1f9df46519f4ada8b8c395ef25dd1aa1a1a2fc63"
   }
  }
 },
 "nbformat": 4,
 "nbformat_minor": 2
}
