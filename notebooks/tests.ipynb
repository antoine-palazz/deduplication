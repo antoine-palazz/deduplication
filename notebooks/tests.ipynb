{
 "cells": [
  {
   "attachments": {},
   "cell_type": "markdown",
   "metadata": {},
   "source": [
    "# Notebook for small tests"
   ]
  },
  {
   "attachments": {},
   "cell_type": "markdown",
   "metadata": {},
   "source": [
    "## Imports"
   ]
  },
  {
   "attachments": {},
   "cell_type": "markdown",
   "metadata": {},
   "source": [
    "### Packages"
   ]
  },
  {
   "cell_type": "code",
   "execution_count": 15,
   "metadata": {},
   "outputs": [],
   "source": [
    "import os\n",
    "import pandas as pd\n",
    "import warnings"
   ]
  },
  {
   "cell_type": "code",
   "execution_count": 16,
   "metadata": {},
   "outputs": [],
   "source": [
    "warnings.filterwarnings('ignore')"
   ]
  },
  {
   "attachments": {},
   "cell_type": "markdown",
   "metadata": {},
   "source": [
    "### Paths"
   ]
  },
  {
   "cell_type": "code",
   "execution_count": 34,
   "metadata": {},
   "outputs": [],
   "source": [
    "project_path = \"/home/onyxia/work/deduplication/\"\n",
    "raw_data_path = \"data/01_raw/\"\n",
    "intermediate_data_path = \"data/02_intermediate/\"\n",
    "models_data_path = \"data/06_models/\""
   ]
  },
  {
   "attachments": {},
   "cell_type": "markdown",
   "metadata": {},
   "source": [
    "### Data"
   ]
  },
  {
   "cell_type": "code",
   "execution_count": 18,
   "metadata": {},
   "outputs": [
    {
     "data": {
      "text/plain": [
       "112056"
      ]
     },
     "execution_count": 18,
     "metadata": {},
     "output_type": "execute_result"
    }
   ],
   "source": [
    "data = pd.read_csv(project_path + raw_data_path + 'wi_dataset.csv',\n",
    "                   lineterminator='\\n')\n",
    "\n",
    "len(data)"
   ]
  },
  {
   "cell_type": "code",
   "execution_count": 19,
   "metadata": {},
   "outputs": [
    {
     "data": {
      "text/html": [
       "<div>\n",
       "<style scoped>\n",
       "    .dataframe tbody tr th:only-of-type {\n",
       "        vertical-align: middle;\n",
       "    }\n",
       "\n",
       "    .dataframe tbody tr th {\n",
       "        vertical-align: top;\n",
       "    }\n",
       "\n",
       "    .dataframe thead th {\n",
       "        text-align: right;\n",
       "    }\n",
       "</style>\n",
       "<table border=\"1\" class=\"dataframe\">\n",
       "  <thead>\n",
       "    <tr style=\"text-align: right;\">\n",
       "      <th></th>\n",
       "      <th>id</th>\n",
       "      <th>title</th>\n",
       "      <th>description</th>\n",
       "      <th>location</th>\n",
       "      <th>country_id</th>\n",
       "      <th>company_name</th>\n",
       "      <th>retrieval_date</th>\n",
       "    </tr>\n",
       "  </thead>\n",
       "  <tbody>\n",
       "    <tr>\n",
       "      <th>0</th>\n",
       "      <td>1</td>\n",
       "      <td>Traineeship Pensioen &amp; Leven in Utrecht</td>\n",
       "      <td>We sturen je door naar je toekomstige opdracht...</td>\n",
       "      <td>Utrecht</td>\n",
       "      <td>NL</td>\n",
       "      <td>NaN</td>\n",
       "      <td>2021-01-19</td>\n",
       "    </tr>\n",
       "    <tr>\n",
       "      <th>1</th>\n",
       "      <td>2</td>\n",
       "      <td>DEPOSITARY OFFICER (M/F)</td>\n",
       "      <td>DEPOSITARY OFFICER (M/F) DO Recruitment Adviso...</td>\n",
       "      <td>NaN</td>\n",
       "      <td>FR</td>\n",
       "      <td>DO Recruitment Advisors</td>\n",
       "      <td>2021-09-30</td>\n",
       "    </tr>\n",
       "    <tr>\n",
       "      <th>2</th>\n",
       "      <td>3</td>\n",
       "      <td>Cautam colegi manipulanti marfa</td>\n",
       "      <td>Descriere Angajam manipulanti marfa din Pitest...</td>\n",
       "      <td>Pitesti</td>\n",
       "      <td>RO</td>\n",
       "      <td>NaN</td>\n",
       "      <td>2021-06-18</td>\n",
       "    </tr>\n",
       "    <tr>\n",
       "      <th>3</th>\n",
       "      <td>4</td>\n",
       "      <td>Home Care Assistant</td>\n",
       "      <td>Are you looking for a role as a Care Assistant...</td>\n",
       "      <td>NaN</td>\n",
       "      <td>UK</td>\n",
       "      <td>Cera Care</td>\n",
       "      <td>2021-02-09</td>\n",
       "    </tr>\n",
       "    <tr>\n",
       "      <th>4</th>\n",
       "      <td>5</td>\n",
       "      <td>Chef de chantier espaces verts h/f</td>\n",
       "      <td>LE POSTE Vous êtes passionné par les Espaces V...</td>\n",
       "      <td>NaN</td>\n",
       "      <td>FR</td>\n",
       "      <td>ALPHEA CONSEIL</td>\n",
       "      <td>2021-06-08</td>\n",
       "    </tr>\n",
       "  </tbody>\n",
       "</table>\n",
       "</div>"
      ],
      "text/plain": [
       "   id                                    title  \\\n",
       "0   1  Traineeship Pensioen & Leven in Utrecht   \n",
       "1   2                 DEPOSITARY OFFICER (M/F)   \n",
       "2   3          Cautam colegi manipulanti marfa   \n",
       "3   4                      Home Care Assistant   \n",
       "4   5       Chef de chantier espaces verts h/f   \n",
       "\n",
       "                                         description location country_id  \\\n",
       "0  We sturen je door naar je toekomstige opdracht...  Utrecht         NL   \n",
       "1  DEPOSITARY OFFICER (M/F) DO Recruitment Adviso...      NaN         FR   \n",
       "2  Descriere Angajam manipulanti marfa din Pitest...  Pitesti         RO   \n",
       "3  Are you looking for a role as a Care Assistant...      NaN         UK   \n",
       "4  LE POSTE Vous êtes passionné par les Espaces V...      NaN         FR   \n",
       "\n",
       "              company_name retrieval_date  \n",
       "0                      NaN     2021-01-19  \n",
       "1  DO Recruitment Advisors     2021-09-30  \n",
       "2                      NaN     2021-06-18  \n",
       "3                Cera Care     2021-02-09  \n",
       "4           ALPHEA CONSEIL     2021-06-08  "
      ]
     },
     "execution_count": 19,
     "metadata": {},
     "output_type": "execute_result"
    }
   ],
   "source": [
    "data.head()"
   ]
  },
  {
   "cell_type": "code",
   "execution_count": 27,
   "metadata": {},
   "outputs": [
    {
     "data": {
      "text/html": [
       "<div>\n",
       "<style scoped>\n",
       "    .dataframe tbody tr th:only-of-type {\n",
       "        vertical-align: middle;\n",
       "    }\n",
       "\n",
       "    .dataframe tbody tr th {\n",
       "        vertical-align: top;\n",
       "    }\n",
       "\n",
       "    .dataframe thead th {\n",
       "        text-align: right;\n",
       "    }\n",
       "</style>\n",
       "<table border=\"1\" class=\"dataframe\">\n",
       "  <thead>\n",
       "    <tr style=\"text-align: right;\">\n",
       "      <th></th>\n",
       "      <th>id</th>\n",
       "      <th>title</th>\n",
       "      <th>description</th>\n",
       "      <th>location</th>\n",
       "      <th>country_id</th>\n",
       "      <th>company_name</th>\n",
       "      <th>retrieval_date</th>\n",
       "    </tr>\n",
       "  </thead>\n",
       "  <tbody>\n",
       "    <tr>\n",
       "      <th>112051</th>\n",
       "      <td>112052</td>\n",
       "      <td>OPERATORE IMPIANTI AUTOMATICI</td>\n",
       "      <td>OPERATORE IMPIANTI AUTOMATICI SBE VARVIT - Mon...</td>\n",
       "      <td>Monfalcone, Friuli-Venezia Giulia</td>\n",
       "      <td>IT</td>\n",
       "      <td>S.B.E. VARVIT</td>\n",
       "      <td>2021-01-31</td>\n",
       "    </tr>\n",
       "    <tr>\n",
       "      <th>112052</th>\n",
       "      <td>112053</td>\n",
       "      <td>Tarvittaessa töihin kutsuttavia siivoojia</td>\n",
       "      <td>Etsimme useampaa MATALAPAINEPESIJÄÄ tiimiimme ...</td>\n",
       "      <td>NaN</td>\n",
       "      <td>FI</td>\n",
       "      <td>ISS Palvelut Oy</td>\n",
       "      <td>2021-04-01</td>\n",
       "    </tr>\n",
       "    <tr>\n",
       "      <th>112053</th>\n",
       "      <td>112054</td>\n",
       "      <td>Timanställning - Lager - Start Augusti</td>\n",
       "      <td>Om Jobbet: Just nu söker vi efter nya medarbet...</td>\n",
       "      <td>Jönköping</td>\n",
       "      <td>SE</td>\n",
       "      <td>Lyreco Sverige AB</td>\n",
       "      <td>2021-08-03</td>\n",
       "    </tr>\n",
       "    <tr>\n",
       "      <th>112054</th>\n",
       "      <td>112055</td>\n",
       "      <td>Opérateur de saisie bancaire H/F</td>\n",
       "      <td>Venez nous découvrir sur : https://www.tessi.e...</td>\n",
       "      <td>Fontenay-sous-Bois (94)</td>\n",
       "      <td>FR</td>\n",
       "      <td>tessi</td>\n",
       "      <td>2021-05-31</td>\n",
       "    </tr>\n",
       "    <tr>\n",
       "      <th>112055</th>\n",
       "      <td>112056</td>\n",
       "      <td>Senior Java developer</td>\n",
       "      <td>Do you want to know what is means to be BOLD? ...</td>\n",
       "      <td>NaN</td>\n",
       "      <td>PT</td>\n",
       "      <td>BOLD International</td>\n",
       "      <td>2021-01-30</td>\n",
       "    </tr>\n",
       "  </tbody>\n",
       "</table>\n",
       "</div>"
      ],
      "text/plain": [
       "            id                                      title  \\\n",
       "112051  112052              OPERATORE IMPIANTI AUTOMATICI   \n",
       "112052  112053  Tarvittaessa töihin kutsuttavia siivoojia   \n",
       "112053  112054     Timanställning - Lager - Start Augusti   \n",
       "112054  112055           Opérateur de saisie bancaire H/F   \n",
       "112055  112056                      Senior Java developer   \n",
       "\n",
       "                                              description  \\\n",
       "112051  OPERATORE IMPIANTI AUTOMATICI SBE VARVIT - Mon...   \n",
       "112052  Etsimme useampaa MATALAPAINEPESIJÄÄ tiimiimme ...   \n",
       "112053  Om Jobbet: Just nu söker vi efter nya medarbet...   \n",
       "112054  Venez nous découvrir sur : https://www.tessi.e...   \n",
       "112055  Do you want to know what is means to be BOLD? ...   \n",
       "\n",
       "                                 location country_id        company_name  \\\n",
       "112051  Monfalcone, Friuli-Venezia Giulia         IT       S.B.E. VARVIT   \n",
       "112052                                NaN         FI     ISS Palvelut Oy   \n",
       "112053                          Jönköping         SE   Lyreco Sverige AB   \n",
       "112054            Fontenay-sous-Bois (94)         FR               tessi   \n",
       "112055                                NaN         PT  BOLD International   \n",
       "\n",
       "       retrieval_date  \n",
       "112051     2021-01-31  \n",
       "112052     2021-04-01  \n",
       "112053     2021-08-03  \n",
       "112054     2021-05-31  \n",
       "112055     2021-01-30  "
      ]
     },
     "execution_count": 27,
     "metadata": {},
     "output_type": "execute_result"
    }
   ],
   "source": [
    "data.tail()"
   ]
  },
  {
   "cell_type": "code",
   "execution_count": 35,
   "metadata": {},
   "outputs": [
    {
     "data": {
      "text/plain": [
       "358073"
      ]
     },
     "execution_count": 35,
     "metadata": {},
     "output_type": "execute_result"
    }
   ],
   "source": [
    "full_duplicates = pd.read_parquet(project_path + models_data_path + 'full_duplicates.pq')\n",
    "\n",
    "len(full_duplicates)"
   ]
  },
  {
   "cell_type": "code",
   "execution_count": 36,
   "metadata": {},
   "outputs": [
    {
     "data": {
      "text/html": [
       "<div>\n",
       "<style scoped>\n",
       "    .dataframe tbody tr th:only-of-type {\n",
       "        vertical-align: middle;\n",
       "    }\n",
       "\n",
       "    .dataframe tbody tr th {\n",
       "        vertical-align: top;\n",
       "    }\n",
       "\n",
       "    .dataframe thead th {\n",
       "        text-align: right;\n",
       "    }\n",
       "</style>\n",
       "<table border=\"1\" class=\"dataframe\">\n",
       "  <thead>\n",
       "    <tr style=\"text-align: right;\">\n",
       "      <th></th>\n",
       "      <th>id1</th>\n",
       "      <th>id2</th>\n",
       "      <th>type</th>\n",
       "    </tr>\n",
       "  </thead>\n",
       "  <tbody>\n",
       "    <tr>\n",
       "      <th>0</th>\n",
       "      <td>16097</td>\n",
       "      <td>23753</td>\n",
       "      <td>FULL</td>\n",
       "    </tr>\n",
       "    <tr>\n",
       "      <th>1</th>\n",
       "      <td>16097</td>\n",
       "      <td>26567</td>\n",
       "      <td>FULL</td>\n",
       "    </tr>\n",
       "    <tr>\n",
       "      <th>2</th>\n",
       "      <td>16097</td>\n",
       "      <td>34959</td>\n",
       "      <td>FULL</td>\n",
       "    </tr>\n",
       "    <tr>\n",
       "      <th>3</th>\n",
       "      <td>16097</td>\n",
       "      <td>35983</td>\n",
       "      <td>FULL</td>\n",
       "    </tr>\n",
       "    <tr>\n",
       "      <th>4</th>\n",
       "      <td>16097</td>\n",
       "      <td>44767</td>\n",
       "      <td>FULL</td>\n",
       "    </tr>\n",
       "  </tbody>\n",
       "</table>\n",
       "</div>"
      ],
      "text/plain": [
       "     id1    id2  type\n",
       "0  16097  23753  FULL\n",
       "1  16097  26567  FULL\n",
       "2  16097  34959  FULL\n",
       "3  16097  35983  FULL\n",
       "4  16097  44767  FULL"
      ]
     },
     "execution_count": 36,
     "metadata": {},
     "output_type": "execute_result"
    }
   ],
   "source": [
    "full_duplicates.head()"
   ]
  },
  {
   "cell_type": "markdown",
   "metadata": {},
   "source": [
    "## Tests"
   ]
  },
  {
   "cell_type": "code",
   "execution_count": 32,
   "metadata": {},
   "outputs": [
    {
     "data": {
      "text/plain": [
       "{'id': 4,\n",
       " 'title': 'Home Care Assistant',\n",
       " 'description': 'Are you looking for a role as a Care Assistant in Ayshire? Do you have a Driving License and Access to a Vehicle? Do you feel that you have what it takes to be a wonderful and compassionate Care Assistant? We are looking for individuals like you to work as a community Care Assistant in your local community. No previous experience is required. At Cera our main priority is to find people with the right values, behaviours and attitudes that can support our mission to help people live longer, healthier and happier lives in their own homes. It would be great to have YOU as part of our team. Our roles include providing personal care and we do require carers to have their own vehicle and driving license. At Cera we arm you with everything you need to give outstanding levels of care; award winning technology, PPE and comprehensive training. Your responsibilities as a Cera Care Assistant: Supporting and assisting with all personal care requirements Providing companionship and supportive listening Observing and reporting any changes in the health or status of the patient Preparing meals and feeding patients Prompting and administering medication Providing support with hobbies, studies, and social activities Completing administrative tasks and care reports. In return for your commitment and hard work, Cera offers: • FREE PVG Checks • FREE Professional Uniform • Flexible Hours - part time or full time, you choose! • Pay rates start from £9.30 per hour. • Mileage Paid • Mobile phone and work app to support with administrative tasks • 3% Company Pension Scheme • Paid assessment day training Postcode areas covered:KA1, KA6, KA7, KA8, KA9, KA10, KA11, KA12, KA19 and KA26 REFTNAYRSCOT',\n",
       " 'location': nan,\n",
       " 'country_id': 'UK',\n",
       " 'company_name': 'Cera Care',\n",
       " 'retrieval_date': '2021-02-09'}"
      ]
     },
     "execution_count": 32,
     "metadata": {},
     "output_type": "execute_result"
    }
   ],
   "source": [
    "dict(data.loc[3])"
   ]
  },
  {
   "cell_type": "code",
   "execution_count": null,
   "metadata": {},
   "outputs": [],
   "source": []
  }
 ],
 "metadata": {
  "kernelspec": {
   "display_name": "base",
   "language": "python",
   "name": "python3"
  },
  "language_info": {
   "codemirror_mode": {
    "name": "ipython",
    "version": 3
   },
   "file_extension": ".py",
   "mimetype": "text/x-python",
   "name": "python",
   "nbconvert_exporter": "python",
   "pygments_lexer": "ipython3",
   "version": "3.10.9"
  },
  "orig_nbformat": 4,
  "vscode": {
   "interpreter": {
    "hash": "3fa046f995eb80ac40c0869a1f9df46519f4ada8b8c395ef25dd1aa1a1a2fc63"
   }
  }
 },
 "nbformat": 4,
 "nbformat_minor": 2
}
