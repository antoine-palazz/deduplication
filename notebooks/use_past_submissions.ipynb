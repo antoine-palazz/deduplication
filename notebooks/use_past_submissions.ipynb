{
 "cells": [
  {
   "attachments": {},
   "cell_type": "markdown",
   "metadata": {},
   "source": [
    "# Use past bad submissions to filter out false duplicates"
   ]
  },
  {
   "attachments": {},
   "cell_type": "markdown",
   "metadata": {},
   "source": [
    "## Imports"
   ]
  },
  {
   "cell_type": "code",
   "execution_count": 453,
   "metadata": {},
   "outputs": [],
   "source": [
    "import pandas as pd\n",
    "import warnings\n",
    "warnings.filterwarnings('ignore')"
   ]
  },
  {
   "cell_type": "code",
   "execution_count": 454,
   "metadata": {},
   "outputs": [],
   "source": [
    "project_path = \"/home/onyxia/work/deduplication/\"\n",
    "path_07_model_output = \"data/07_model_output/\"\n",
    "path_09_past_submissions =  \"data/09_past_submissions/\""
   ]
  },
  {
   "attachments": {},
   "cell_type": "markdown",
   "metadata": {},
   "source": [
    "## Data"
   ]
  },
  {
   "cell_type": "code",
   "execution_count": 455,
   "metadata": {},
   "outputs": [],
   "source": [
    "initial_submission = pd.read_csv(\n",
    "    # project_path + path_07_model_output + 'best_duplicates.csv',\n",
    "    project_path + path_09_past_submissions + 'best_duplicates.csv',\n",
    "    names=['id1', 'id2', 'type'],\n",
    "    lineterminator='\\n')\n",
    "\n",
    "current_submission = initial_submission.copy()"
   ]
  },
  {
   "cell_type": "code",
   "execution_count": 456,
   "metadata": {},
   "outputs": [],
   "source": [
    "submission_with_ner = pd.read_csv(\n",
    "    # project_path + path_07_model_output + 'best_duplicates.csv',\n",
    "    project_path + path_09_past_submissions + 'best_duplicates_ner.csv',\n",
    "    names=['id1', 'id2', 'type'],\n",
    "    lineterminator='\\n')"
   ]
  },
  {
   "cell_type": "code",
   "execution_count": 457,
   "metadata": {},
   "outputs": [],
   "source": [
    "submission_large = pd.read_csv(\n",
    "    # project_path + path_07_model_output + 'best_duplicates.csv',\n",
    "    project_path + path_09_past_submissions + 'best_duplicates_large.csv',\n",
    "    names=['id1', 'id2', 'type'],\n",
    "    lineterminator='\\n')"
   ]
  },
  {
   "cell_type": "code",
   "execution_count": 458,
   "metadata": {},
   "outputs": [],
   "source": [
    "bad_submission_AP_1 = pd.read_csv(\n",
    "    project_path + path_09_past_submissions + 'submission_AP_1.csv',\n",
    "    names=['id1', 'id2', 'type'], lineterminator='\\n')\n",
    "\n",
    "bad_submission_AP_6 = pd.read_csv(\n",
    "    project_path + path_09_past_submissions + 'submission_AP_6.csv',\n",
    "    names=['id1', 'id2', 'type'], lineterminator='\\n')\n",
    "\n",
    "bad_submission_FB_1 = pd.read_csv(\n",
    "    project_path + path_09_past_submissions + 'submission_FB_1.csv',\n",
    "    names=['id1', 'id2', 'type'], lineterminator='\\n')\n",
    "\n",
    "bad_submission_FB_3 = pd.read_csv(\n",
    "    project_path + path_09_past_submissions + 'submission_FB_3.csv',\n",
    "    names=['id1', 'id2', 'type'], lineterminator='\\n')\n",
    "\n",
    "bad_submission_FB_6 = pd.read_csv(\n",
    "    project_path + path_09_past_submissions + 'submission_FB_6.csv',\n",
    "    names=['id1', 'id2', 'type'], lineterminator='\\n')\n",
    "\n",
    "bad_submission_BYL_4 = pd.read_csv(\n",
    "    project_path + path_09_past_submissions + 'submission_BYL_4.csv',\n",
    "    names=['id1', 'id2', 'type'], lineterminator='\\n')\n",
    "\n",
    "bad_submission_BYL_5 = pd.read_csv(\n",
    "    project_path + path_09_past_submissions + 'submission_BYL_5.csv',\n",
    "    names=['id1', 'id2', 'type'], lineterminator='\\n')\n",
    "\n",
    "bad_submission_BYL_6 = pd.read_csv(\n",
    "    project_path + path_09_past_submissions + 'submission_BYL_6.csv',\n",
    "    names=['id1', 'id2', 'type'], lineterminator='\\n')"
   ]
  },
  {
   "cell_type": "code",
   "execution_count": 459,
   "metadata": {},
   "outputs": [],
   "source": [
    "good_submission_AP_9 = pd.read_csv(\n",
    "    project_path + path_09_past_submissions + 'submission_AP_9.csv',\n",
    "    names=['id1', 'id2', 'type'], lineterminator='\\n')\n",
    "\n",
    "good_submission_FB_8 = pd.read_csv(\n",
    "    project_path + path_09_past_submissions + 'submission_FB_8.csv',\n",
    "    names=['id1', 'id2', 'type'], lineterminator='\\n')\n",
    "\n",
    "good_submission_BYL_8 = pd.read_csv(\n",
    "    project_path + path_09_past_submissions + 'submission_BYL_8.csv',\n",
    "    names=['id1', 'id2', 'type'], lineterminator='\\n')\n",
    "\n",
    "good_submission_BYL_9 = pd.read_csv(\n",
    "    project_path + path_09_past_submissions + 'submission_BYL_9.csv',\n",
    "    names=['id1', 'id2', 'type'], lineterminator='\\n')\n",
    "\n",
    "good_submission_BYL_10 = pd.read_csv(\n",
    "    project_path + path_09_past_submissions + 'submission_BYL_10.csv',\n",
    "    names=['id1', 'id2', 'type'], lineterminator='\\n')"
   ]
  },
  {
   "attachments": {},
   "cell_type": "markdown",
   "metadata": {},
   "source": [
    "## Functions"
   ]
  },
  {
   "cell_type": "code",
   "execution_count": 460,
   "metadata": {},
   "outputs": [],
   "source": [
    "def describe_duplicates(all_duplicates: pd.DataFrame) -> pd.DataFrame:\n",
    "    duplicates_description = all_duplicates.groupby('type').count(\n",
    "    ).reset_index()\n",
    "    return duplicates_description"
   ]
  },
  {
   "cell_type": "code",
   "execution_count": 461,
   "metadata": {},
   "outputs": [],
   "source": [
    "def remove_observations_from_bad_submission(\n",
    "    current_submission: pd.DataFrame,\n",
    "    bad_submission: pd.DataFrame,\n",
    "    types_to_filter) -> pd.DataFrame:\n",
    "\n",
    "    len_before = len(current_submission)\n",
    "    bad_submission_filtered = bad_submission[bad_submission['type'].isin(types_to_filter)]\n",
    "\n",
    "    all_submissions = current_submission.merge(\n",
    "        bad_submission_filtered,\n",
    "        how='left',\n",
    "        on=['id1', 'id2', 'type'],\n",
    "        indicator=True)\n",
    "    new_current_submission = all_submissions[\n",
    "        all_submissions['_merge'] == 'left_only'\n",
    "    ][['id1', 'id2', 'type']]\n",
    "\n",
    "    len_after = len(new_current_submission)\n",
    "    print(f'After filtering, {len_before - len_after} rows removed')\n",
    "    return new_current_submission"
   ]
  },
  {
   "cell_type": "code",
   "execution_count": 462,
   "metadata": {},
   "outputs": [],
   "source": [
    "def remove_observations_from_df_non_duplicates(\n",
    "    current_submission: pd.DataFrame,\n",
    "    non_duplicates: pd.DataFrame) -> pd.DataFrame:\n",
    "\n",
    "    len_before = len(current_submission)\n",
    "    all_submissions = current_submission.merge(\n",
    "        non_duplicates[['id1', 'id2']],\n",
    "        how='left',\n",
    "        on=['id1', 'id2'],\n",
    "        indicator=True)\n",
    "    new_current_submission = all_submissions[\n",
    "        all_submissions['_merge'] == 'left_only'\n",
    "    ][['id1', 'id2', 'type']]\n",
    "\n",
    "    len_after = len(new_current_submission)\n",
    "    print(f'After filtering, {len_before - len_after} rows removed')\n",
    "    return new_current_submission"
   ]
  },
  {
   "cell_type": "code",
   "execution_count": 463,
   "metadata": {},
   "outputs": [],
   "source": [
    "def add_specific_duplicates(\n",
    "    current_submission: pd.DataFrame,\n",
    "    past_submission: pd.DataFrame,\n",
    "    types_to_add: list,\n",
    "    new_type: str\n",
    ") -> pd.DataFrame:\n",
    "\n",
    "    past_to_change = past_submission[past_submission[\"type\"].isin(types_to_add)]\n",
    "    past_to_change[\"type\"] = new_type\n",
    "    print(f'At most {len(past_to_change)} observations modified or added')\n",
    "\n",
    "    final_submission = pd.concat([past_to_change, current_submission]).drop_duplicates(\n",
    "        subset=['id1', 'id2']\n",
    "    ).sort_values(\n",
    "        by=['id1', 'id2']\n",
    "    ).reset_index(drop=True)\n",
    "\n",
    "    print(f'{len(final_submission) - len(current_submission)} rows added')\n",
    "    print(\n",
    "        f'{len(current_submission[current_submission[\"type\"].isin(types_to_add)]) - len(final_submission[final_submission[\"type\"].isin(types_to_add)])} of {types_to_add} have been changed'\n",
    "    )\n",
    "    return final_submission"
   ]
  },
  {
   "cell_type": "code",
   "execution_count": 464,
   "metadata": {},
   "outputs": [],
   "source": [
    "def mutualisation_with_good_submission(\n",
    "    current_submission: pd.DataFrame,\n",
    "    good_submission: pd.DataFrame,\n",
    "    use_semantic: bool,\n",
    "    use_temporal: bool,\n",
    "    union_temporal: bool,\n",
    "    reduce_partials: bool,\n",
    "    replace_partials: bool\n",
    ") -> pd.DataFrame:\n",
    "\n",
    "    len_before = len(current_submission)\n",
    "\n",
    "    final_full = current_submission[current_submission['type'] == \"FULL\"]\n",
    "\n",
    "    current_semantic = current_submission[current_submission['type'] == \"SEMANTIC\"]\n",
    "    if use_semantic:\n",
    "        past_semantic = good_submission[good_submission['type'] == \"SEMANTIC\"]\n",
    "        final_semantic = pd.concat([current_semantic, past_semantic]).drop_duplicates()\n",
    "    else:\n",
    "        final_semantic = current_semantic.copy()\n",
    "\n",
    "    current_temporal = current_submission[current_submission['type'] == \"TEMPORAL\"]\n",
    "    if use_temporal:\n",
    "        past_temporal = good_submission[good_submission['type'] == \"TEMPORAL\"]\n",
    "        if union_temporal:\n",
    "            final_temporal = pd.concat([current_temporal, past_temporal]).drop_duplicates()\n",
    "        else:\n",
    "            final_temporal = pd.merge(current_temporal,\n",
    "                                    past_temporal,\n",
    "                                    how='inner',\n",
    "                                    on=['id1', 'id2', 'type']\n",
    "                                    )\n",
    "    else:\n",
    "        final_temporal = current_temporal.copy()\n",
    "    \n",
    "    current_partial = current_submission[current_submission['type'] == \"PARTIAL\"]\n",
    "    past_partial = good_submission[good_submission['type'] == \"PARTIAL\"]\n",
    "\n",
    "    if replace_partials:\n",
    "        final_partial = past_partial.copy()\n",
    "    else:\n",
    "        final_partial = current_partial.copy()\n",
    "\n",
    "    if reduce_partials:\n",
    "        past_large_semantic = good_submission[good_submission['type'].isin([\"SEMANTIC\", \"PARTIAL\"])][[\"id1\", \"id2\"]]\n",
    "        final_partial = pd.merge(final_partial,\n",
    "                                 past_large_semantic,\n",
    "                                 how='inner',\n",
    "                                 on=['id1', 'id2']\n",
    "                                )\n",
    "\n",
    "    final_submission = pd.concat(\n",
    "        [final_full, final_partial, final_semantic, final_temporal]\n",
    "    ).drop_duplicates(\n",
    "        subset=['id1', 'id2']\n",
    "    ).sort_values(\n",
    "        by=['id1', 'id2']\n",
    "    ).reset_index(drop=True)\n",
    "\n",
    "    len_after = len(final_submission)\n",
    "    print(f'After filtering, {len_before - len_after} rows removed')\n",
    "    return final_submission"
   ]
  },
  {
   "cell_type": "code",
   "execution_count": 465,
   "metadata": {},
   "outputs": [],
   "source": [
    "def aggregate_partials(\n",
    "    list_submissions: pd.DataFrame\n",
    ") -> pd.DataFrame:\n",
    "\n",
    "    list_partials = [\n",
    "        submission[submission[\"type\"] == 'PARTIAL'] for submission in list_submissions\n",
    "    ]\n",
    "\n",
    "    final_partials =  pd.concat(list_partials).drop_duplicates()\n",
    "    len_partials = len(final_partials)\n",
    "\n",
    "    print(f'There are {len_partials} sure non duplicates from partials analysis')\n",
    "    return final_partials"
   ]
  },
  {
   "attachments": {},
   "cell_type": "markdown",
   "metadata": {},
   "source": [
    "## Applications"
   ]
  },
  {
   "cell_type": "code",
   "execution_count": 466,
   "metadata": {},
   "outputs": [
    {
     "data": {
      "text/html": [
       "<div>\n",
       "<style scoped>\n",
       "    .dataframe tbody tr th:only-of-type {\n",
       "        vertical-align: middle;\n",
       "    }\n",
       "\n",
       "    .dataframe tbody tr th {\n",
       "        vertical-align: top;\n",
       "    }\n",
       "\n",
       "    .dataframe thead th {\n",
       "        text-align: right;\n",
       "    }\n",
       "</style>\n",
       "<table border=\"1\" class=\"dataframe\">\n",
       "  <thead>\n",
       "    <tr style=\"text-align: right;\">\n",
       "      <th></th>\n",
       "      <th>type</th>\n",
       "      <th>id1</th>\n",
       "      <th>id2</th>\n",
       "    </tr>\n",
       "  </thead>\n",
       "  <tbody>\n",
       "    <tr>\n",
       "      <th>0</th>\n",
       "      <td>FULL</td>\n",
       "      <td>63363</td>\n",
       "      <td>63363</td>\n",
       "    </tr>\n",
       "    <tr>\n",
       "      <th>1</th>\n",
       "      <td>PARTIAL</td>\n",
       "      <td>31293</td>\n",
       "      <td>31293</td>\n",
       "    </tr>\n",
       "    <tr>\n",
       "      <th>2</th>\n",
       "      <td>SEMANTIC</td>\n",
       "      <td>186710</td>\n",
       "      <td>186710</td>\n",
       "    </tr>\n",
       "    <tr>\n",
       "      <th>3</th>\n",
       "      <td>TEMPORAL</td>\n",
       "      <td>678722</td>\n",
       "      <td>678722</td>\n",
       "    </tr>\n",
       "  </tbody>\n",
       "</table>\n",
       "</div>"
      ],
      "text/plain": [
       "       type     id1     id2\n",
       "0      FULL   63363   63363\n",
       "1   PARTIAL   31293   31293\n",
       "2  SEMANTIC  186710  186710\n",
       "3  TEMPORAL  678722  678722"
      ]
     },
     "execution_count": 466,
     "metadata": {},
     "output_type": "execute_result"
    }
   ],
   "source": [
    "describe_duplicates(current_submission)"
   ]
  },
  {
   "attachments": {},
   "cell_type": "markdown",
   "metadata": {},
   "source": [
    "### For Byl"
   ]
  },
  {
   "cell_type": "code",
   "execution_count": 467,
   "metadata": {},
   "outputs": [
    {
     "name": "stdout",
     "output_type": "stream",
     "text": [
      "There are 3566 sure non duplicates from partials analysis\n"
     ]
    }
   ],
   "source": [
    "non_duplicates_AP = aggregate_partials([\n",
    "    bad_submission_AP_6,\n",
    "    bad_submission_FB_3,\n",
    "    bad_submission_BYL_4,\n",
    "    bad_submission_BYL_5,\n",
    "    bad_submission_BYL_6\n",
    "])\n",
    "\n",
    "non_duplicates_AP['type'] = \"NON\""
   ]
  },
  {
   "cell_type": "code",
   "execution_count": 468,
   "metadata": {},
   "outputs": [],
   "source": [
    "non_duplicates_AP.to_csv(\"non_duplicates_AP.csv\", index=False, header=False)"
   ]
  },
  {
   "cell_type": "code",
   "execution_count": 469,
   "metadata": {},
   "outputs": [
    {
     "data": {
      "text/plain": [
       "8498"
      ]
     },
     "execution_count": 469,
     "metadata": {},
     "output_type": "execute_result"
    }
   ],
   "source": [
    "non_duplicates_byl = pd.read_csv('non_duplicates_byl.csv',\n",
    "    names=['id1', 'id2', 'type'],\n",
    "    lineterminator='\\n')\n",
    "\n",
    "len(non_duplicates_byl)"
   ]
  },
  {
   "attachments": {},
   "cell_type": "markdown",
   "metadata": {},
   "source": [
    "### Complete with good submissions"
   ]
  },
  {
   "cell_type": "code",
   "execution_count": 470,
   "metadata": {},
   "outputs": [
    {
     "name": "stdout",
     "output_type": "stream",
     "text": [
      "After filtering, 18467 rows removed\n"
     ]
    }
   ],
   "source": [
    "current_submission = mutualisation_with_good_submission(\n",
    "    current_submission,\n",
    "    good_submission_BYL_10,\n",
    "    use_semantic=False,\n",
    "    use_temporal=False,\n",
    "    union_temporal=False,\n",
    "    reduce_partials=False,\n",
    "    replace_partials=True\n",
    ")"
   ]
  },
  {
   "cell_type": "code",
   "execution_count": 471,
   "metadata": {},
   "outputs": [
    {
     "data": {
      "text/html": [
       "<div>\n",
       "<style scoped>\n",
       "    .dataframe tbody tr th:only-of-type {\n",
       "        vertical-align: middle;\n",
       "    }\n",
       "\n",
       "    .dataframe tbody tr th {\n",
       "        vertical-align: top;\n",
       "    }\n",
       "\n",
       "    .dataframe thead th {\n",
       "        text-align: right;\n",
       "    }\n",
       "</style>\n",
       "<table border=\"1\" class=\"dataframe\">\n",
       "  <thead>\n",
       "    <tr style=\"text-align: right;\">\n",
       "      <th></th>\n",
       "      <th>type</th>\n",
       "      <th>id1</th>\n",
       "      <th>id2</th>\n",
       "    </tr>\n",
       "  </thead>\n",
       "  <tbody>\n",
       "    <tr>\n",
       "      <th>0</th>\n",
       "      <td>FULL</td>\n",
       "      <td>63363</td>\n",
       "      <td>63363</td>\n",
       "    </tr>\n",
       "    <tr>\n",
       "      <th>1</th>\n",
       "      <td>PARTIAL</td>\n",
       "      <td>15389</td>\n",
       "      <td>15389</td>\n",
       "    </tr>\n",
       "    <tr>\n",
       "      <th>2</th>\n",
       "      <td>SEMANTIC</td>\n",
       "      <td>184147</td>\n",
       "      <td>184147</td>\n",
       "    </tr>\n",
       "    <tr>\n",
       "      <th>3</th>\n",
       "      <td>TEMPORAL</td>\n",
       "      <td>678722</td>\n",
       "      <td>678722</td>\n",
       "    </tr>\n",
       "  </tbody>\n",
       "</table>\n",
       "</div>"
      ],
      "text/plain": [
       "       type     id1     id2\n",
       "0      FULL   63363   63363\n",
       "1   PARTIAL   15389   15389\n",
       "2  SEMANTIC  184147  184147\n",
       "3  TEMPORAL  678722  678722"
      ]
     },
     "execution_count": 471,
     "metadata": {},
     "output_type": "execute_result"
    }
   ],
   "source": [
    "describe_duplicates(current_submission)"
   ]
  },
  {
   "cell_type": "code",
   "execution_count": 472,
   "metadata": {},
   "outputs": [
    {
     "name": "stdout",
     "output_type": "stream",
     "text": [
      "At most 8134 observations modified or added\n",
      "3677 rows added\n",
      "612 of ['PARTIAL'] have been changed\n"
     ]
    }
   ],
   "source": [
    "current_submission = add_specific_duplicates(\n",
    "    current_submission,\n",
    "    good_submission_BYL_9,\n",
    "    types_to_add=['PARTIAL'],\n",
    "    new_type=\"SEMANTIC\"\n",
    ")"
   ]
  },
  {
   "cell_type": "code",
   "execution_count": 473,
   "metadata": {},
   "outputs": [
    {
     "name": "stdout",
     "output_type": "stream",
     "text": [
      "After filtering, -19402 rows removed\n"
     ]
    }
   ],
   "source": [
    "current_submission = mutualisation_with_good_submission(\n",
    "    current_submission,\n",
    "    good_submission_AP_9,\n",
    "    use_semantic=True,\n",
    "    use_temporal=False,\n",
    "    union_temporal=False,\n",
    "    reduce_partials=True,\n",
    "    replace_partials=False\n",
    ")"
   ]
  },
  {
   "cell_type": "code",
   "execution_count": 474,
   "metadata": {},
   "outputs": [
    {
     "name": "stdout",
     "output_type": "stream",
     "text": [
      "After filtering, -27086 rows removed\n"
     ]
    }
   ],
   "source": [
    "current_submission = mutualisation_with_good_submission(\n",
    "    current_submission,\n",
    "    good_submission_BYL_8,\n",
    "    use_semantic=True,\n",
    "    use_temporal=False,\n",
    "    union_temporal=False,\n",
    "    reduce_partials=False,\n",
    "    replace_partials=False\n",
    ")"
   ]
  },
  {
   "cell_type": "code",
   "execution_count": 475,
   "metadata": {},
   "outputs": [
    {
     "name": "stdout",
     "output_type": "stream",
     "text": [
      "After filtering, 236262 rows removed\n"
     ]
    }
   ],
   "source": [
    "current_submission = mutualisation_with_good_submission(\n",
    "    current_submission,\n",
    "    good_submission_BYL_9,\n",
    "    use_semantic=False,\n",
    "    use_temporal=True,\n",
    "    union_temporal=False,\n",
    "    reduce_partials=False,\n",
    "    replace_partials=False\n",
    ")"
   ]
  },
  {
   "cell_type": "code",
   "execution_count": 476,
   "metadata": {},
   "outputs": [
    {
     "data": {
      "text/html": [
       "<div>\n",
       "<style scoped>\n",
       "    .dataframe tbody tr th:only-of-type {\n",
       "        vertical-align: middle;\n",
       "    }\n",
       "\n",
       "    .dataframe tbody tr th {\n",
       "        vertical-align: top;\n",
       "    }\n",
       "\n",
       "    .dataframe thead th {\n",
       "        text-align: right;\n",
       "    }\n",
       "</style>\n",
       "<table border=\"1\" class=\"dataframe\">\n",
       "  <thead>\n",
       "    <tr style=\"text-align: right;\">\n",
       "      <th></th>\n",
       "      <th>type</th>\n",
       "      <th>id1</th>\n",
       "      <th>id2</th>\n",
       "    </tr>\n",
       "  </thead>\n",
       "  <tbody>\n",
       "    <tr>\n",
       "      <th>0</th>\n",
       "      <td>FULL</td>\n",
       "      <td>63363</td>\n",
       "      <td>63363</td>\n",
       "    </tr>\n",
       "    <tr>\n",
       "      <th>1</th>\n",
       "      <td>PARTIAL</td>\n",
       "      <td>14000</td>\n",
       "      <td>14000</td>\n",
       "    </tr>\n",
       "    <tr>\n",
       "      <th>2</th>\n",
       "      <td>SEMANTIC</td>\n",
       "      <td>235701</td>\n",
       "      <td>235701</td>\n",
       "    </tr>\n",
       "    <tr>\n",
       "      <th>3</th>\n",
       "      <td>TEMPORAL</td>\n",
       "      <td>442460</td>\n",
       "      <td>442460</td>\n",
       "    </tr>\n",
       "  </tbody>\n",
       "</table>\n",
       "</div>"
      ],
      "text/plain": [
       "       type     id1     id2\n",
       "0      FULL   63363   63363\n",
       "1   PARTIAL   14000   14000\n",
       "2  SEMANTIC  235701  235701\n",
       "3  TEMPORAL  442460  442460"
      ]
     },
     "execution_count": 476,
     "metadata": {},
     "output_type": "execute_result"
    }
   ],
   "source": [
    "describe_duplicates(current_submission)"
   ]
  },
  {
   "attachments": {},
   "cell_type": "markdown",
   "metadata": {},
   "source": [
    "### Remove false duplicates"
   ]
  },
  {
   "cell_type": "code",
   "execution_count": 477,
   "metadata": {},
   "outputs": [
    {
     "name": "stdout",
     "output_type": "stream",
     "text": [
      "After filtering, 11299 rows removed\n"
     ]
    }
   ],
   "source": [
    "# NOT SURE TO KEEP YET\n",
    "\n",
    "current_submission = remove_observations_from_bad_submission(\n",
    "    current_submission,\n",
    "    bad_submission_AP_1,\n",
    "    ['SEMANTIC']\n",
    ")\n",
    "\n",
    "# current_submission = remove_observations_from_bad_submission(\n",
    "#     current_submission,\n",
    "#     bad_submission_AP_1,\n",
    "#     ['TEMPORAL']\n",
    "# )"
   ]
  },
  {
   "cell_type": "code",
   "execution_count": 478,
   "metadata": {},
   "outputs": [
    {
     "name": "stdout",
     "output_type": "stream",
     "text": [
      "After filtering, 0 rows removed\n"
     ]
    }
   ],
   "source": [
    "current_submission = remove_observations_from_bad_submission(\n",
    "    current_submission,\n",
    "    bad_submission_AP_6,\n",
    "    ['PARTIAL']\n",
    ")"
   ]
  },
  {
   "cell_type": "code",
   "execution_count": 479,
   "metadata": {},
   "outputs": [
    {
     "name": "stdout",
     "output_type": "stream",
     "text": [
      "After filtering, 0 rows removed\n"
     ]
    }
   ],
   "source": [
    "# REMOVES MORE TP THAN FP\n",
    "# current_submission = remove_observations_from_bad_submission(\n",
    "#     current_submission,\n",
    "#     bad_submission_FB_1,\n",
    "#     ['TEMPORAL']\n",
    "# )\n",
    "\n",
    "current_submission = remove_observations_from_bad_submission(\n",
    "    current_submission,\n",
    "    bad_submission_FB_1,\n",
    "    ['PARTIAL']\n",
    ")"
   ]
  },
  {
   "cell_type": "code",
   "execution_count": 480,
   "metadata": {},
   "outputs": [
    {
     "name": "stdout",
     "output_type": "stream",
     "text": [
      "After filtering, 0 rows removed\n"
     ]
    }
   ],
   "source": [
    "current_submission = remove_observations_from_bad_submission(\n",
    "    current_submission,\n",
    "    bad_submission_FB_3,\n",
    "    ['PARTIAL']\n",
    ")"
   ]
  },
  {
   "cell_type": "code",
   "execution_count": 481,
   "metadata": {},
   "outputs": [],
   "source": [
    "# current_submission = remove_observations_from_bad_submission(\n",
    "#     current_submission,\n",
    "#     bad_submission_FB_6,\n",
    "#     ['PARTIAL']\n",
    "# )"
   ]
  },
  {
   "cell_type": "code",
   "execution_count": 482,
   "metadata": {},
   "outputs": [
    {
     "name": "stdout",
     "output_type": "stream",
     "text": [
      "After filtering, 0 rows removed\n"
     ]
    }
   ],
   "source": [
    "current_submission = remove_observations_from_bad_submission(\n",
    "    current_submission,\n",
    "    bad_submission_BYL_4,\n",
    "    ['PARTIAL']\n",
    ")"
   ]
  },
  {
   "cell_type": "code",
   "execution_count": 483,
   "metadata": {},
   "outputs": [
    {
     "name": "stdout",
     "output_type": "stream",
     "text": [
      "After filtering, 0 rows removed\n"
     ]
    }
   ],
   "source": [
    "current_submission = remove_observations_from_bad_submission(\n",
    "    current_submission,\n",
    "    bad_submission_BYL_5,\n",
    "    ['PARTIAL']\n",
    ")"
   ]
  },
  {
   "cell_type": "code",
   "execution_count": 484,
   "metadata": {},
   "outputs": [
    {
     "name": "stdout",
     "output_type": "stream",
     "text": [
      "After filtering, 0 rows removed\n"
     ]
    }
   ],
   "source": [
    "current_submission = remove_observations_from_bad_submission(\n",
    "    current_submission,\n",
    "    bad_submission_BYL_6,\n",
    "    ['PARTIAL']\n",
    ")"
   ]
  },
  {
   "cell_type": "code",
   "execution_count": 485,
   "metadata": {},
   "outputs": [
    {
     "data": {
      "text/html": [
       "<div>\n",
       "<style scoped>\n",
       "    .dataframe tbody tr th:only-of-type {\n",
       "        vertical-align: middle;\n",
       "    }\n",
       "\n",
       "    .dataframe tbody tr th {\n",
       "        vertical-align: top;\n",
       "    }\n",
       "\n",
       "    .dataframe thead th {\n",
       "        text-align: right;\n",
       "    }\n",
       "</style>\n",
       "<table border=\"1\" class=\"dataframe\">\n",
       "  <thead>\n",
       "    <tr style=\"text-align: right;\">\n",
       "      <th></th>\n",
       "      <th>type</th>\n",
       "      <th>id1</th>\n",
       "      <th>id2</th>\n",
       "    </tr>\n",
       "  </thead>\n",
       "  <tbody>\n",
       "    <tr>\n",
       "      <th>0</th>\n",
       "      <td>FULL</td>\n",
       "      <td>63363</td>\n",
       "      <td>63363</td>\n",
       "    </tr>\n",
       "    <tr>\n",
       "      <th>1</th>\n",
       "      <td>PARTIAL</td>\n",
       "      <td>14000</td>\n",
       "      <td>14000</td>\n",
       "    </tr>\n",
       "    <tr>\n",
       "      <th>2</th>\n",
       "      <td>SEMANTIC</td>\n",
       "      <td>224402</td>\n",
       "      <td>224402</td>\n",
       "    </tr>\n",
       "    <tr>\n",
       "      <th>3</th>\n",
       "      <td>TEMPORAL</td>\n",
       "      <td>442460</td>\n",
       "      <td>442460</td>\n",
       "    </tr>\n",
       "  </tbody>\n",
       "</table>\n",
       "</div>"
      ],
      "text/plain": [
       "       type     id1     id2\n",
       "0      FULL   63363   63363\n",
       "1   PARTIAL   14000   14000\n",
       "2  SEMANTIC  224402  224402\n",
       "3  TEMPORAL  442460  442460"
      ]
     },
     "execution_count": 485,
     "metadata": {},
     "output_type": "execute_result"
    }
   ],
   "source": [
    "describe_duplicates(current_submission)"
   ]
  },
  {
   "attachments": {},
   "cell_type": "markdown",
   "metadata": {},
   "source": [
    "### Remove non duplicates"
   ]
  },
  {
   "cell_type": "code",
   "execution_count": 486,
   "metadata": {},
   "outputs": [
    {
     "name": "stdout",
     "output_type": "stream",
     "text": [
      "After filtering, 849 rows removed\n"
     ]
    }
   ],
   "source": [
    "current_submission = remove_observations_from_df_non_duplicates(\n",
    "    current_submission,\n",
    "    non_duplicates_AP\n",
    ")"
   ]
  },
  {
   "cell_type": "code",
   "execution_count": 487,
   "metadata": {},
   "outputs": [],
   "source": [
    "# current_submission = remove_observations_from_df_non_duplicates(\n",
    "#     current_submission,\n",
    "#     non_duplicates_byl\n",
    "# )"
   ]
  },
  {
   "attachments": {},
   "cell_type": "markdown",
   "metadata": {},
   "source": [
    "## Check results"
   ]
  },
  {
   "cell_type": "code",
   "execution_count": 488,
   "metadata": {},
   "outputs": [
    {
     "data": {
      "text/html": [
       "<div>\n",
       "<style scoped>\n",
       "    .dataframe tbody tr th:only-of-type {\n",
       "        vertical-align: middle;\n",
       "    }\n",
       "\n",
       "    .dataframe tbody tr th {\n",
       "        vertical-align: top;\n",
       "    }\n",
       "\n",
       "    .dataframe thead th {\n",
       "        text-align: right;\n",
       "    }\n",
       "</style>\n",
       "<table border=\"1\" class=\"dataframe\">\n",
       "  <thead>\n",
       "    <tr style=\"text-align: right;\">\n",
       "      <th></th>\n",
       "      <th>type</th>\n",
       "      <th>id1</th>\n",
       "      <th>id2</th>\n",
       "    </tr>\n",
       "  </thead>\n",
       "  <tbody>\n",
       "    <tr>\n",
       "      <th>0</th>\n",
       "      <td>FULL</td>\n",
       "      <td>63363</td>\n",
       "      <td>63363</td>\n",
       "    </tr>\n",
       "    <tr>\n",
       "      <th>1</th>\n",
       "      <td>PARTIAL</td>\n",
       "      <td>14000</td>\n",
       "      <td>14000</td>\n",
       "    </tr>\n",
       "    <tr>\n",
       "      <th>2</th>\n",
       "      <td>SEMANTIC</td>\n",
       "      <td>224370</td>\n",
       "      <td>224370</td>\n",
       "    </tr>\n",
       "    <tr>\n",
       "      <th>3</th>\n",
       "      <td>TEMPORAL</td>\n",
       "      <td>441643</td>\n",
       "      <td>441643</td>\n",
       "    </tr>\n",
       "  </tbody>\n",
       "</table>\n",
       "</div>"
      ],
      "text/plain": [
       "       type     id1     id2\n",
       "0      FULL   63363   63363\n",
       "1   PARTIAL   14000   14000\n",
       "2  SEMANTIC  224370  224370\n",
       "3  TEMPORAL  441643  441643"
      ]
     },
     "execution_count": 488,
     "metadata": {},
     "output_type": "execute_result"
    }
   ],
   "source": [
    "describe_duplicates(current_submission)"
   ]
  },
  {
   "cell_type": "code",
   "execution_count": 489,
   "metadata": {},
   "outputs": [],
   "source": [
    "current_submission.to_csv(\"duplicates.csv\", index=False, header=False)"
   ]
  },
  {
   "attachments": {},
   "cell_type": "markdown",
   "metadata": {},
   "source": [
    "## Final check"
   ]
  },
  {
   "cell_type": "code",
   "execution_count": 490,
   "metadata": {},
   "outputs": [],
   "source": [
    "final_submission = pd.read_csv('duplicates.csv',\n",
    "                               names=['id1', 'id2', 'type'],\n",
    "                               lineterminator='\\n')"
   ]
  },
  {
   "cell_type": "code",
   "execution_count": 491,
   "metadata": {},
   "outputs": [
    {
     "data": {
      "text/html": [
       "<div>\n",
       "<style scoped>\n",
       "    .dataframe tbody tr th:only-of-type {\n",
       "        vertical-align: middle;\n",
       "    }\n",
       "\n",
       "    .dataframe tbody tr th {\n",
       "        vertical-align: top;\n",
       "    }\n",
       "\n",
       "    .dataframe thead th {\n",
       "        text-align: right;\n",
       "    }\n",
       "</style>\n",
       "<table border=\"1\" class=\"dataframe\">\n",
       "  <thead>\n",
       "    <tr style=\"text-align: right;\">\n",
       "      <th></th>\n",
       "      <th>type</th>\n",
       "      <th>id1</th>\n",
       "      <th>id2</th>\n",
       "    </tr>\n",
       "  </thead>\n",
       "  <tbody>\n",
       "    <tr>\n",
       "      <th>0</th>\n",
       "      <td>FULL</td>\n",
       "      <td>63363</td>\n",
       "      <td>63363</td>\n",
       "    </tr>\n",
       "    <tr>\n",
       "      <th>1</th>\n",
       "      <td>PARTIAL</td>\n",
       "      <td>14000</td>\n",
       "      <td>14000</td>\n",
       "    </tr>\n",
       "    <tr>\n",
       "      <th>2</th>\n",
       "      <td>SEMANTIC</td>\n",
       "      <td>224370</td>\n",
       "      <td>224370</td>\n",
       "    </tr>\n",
       "    <tr>\n",
       "      <th>3</th>\n",
       "      <td>TEMPORAL</td>\n",
       "      <td>441643</td>\n",
       "      <td>441643</td>\n",
       "    </tr>\n",
       "  </tbody>\n",
       "</table>\n",
       "</div>"
      ],
      "text/plain": [
       "       type     id1     id2\n",
       "0      FULL   63363   63363\n",
       "1   PARTIAL   14000   14000\n",
       "2  SEMANTIC  224370  224370\n",
       "3  TEMPORAL  441643  441643"
      ]
     },
     "execution_count": 491,
     "metadata": {},
     "output_type": "execute_result"
    }
   ],
   "source": [
    "describe_duplicates(final_submission)"
   ]
  },
  {
   "attachments": {},
   "cell_type": "markdown",
   "metadata": {},
   "source": [
    "## Experiments"
   ]
  },
  {
   "cell_type": "code",
   "execution_count": 492,
   "metadata": {},
   "outputs": [
    {
     "data": {
      "text/html": [
       "<div>\n",
       "<style scoped>\n",
       "    .dataframe tbody tr th:only-of-type {\n",
       "        vertical-align: middle;\n",
       "    }\n",
       "\n",
       "    .dataframe tbody tr th {\n",
       "        vertical-align: top;\n",
       "    }\n",
       "\n",
       "    .dataframe thead th {\n",
       "        text-align: right;\n",
       "    }\n",
       "</style>\n",
       "<table border=\"1\" class=\"dataframe\">\n",
       "  <thead>\n",
       "    <tr style=\"text-align: right;\">\n",
       "      <th></th>\n",
       "      <th>type</th>\n",
       "      <th>id1</th>\n",
       "      <th>id2</th>\n",
       "    </tr>\n",
       "  </thead>\n",
       "  <tbody>\n",
       "    <tr>\n",
       "      <th>0</th>\n",
       "      <td>FULL</td>\n",
       "      <td>63353</td>\n",
       "      <td>63353</td>\n",
       "    </tr>\n",
       "    <tr>\n",
       "      <th>1</th>\n",
       "      <td>PARTIAL</td>\n",
       "      <td>15389</td>\n",
       "      <td>15389</td>\n",
       "    </tr>\n",
       "    <tr>\n",
       "      <th>2</th>\n",
       "      <td>SEMANTIC</td>\n",
       "      <td>179088</td>\n",
       "      <td>179088</td>\n",
       "    </tr>\n",
       "    <tr>\n",
       "      <th>3</th>\n",
       "      <td>TEMPORAL</td>\n",
       "      <td>530120</td>\n",
       "      <td>530120</td>\n",
       "    </tr>\n",
       "  </tbody>\n",
       "</table>\n",
       "</div>"
      ],
      "text/plain": [
       "       type     id1     id2\n",
       "0      FULL   63353   63353\n",
       "1   PARTIAL   15389   15389\n",
       "2  SEMANTIC  179088  179088\n",
       "3  TEMPORAL  530120  530120"
      ]
     },
     "execution_count": 492,
     "metadata": {},
     "output_type": "execute_result"
    }
   ],
   "source": [
    "describe_duplicates(good_submission_BYL_10)"
   ]
  },
  {
   "cell_type": "code",
   "execution_count": 493,
   "metadata": {},
   "outputs": [
    {
     "data": {
      "text/html": [
       "<div>\n",
       "<style scoped>\n",
       "    .dataframe tbody tr th:only-of-type {\n",
       "        vertical-align: middle;\n",
       "    }\n",
       "\n",
       "    .dataframe tbody tr th {\n",
       "        vertical-align: top;\n",
       "    }\n",
       "\n",
       "    .dataframe thead th {\n",
       "        text-align: right;\n",
       "    }\n",
       "</style>\n",
       "<table border=\"1\" class=\"dataframe\">\n",
       "  <thead>\n",
       "    <tr style=\"text-align: right;\">\n",
       "      <th></th>\n",
       "      <th>type</th>\n",
       "      <th>id1</th>\n",
       "      <th>id2</th>\n",
       "    </tr>\n",
       "  </thead>\n",
       "  <tbody>\n",
       "    <tr>\n",
       "      <th>0</th>\n",
       "      <td>FULL</td>\n",
       "      <td>63363</td>\n",
       "      <td>63363</td>\n",
       "    </tr>\n",
       "    <tr>\n",
       "      <th>1</th>\n",
       "      <td>PARTIAL</td>\n",
       "      <td>31293</td>\n",
       "      <td>31293</td>\n",
       "    </tr>\n",
       "    <tr>\n",
       "      <th>2</th>\n",
       "      <td>SEMANTIC</td>\n",
       "      <td>186710</td>\n",
       "      <td>186710</td>\n",
       "    </tr>\n",
       "    <tr>\n",
       "      <th>3</th>\n",
       "      <td>TEMPORAL</td>\n",
       "      <td>678722</td>\n",
       "      <td>678722</td>\n",
       "    </tr>\n",
       "  </tbody>\n",
       "</table>\n",
       "</div>"
      ],
      "text/plain": [
       "       type     id1     id2\n",
       "0      FULL   63363   63363\n",
       "1   PARTIAL   31293   31293\n",
       "2  SEMANTIC  186710  186710\n",
       "3  TEMPORAL  678722  678722"
      ]
     },
     "execution_count": 493,
     "metadata": {},
     "output_type": "execute_result"
    }
   ],
   "source": [
    "describe_duplicates(initial_submission)"
   ]
  },
  {
   "cell_type": "code",
   "execution_count": 494,
   "metadata": {},
   "outputs": [
    {
     "name": "stdout",
     "output_type": "stream",
     "text": [
      "After filtering, 12223 rows removed\n"
     ]
    },
    {
     "data": {
      "text/html": [
       "<div>\n",
       "<style scoped>\n",
       "    .dataframe tbody tr th:only-of-type {\n",
       "        vertical-align: middle;\n",
       "    }\n",
       "\n",
       "    .dataframe tbody tr th {\n",
       "        vertical-align: top;\n",
       "    }\n",
       "\n",
       "    .dataframe thead th {\n",
       "        text-align: right;\n",
       "    }\n",
       "</style>\n",
       "<table border=\"1\" class=\"dataframe\">\n",
       "  <thead>\n",
       "    <tr style=\"text-align: right;\">\n",
       "      <th></th>\n",
       "      <th>type</th>\n",
       "      <th>id1</th>\n",
       "      <th>id2</th>\n",
       "    </tr>\n",
       "  </thead>\n",
       "  <tbody>\n",
       "    <tr>\n",
       "      <th>0</th>\n",
       "      <td>FULL</td>\n",
       "      <td>63353</td>\n",
       "      <td>63353</td>\n",
       "    </tr>\n",
       "    <tr>\n",
       "      <th>1</th>\n",
       "      <td>PARTIAL</td>\n",
       "      <td>3166</td>\n",
       "      <td>3166</td>\n",
       "    </tr>\n",
       "    <tr>\n",
       "      <th>2</th>\n",
       "      <td>SEMANTIC</td>\n",
       "      <td>179088</td>\n",
       "      <td>179088</td>\n",
       "    </tr>\n",
       "    <tr>\n",
       "      <th>3</th>\n",
       "      <td>TEMPORAL</td>\n",
       "      <td>530120</td>\n",
       "      <td>530120</td>\n",
       "    </tr>\n",
       "  </tbody>\n",
       "</table>\n",
       "</div>"
      ],
      "text/plain": [
       "       type     id1     id2\n",
       "0      FULL   63353   63353\n",
       "1   PARTIAL    3166    3166\n",
       "2  SEMANTIC  179088  179088\n",
       "3  TEMPORAL  530120  530120"
      ]
     },
     "execution_count": 494,
     "metadata": {},
     "output_type": "execute_result"
    }
   ],
   "source": [
    "diff_with_past = remove_observations_from_bad_submission(\n",
    "    good_submission_BYL_10,\n",
    "    initial_submission,\n",
    "    # good_submission_BYL_10,\n",
    "    ['PARTIAL']\n",
    ")\n",
    "\n",
    "describe_duplicates(diff_with_past)"
   ]
  },
  {
   "cell_type": "code",
   "execution_count": null,
   "metadata": {},
   "outputs": [],
   "source": []
  }
 ],
 "metadata": {
  "kernelspec": {
   "display_name": "base",
   "language": "python",
   "name": "python3"
  },
  "language_info": {
   "codemirror_mode": {
    "name": "ipython",
    "version": 3
   },
   "file_extension": ".py",
   "mimetype": "text/x-python",
   "name": "python",
   "nbconvert_exporter": "python",
   "pygments_lexer": "ipython3",
   "version": "3.10.9"
  },
  "orig_nbformat": 4
 },
 "nbformat": 4,
 "nbformat_minor": 2
}
