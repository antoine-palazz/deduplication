{
 "cells": [
  {
   "attachments": {},
   "cell_type": "markdown",
   "metadata": {},
   "source": [
    "# Use past bad submissions to filter out false duplicates"
   ]
  },
  {
   "attachments": {},
   "cell_type": "markdown",
   "metadata": {},
   "source": [
    "## Imports"
   ]
  },
  {
   "cell_type": "code",
   "execution_count": 46,
   "metadata": {},
   "outputs": [],
   "source": [
    "import pandas as pd\n",
    "import warnings\n",
    "warnings.filterwarnings('ignore')"
   ]
  },
  {
   "cell_type": "code",
   "execution_count": 47,
   "metadata": {},
   "outputs": [],
   "source": [
    "project_path = \"/home/onyxia/work/deduplication/\"\n",
    "path_07_model_output = \"data/07_model_output/\"\n",
    "path_09_past_submissions =  \"data/09_past_submissions/\""
   ]
  },
  {
   "attachments": {},
   "cell_type": "markdown",
   "metadata": {},
   "source": [
    "## Data"
   ]
  },
  {
   "cell_type": "code",
   "execution_count": 48,
   "metadata": {},
   "outputs": [],
   "source": [
    "current_submission = pd.read_csv(\n",
    "    project_path + path_07_model_output + 'best_duplicates.csv',\n",
    "    names=['id1', 'id2', 'type'],\n",
    "    lineterminator='\\n')"
   ]
  },
  {
   "cell_type": "code",
   "execution_count": 49,
   "metadata": {},
   "outputs": [],
   "source": [
    "bad_submission_AP_1 = pd.read_csv(\n",
    "    project_path + path_09_past_submissions + 'submission_1_AP.csv',\n",
    "    names=['id1', 'id2', 'type'],\n",
    "    lineterminator='\\n')\n",
    "\n",
    "good_submission_FB_8 = pd.read_csv(\n",
    "    project_path + path_09_past_submissions + 'submission_8_FB.csv',\n",
    "    names=['id1', 'id2', 'type'],\n",
    "    lineterminator='\\n')\n",
    "\n",
    "good_submission_AP_9 = pd.read_csv(\n",
    "    project_path + path_09_past_submissions + 'submission_9_AP.csv',\n",
    "    names=['id1', 'id2', 'type'],\n",
    "    lineterminator='\\n')"
   ]
  },
  {
   "attachments": {},
   "cell_type": "markdown",
   "metadata": {},
   "source": [
    "## Functions"
   ]
  },
  {
   "cell_type": "code",
   "execution_count": 50,
   "metadata": {},
   "outputs": [],
   "source": [
    "def describe_duplicates(all_duplicates: pd.DataFrame) -> pd.DataFrame:\n",
    "    duplicates_description = all_duplicates.groupby('type').count(\n",
    "    ).reset_index()\n",
    "    return duplicates_description"
   ]
  },
  {
   "cell_type": "code",
   "execution_count": 51,
   "metadata": {},
   "outputs": [],
   "source": [
    "def remove_observations_from_bad_submission(\n",
    "    current_submission: pd.DataFrame,\n",
    "    bad_submission: pd.DataFrame,\n",
    "    types_to_filter) -> pd.DataFrame:\n",
    "\n",
    "    len_before = len(current_submission)\n",
    "    bad_submission_filtered = bad_submission[bad_submission['type'].isin(types_to_filter)]\n",
    "\n",
    "    all_submissions = current_submission.merge(\n",
    "        bad_submission_filtered,\n",
    "        how='left',\n",
    "        on=['id1', 'id2', 'type'],\n",
    "        indicator=True)\n",
    "    new_current_submission = all_submissions[\n",
    "        all_submissions['_merge'] == 'left_only'\n",
    "    ][['id1', 'id2', 'type']]\n",
    "\n",
    "    len_after = len(new_current_submission)\n",
    "    print(f'After filtering, {len_before - len_after} rows removed')\n",
    "    return new_current_submission"
   ]
  },
  {
   "cell_type": "code",
   "execution_count": 52,
   "metadata": {},
   "outputs": [],
   "source": [
    "def mutualisation_with_good_submission(\n",
    "    current_submission: pd.DataFrame,\n",
    "    good_submission: pd.DataFrame,\n",
    "    replace_partials: bool = True\n",
    ") -> pd.DataFrame:\n",
    "\n",
    "    len_before = len(current_submission)\n",
    "\n",
    "    final_full = current_submission[current_submission['type'] == \"FULL\"]\n",
    "\n",
    "    current_semantic = current_submission[current_submission['type'] == \"SEMANTIC\"]\n",
    "    past_semantic = good_submission[good_submission['type'] == \"SEMANTIC\"]\n",
    "    final_semantic = pd.concat([current_semantic, past_semantic]).drop_duplicates()\n",
    "\n",
    "    current_temporal = current_submission[current_submission['type'] == \"TEMPORAL\"]\n",
    "    past_temporal = good_submission[good_submission['type'] == \"TEMPORAL\"]\n",
    "    final_temporal = pd.merge(current_temporal,\n",
    "                              past_temporal,\n",
    "                              how='inner',\n",
    "                              on=['id1', 'id2', 'type']\n",
    "                              )\n",
    "    \n",
    "    current_partial = current_submission[current_submission['type'] == \"PARTIAL\"]\n",
    "    final_partial = current_partial.copy()\n",
    "\n",
    "    if replace_partials:\n",
    "        past_large_semantic = good_submission[good_submission['type'].isin([\"SEMANTIC\", \"PARTIAL\"])][[\"id1\", \"id2\"]]\n",
    "        final_partial = pd.merge(current_partial,\n",
    "                                past_large_semantic,\n",
    "                                how='inner',\n",
    "                                on=['id1', 'id2']\n",
    "                                )\n",
    "\n",
    "    final_submission = pd.concat(\n",
    "        [final_full, final_partial, final_semantic, final_temporal]\n",
    "    ).drop_duplicates(\n",
    "        subset=['id1', 'id2']\n",
    "    ).sort_values(\n",
    "        by=['id1', 'id2']\n",
    "    ).reset_index(drop=True)\n",
    "\n",
    "    len_after = len(final_submission)\n",
    "    print(f'After filtering, {len_before - len_after} rows removed')\n",
    "    return final_submission"
   ]
  },
  {
   "attachments": {},
   "cell_type": "markdown",
   "metadata": {},
   "source": [
    "## Applications"
   ]
  },
  {
   "cell_type": "code",
   "execution_count": 70,
   "metadata": {},
   "outputs": [
    {
     "data": {
      "text/html": [
       "<div>\n",
       "<style scoped>\n",
       "    .dataframe tbody tr th:only-of-type {\n",
       "        vertical-align: middle;\n",
       "    }\n",
       "\n",
       "    .dataframe tbody tr th {\n",
       "        vertical-align: top;\n",
       "    }\n",
       "\n",
       "    .dataframe thead th {\n",
       "        text-align: right;\n",
       "    }\n",
       "</style>\n",
       "<table border=\"1\" class=\"dataframe\">\n",
       "  <thead>\n",
       "    <tr style=\"text-align: right;\">\n",
       "      <th></th>\n",
       "      <th>type</th>\n",
       "      <th>id1</th>\n",
       "      <th>id2</th>\n",
       "    </tr>\n",
       "  </thead>\n",
       "  <tbody>\n",
       "    <tr>\n",
       "      <th>0</th>\n",
       "      <td>FULL</td>\n",
       "      <td>63363</td>\n",
       "      <td>63363</td>\n",
       "    </tr>\n",
       "    <tr>\n",
       "      <th>1</th>\n",
       "      <td>PARTIAL</td>\n",
       "      <td>48885</td>\n",
       "      <td>48885</td>\n",
       "    </tr>\n",
       "    <tr>\n",
       "      <th>2</th>\n",
       "      <td>SEMANTIC</td>\n",
       "      <td>199113</td>\n",
       "      <td>199113</td>\n",
       "    </tr>\n",
       "    <tr>\n",
       "      <th>3</th>\n",
       "      <td>TEMPORAL</td>\n",
       "      <td>720167</td>\n",
       "      <td>720167</td>\n",
       "    </tr>\n",
       "  </tbody>\n",
       "</table>\n",
       "</div>"
      ],
      "text/plain": [
       "       type     id1     id2\n",
       "0      FULL   63363   63363\n",
       "1   PARTIAL   48885   48885\n",
       "2  SEMANTIC  199113  199113\n",
       "3  TEMPORAL  720167  720167"
      ]
     },
     "execution_count": 70,
     "metadata": {},
     "output_type": "execute_result"
    }
   ],
   "source": [
    "describe_duplicates(current_submission)"
   ]
  },
  {
   "cell_type": "code",
   "execution_count": 69,
   "metadata": {},
   "outputs": [
    {
     "name": "stdout",
     "output_type": "stream",
     "text": [
      "After filtering, 16168 rows removed\n"
     ]
    }
   ],
   "source": [
    "current_submission_filter_AP1 = remove_observations_from_bad_submission(\n",
    "    current_submission,\n",
    "    bad_submission_AP_1,\n",
    "    ['SEMANTIC', 'TEMPORAL', 'PARTIAL']\n",
    ")"
   ]
  },
  {
   "cell_type": "code",
   "execution_count": 63,
   "metadata": {},
   "outputs": [
    {
     "name": "stdout",
     "output_type": "stream",
     "text": [
      "After filtering, 183585 rows removed\n"
     ]
    }
   ],
   "source": [
    "current_submission_filter_FB_8 = mutualisation_with_good_submission(\n",
    "    current_submission_filter_AP1,\n",
    "    good_submission_FB_8,\n",
    "    replace_partials=True\n",
    ")"
   ]
  },
  {
   "cell_type": "code",
   "execution_count": null,
   "metadata": {},
   "outputs": [],
   "source": [
    "current_submission_filter_AP_9 = mutualisation_with_good_submission(\n",
    "    current_submission_filter_FB_8,\n",
    "    good_submission_FB_8,\n",
    "    replace_partials=True\n",
    ")"
   ]
  },
  {
   "cell_type": "code",
   "execution_count": null,
   "metadata": {},
   "outputs": [],
   "source": [
    "final_submission = remove_observations_from_bad_submission(\n",
    "    mutualized_submission,\n",
    "    bad_submission_AP_9,\n",
    "    ['SEMANTIC']\n",
    ")"
   ]
  },
  {
   "cell_type": "code",
   "execution_count": 64,
   "metadata": {},
   "outputs": [
    {
     "data": {
      "text/html": [
       "<div>\n",
       "<style scoped>\n",
       "    .dataframe tbody tr th:only-of-type {\n",
       "        vertical-align: middle;\n",
       "    }\n",
       "\n",
       "    .dataframe tbody tr th {\n",
       "        vertical-align: top;\n",
       "    }\n",
       "\n",
       "    .dataframe thead th {\n",
       "        text-align: right;\n",
       "    }\n",
       "</style>\n",
       "<table border=\"1\" class=\"dataframe\">\n",
       "  <thead>\n",
       "    <tr style=\"text-align: right;\">\n",
       "      <th></th>\n",
       "      <th>type</th>\n",
       "      <th>id1</th>\n",
       "      <th>id2</th>\n",
       "    </tr>\n",
       "  </thead>\n",
       "  <tbody>\n",
       "    <tr>\n",
       "      <th>0</th>\n",
       "      <td>FULL</td>\n",
       "      <td>63363</td>\n",
       "      <td>63363</td>\n",
       "    </tr>\n",
       "    <tr>\n",
       "      <th>1</th>\n",
       "      <td>PARTIAL</td>\n",
       "      <td>14910</td>\n",
       "      <td>14910</td>\n",
       "    </tr>\n",
       "    <tr>\n",
       "      <th>2</th>\n",
       "      <td>SEMANTIC</td>\n",
       "      <td>204381</td>\n",
       "      <td>204381</td>\n",
       "    </tr>\n",
       "    <tr>\n",
       "      <th>3</th>\n",
       "      <td>TEMPORAL</td>\n",
       "      <td>495273</td>\n",
       "      <td>495273</td>\n",
       "    </tr>\n",
       "  </tbody>\n",
       "</table>\n",
       "</div>"
      ],
      "text/plain": [
       "       type     id1     id2\n",
       "0      FULL   63363   63363\n",
       "1   PARTIAL   14910   14910\n",
       "2  SEMANTIC  204381  204381\n",
       "3  TEMPORAL  495273  495273"
      ]
     },
     "execution_count": 64,
     "metadata": {},
     "output_type": "execute_result"
    }
   ],
   "source": [
    "describe_duplicates(final_submission)"
   ]
  },
  {
   "cell_type": "code",
   "execution_count": 65,
   "metadata": {},
   "outputs": [],
   "source": [
    "final_submission.to_csv(\"duplicates.csv\", index=False, header=False)"
   ]
  },
  {
   "attachments": {},
   "cell_type": "markdown",
   "metadata": {},
   "source": [
    "## Final check"
   ]
  },
  {
   "cell_type": "code",
   "execution_count": 66,
   "metadata": {},
   "outputs": [],
   "source": [
    "final_final_submission = pd.read_csv('duplicates.csv',\n",
    "                                     names=['id1', 'id2', 'type'],\n",
    "                                     lineterminator='\\n')"
   ]
  },
  {
   "cell_type": "code",
   "execution_count": 67,
   "metadata": {},
   "outputs": [
    {
     "data": {
      "text/html": [
       "<div>\n",
       "<style scoped>\n",
       "    .dataframe tbody tr th:only-of-type {\n",
       "        vertical-align: middle;\n",
       "    }\n",
       "\n",
       "    .dataframe tbody tr th {\n",
       "        vertical-align: top;\n",
       "    }\n",
       "\n",
       "    .dataframe thead th {\n",
       "        text-align: right;\n",
       "    }\n",
       "</style>\n",
       "<table border=\"1\" class=\"dataframe\">\n",
       "  <thead>\n",
       "    <tr style=\"text-align: right;\">\n",
       "      <th></th>\n",
       "      <th>type</th>\n",
       "      <th>id1</th>\n",
       "      <th>id2</th>\n",
       "    </tr>\n",
       "  </thead>\n",
       "  <tbody>\n",
       "    <tr>\n",
       "      <th>0</th>\n",
       "      <td>FULL</td>\n",
       "      <td>63363</td>\n",
       "      <td>63363</td>\n",
       "    </tr>\n",
       "    <tr>\n",
       "      <th>1</th>\n",
       "      <td>PARTIAL</td>\n",
       "      <td>14910</td>\n",
       "      <td>14910</td>\n",
       "    </tr>\n",
       "    <tr>\n",
       "      <th>2</th>\n",
       "      <td>SEMANTIC</td>\n",
       "      <td>204381</td>\n",
       "      <td>204381</td>\n",
       "    </tr>\n",
       "    <tr>\n",
       "      <th>3</th>\n",
       "      <td>TEMPORAL</td>\n",
       "      <td>495273</td>\n",
       "      <td>495273</td>\n",
       "    </tr>\n",
       "  </tbody>\n",
       "</table>\n",
       "</div>"
      ],
      "text/plain": [
       "       type     id1     id2\n",
       "0      FULL   63363   63363\n",
       "1   PARTIAL   14910   14910\n",
       "2  SEMANTIC  204381  204381\n",
       "3  TEMPORAL  495273  495273"
      ]
     },
     "execution_count": 67,
     "metadata": {},
     "output_type": "execute_result"
    }
   ],
   "source": [
    "describe_duplicates(final_submission)"
   ]
  }
 ],
 "metadata": {
  "kernelspec": {
   "display_name": "base",
   "language": "python",
   "name": "python3"
  },
  "language_info": {
   "codemirror_mode": {
    "name": "ipython",
    "version": 3
   },
   "file_extension": ".py",
   "mimetype": "text/x-python",
   "name": "python",
   "nbconvert_exporter": "python",
   "pygments_lexer": "ipython3",
   "version": "3.10.9"
  },
  "orig_nbformat": 4
 },
 "nbformat": 4,
 "nbformat_minor": 2
}
