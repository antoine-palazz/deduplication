{
 "cells": [
  {
   "attachments": {},
   "cell_type": "markdown",
   "metadata": {},
   "source": [
    "# Notebook: Use past bad approaches to slightly improve the final results"
   ]
  },
  {
   "attachments": {},
   "cell_type": "markdown",
   "metadata": {},
   "source": [
    "Slight changes in the submission using:\n",
    "- Past submissions: the confusion matrix obtained when submitting can be used to eliminate non duplicates or add some certain ones\n",
    "- Manual checkings of the pairs: some pairs have been manually labelled during the time of the challenge and can be specified\n",
    "- Past non selected approaches, that we believe can eliminate some non duplicates from the submission\n",
    "\n",
    "Please note that the modifications on the submission operated in this notebook are not significant and were used to earn up to 0.01 in the macro-F1."
   ]
  },
  {
   "attachments": {},
   "cell_type": "markdown",
   "metadata": {},
   "source": [
    "## Imports"
   ]
  },
  {
   "cell_type": "code",
   "execution_count": 36,
   "metadata": {},
   "outputs": [],
   "source": [
    "import pandas as pd\n",
    "import warnings\n",
    "warnings.filterwarnings('ignore')"
   ]
  },
  {
   "cell_type": "code",
   "execution_count": 37,
   "metadata": {},
   "outputs": [],
   "source": [
    "project_path = \"/home/onyxia/work/deduplication/\"  # Needs to be changed by the user"
   ]
  },
  {
   "cell_type": "code",
   "execution_count": 38,
   "metadata": {},
   "outputs": [],
   "source": [
    "path_07_model_output = \"data/07_model_output/\"\n",
    "path_09_past_approaches =  \"data/09_past_approaches/\""
   ]
  },
  {
   "attachments": {},
   "cell_type": "markdown",
   "metadata": {},
   "source": [
    "## Data"
   ]
  },
  {
   "attachments": {},
   "cell_type": "markdown",
   "metadata": {},
   "source": [
    "Past approaches that were tested out during the challenge: either past submissions with results that can be re-used, or attempts that have been checked manually, or methods we believe could identify non duplicates with a high level of confidence"
   ]
  },
  {
   "cell_type": "code",
   "execution_count": 39,
   "metadata": {},
   "outputs": [],
   "source": [
    "initial_approach = pd.read_csv(\n",
    "    # project_path + path_07_model_output + 'best_duplicates.csv',\n",
    "    project_path + path_09_past_approaches + 'best_duplicates.csv',\n",
    "    names=['id1', 'id2', 'type'],\n",
    "    lineterminator='\\n')\n",
    "\n",
    "current_approach = initial_approach.copy()"
   ]
  },
  {
   "cell_type": "code",
   "execution_count": 40,
   "metadata": {},
   "outputs": [],
   "source": [
    "# approach_with_ner = pd.read_csv(\n",
    "#     # project_path + path_07_model_output + 'best_duplicates.csv',\n",
    "#     project_path + path_09_past_approaches + 'best_duplicates_ner.csv',\n",
    "#     names=['id1', 'id2', 'type'],\n",
    "#     lineterminator='\\n')"
   ]
  },
  {
   "cell_type": "code",
   "execution_count": 41,
   "metadata": {},
   "outputs": [],
   "source": [
    "bad_approach_AP_1 = pd.read_csv(\n",
    "    project_path + path_09_past_approaches + 'approach_AP_1.csv',\n",
    "    names=['id1', 'id2', 'type'], lineterminator='\\n')\n",
    "\n",
    "bad_approach_AP_6 = pd.read_csv(\n",
    "    project_path + path_09_past_approaches + 'approach_AP_6.csv',\n",
    "    names=['id1', 'id2', 'type'], lineterminator='\\n')\n",
    "\n",
    "bad_approach_FB_3 = pd.read_csv(\n",
    "    project_path + path_09_past_approaches + 'approach_FB_3.csv',\n",
    "    names=['id1', 'id2', 'type'], lineterminator='\\n')\n",
    "\n",
    "bad_approach_FB_6 = pd.read_csv(\n",
    "    project_path + path_09_past_approaches + 'approach_FB_6.csv',\n",
    "    names=['id1', 'id2', 'type'], lineterminator='\\n')\n",
    "\n",
    "bad_approach_BL_4 = pd.read_csv(\n",
    "    project_path + path_09_past_approaches + 'approach_BL_4.csv',\n",
    "    names=['id1', 'id2', 'type'], lineterminator='\\n')\n",
    "\n",
    "bad_approach_BL_5 = pd.read_csv(\n",
    "    project_path + path_09_past_approaches + 'approach_BL_5.csv',\n",
    "    names=['id1', 'id2', 'type'], lineterminator='\\n')\n",
    "\n",
    "bad_approach_BL_6 = pd.read_csv(\n",
    "    project_path + path_09_past_approaches + 'approach_BL_6.csv',\n",
    "    names=['id1', 'id2', 'type'], lineterminator='\\n')"
   ]
  },
  {
   "cell_type": "code",
   "execution_count": 42,
   "metadata": {},
   "outputs": [],
   "source": [
    "good_approach_AP_9 = pd.read_csv(\n",
    "    project_path + path_09_past_approaches + 'approach_AP_9.csv',\n",
    "    names=['id1', 'id2', 'type'], lineterminator='\\n')\n",
    "\n",
    "good_approach_BL_8 = pd.read_csv(\n",
    "    project_path + path_09_past_approaches + 'approach_BL_8.csv',\n",
    "    names=['id1', 'id2', 'type'], lineterminator='\\n')\n",
    "\n",
    "good_approach_BL_9 = pd.read_csv(\n",
    "    project_path + path_09_past_approaches + 'approach_BL_9.csv',\n",
    "    names=['id1', 'id2', 'type'], lineterminator='\\n')\n",
    "\n",
    "good_approach_BL_10 = pd.read_csv(\n",
    "    project_path + path_09_past_approaches + 'approach_BL_10.csv',\n",
    "    names=['id1', 'id2', 'type'], lineterminator='\\n')\n",
    "\n",
    "good_approach_AP_10 = pd.read_csv(\n",
    "    project_path + path_09_past_approaches + 'approach_AP_10.csv',\n",
    "    names=['id1', 'id2', 'type'], lineterminator='\\n')"
   ]
  },
  {
   "attachments": {},
   "cell_type": "markdown",
   "metadata": {},
   "source": [
    "## Functions"
   ]
  },
  {
   "cell_type": "code",
   "execution_count": 43,
   "metadata": {},
   "outputs": [],
   "source": [
    "def describe_duplicates(all_duplicates: pd.DataFrame) -> pd.DataFrame:\n",
    "    duplicates_description = all_duplicates.groupby('type').count(\n",
    "    ).reset_index()\n",
    "    return duplicates_description"
   ]
  },
  {
   "cell_type": "code",
   "execution_count": 44,
   "metadata": {},
   "outputs": [],
   "source": [
    "def remove_observations_from_bad_approach(\n",
    "    current_approach: pd.DataFrame,\n",
    "    bad_approach: pd.DataFrame,\n",
    "    types_to_filter\n",
    ") -> pd.DataFrame:\n",
    "\n",
    "    len_before = len(current_approach)\n",
    "    bad_approach_filtered = bad_approach[bad_approach['type'].isin(types_to_filter)]\n",
    "\n",
    "    all_approaches = current_approach.merge(\n",
    "        bad_approach_filtered,\n",
    "        how='left',\n",
    "        on=['id1', 'id2', 'type'],\n",
    "        indicator=True)\n",
    "    new_current_approach = all_approaches[\n",
    "        all_approaches['_merge'] == 'left_only'\n",
    "    ][['id1', 'id2', 'type']]\n",
    "\n",
    "    len_after = len(new_current_approach)\n",
    "    print(f'After filtering, {len_before - len_after} rows removed')\n",
    "    return new_current_approach"
   ]
  },
  {
   "cell_type": "code",
   "execution_count": 45,
   "metadata": {},
   "outputs": [],
   "source": [
    "def remove_observations_from_df_non_duplicates(\n",
    "    current_approach: pd.DataFrame,\n",
    "    non_duplicates: pd.DataFrame\n",
    ") -> pd.DataFrame:\n",
    "\n",
    "    len_before = len(current_approach)\n",
    "    all_approaches = current_approach.merge(\n",
    "        non_duplicates[['id1', 'id2']],\n",
    "        how='left',\n",
    "        on=['id1', 'id2'],\n",
    "        indicator=True)\n",
    "    new_current_approach = all_approaches[\n",
    "        all_approaches['_merge'] == 'left_only'\n",
    "    ][['id1', 'id2', 'type']]\n",
    "\n",
    "    len_after = len(new_current_approach)\n",
    "    print(f'After filtering, {len_before - len_after} rows removed')\n",
    "    return new_current_approach"
   ]
  },
  {
   "cell_type": "code",
   "execution_count": 46,
   "metadata": {},
   "outputs": [],
   "source": [
    "def add_specific_duplicates(\n",
    "    current_approach: pd.DataFrame,\n",
    "    past_approach: pd.DataFrame,\n",
    "    types_to_add: list,\n",
    "    new_type: str\n",
    ") -> pd.DataFrame:\n",
    "\n",
    "    past_to_change = past_approach[past_approach[\"type\"].isin(types_to_add)]\n",
    "    past_to_change[\"type\"] = new_type\n",
    "    print(f'At most {len(past_to_change)} observations modified or added')\n",
    "\n",
    "    final_approach = pd.concat([past_to_change, current_approach]).drop_duplicates(\n",
    "        subset=['id1', 'id2']\n",
    "    ).sort_values(\n",
    "        by=['id1', 'id2']\n",
    "    ).reset_index(drop=True)\n",
    "\n",
    "    print(f'{len(final_approach) - len(current_approach)} rows added')\n",
    "    print(\n",
    "        f'{len(current_approach[current_approach[\"type\"].isin(types_to_add)]) - len(final_approach[final_approach[\"type\"].isin(types_to_add)])} of {types_to_add} have been changed'\n",
    "    )\n",
    "    return final_approach"
   ]
  },
  {
   "cell_type": "code",
   "execution_count": 47,
   "metadata": {},
   "outputs": [],
   "source": [
    "def mutualisation_with_good_approach(\n",
    "    current_approach: pd.DataFrame,\n",
    "    good_approach: pd.DataFrame,\n",
    "    use_semantic: bool,\n",
    "    use_temporal: bool,\n",
    "    union_temporal: bool,\n",
    "    reduce_partials: bool,\n",
    "    replace_partials: bool\n",
    ") -> pd.DataFrame:\n",
    "\n",
    "    len_before = len(current_approach)\n",
    "\n",
    "    final_full = current_approach[current_approach['type'] == \"FULL\"]\n",
    "\n",
    "    current_semantic = current_approach[current_approach['type'] == \"SEMANTIC\"]\n",
    "    if use_semantic:\n",
    "        past_semantic = good_approach[good_approach['type'] == \"SEMANTIC\"]\n",
    "        final_semantic = pd.concat([current_semantic, past_semantic]).drop_duplicates()\n",
    "    else:\n",
    "        final_semantic = current_semantic.copy()\n",
    "\n",
    "    current_temporal = current_approach[current_approach['type'] == \"TEMPORAL\"]\n",
    "    if use_temporal:\n",
    "        past_temporal = good_approach[good_approach['type'] == \"TEMPORAL\"]\n",
    "        if union_temporal:\n",
    "            final_temporal = pd.concat([current_temporal, past_temporal]).drop_duplicates()\n",
    "        else:\n",
    "            final_temporal = pd.merge(current_temporal,\n",
    "                                    past_temporal,\n",
    "                                    how='inner',\n",
    "                                    on=['id1', 'id2', 'type']\n",
    "                                    )\n",
    "    else:\n",
    "        final_temporal = current_temporal.copy()\n",
    "    \n",
    "    current_partial = current_approach[current_approach['type'] == \"PARTIAL\"]\n",
    "    past_partial = good_approach[good_approach['type'] == \"PARTIAL\"]\n",
    "\n",
    "    if replace_partials:\n",
    "        final_partial = past_partial.copy()\n",
    "    else:\n",
    "        final_partial = current_partial.copy()\n",
    "\n",
    "    if reduce_partials:\n",
    "        past_large_semantic = good_approach[good_approach['type'].isin([\"SEMANTIC\", \"PARTIAL\"])][[\"id1\", \"id2\"]]\n",
    "        final_partial = pd.merge(final_partial,\n",
    "                                 past_large_semantic,\n",
    "                                 how='inner',\n",
    "                                 on=['id1', 'id2']\n",
    "                                )\n",
    "\n",
    "    final_approach = pd.concat(\n",
    "        [final_full, final_partial, final_semantic, final_temporal]\n",
    "    ).drop_duplicates(\n",
    "        subset=['id1', 'id2']\n",
    "    ).sort_values(\n",
    "        by=['id1', 'id2']\n",
    "    ).reset_index(drop=True)\n",
    "\n",
    "    len_after = len(final_approach)\n",
    "    print(f'After filtering, {len_before - len_after} rows removed')\n",
    "    return final_approach"
   ]
  },
  {
   "cell_type": "code",
   "execution_count": 48,
   "metadata": {},
   "outputs": [],
   "source": [
    "def aggregate_partials(\n",
    "    list_approaches: pd.DataFrame\n",
    ") -> pd.DataFrame:\n",
    "\n",
    "    list_partials = [\n",
    "        approach[approach[\"type\"] == 'PARTIAL'] for approach in list_approaches\n",
    "    ]\n",
    "\n",
    "    final_partials =  pd.concat(list_partials).drop_duplicates()\n",
    "    len_partials = len(final_partials)\n",
    "\n",
    "    print(f'There are {len_partials} sure non duplicates from partials analysis')\n",
    "    return final_partials"
   ]
  },
  {
   "attachments": {},
   "cell_type": "markdown",
   "metadata": {},
   "source": [
    "## Applications"
   ]
  },
  {
   "cell_type": "code",
   "execution_count": 49,
   "metadata": {},
   "outputs": [
    {
     "data": {
      "text/html": [
       "<div>\n",
       "<style scoped>\n",
       "    .dataframe tbody tr th:only-of-type {\n",
       "        vertical-align: middle;\n",
       "    }\n",
       "\n",
       "    .dataframe tbody tr th {\n",
       "        vertical-align: top;\n",
       "    }\n",
       "\n",
       "    .dataframe thead th {\n",
       "        text-align: right;\n",
       "    }\n",
       "</style>\n",
       "<table border=\"1\" class=\"dataframe\">\n",
       "  <thead>\n",
       "    <tr style=\"text-align: right;\">\n",
       "      <th></th>\n",
       "      <th>type</th>\n",
       "      <th>id1</th>\n",
       "      <th>id2</th>\n",
       "    </tr>\n",
       "  </thead>\n",
       "  <tbody>\n",
       "    <tr>\n",
       "      <th>0</th>\n",
       "      <td>FULL</td>\n",
       "      <td>63363</td>\n",
       "      <td>63363</td>\n",
       "    </tr>\n",
       "    <tr>\n",
       "      <th>1</th>\n",
       "      <td>PARTIAL</td>\n",
       "      <td>31032</td>\n",
       "      <td>31032</td>\n",
       "    </tr>\n",
       "    <tr>\n",
       "      <th>2</th>\n",
       "      <td>SEMANTIC</td>\n",
       "      <td>186753</td>\n",
       "      <td>186753</td>\n",
       "    </tr>\n",
       "    <tr>\n",
       "      <th>3</th>\n",
       "      <td>TEMPORAL</td>\n",
       "      <td>679772</td>\n",
       "      <td>679772</td>\n",
       "    </tr>\n",
       "  </tbody>\n",
       "</table>\n",
       "</div>"
      ],
      "text/plain": [
       "       type     id1     id2\n",
       "0      FULL   63363   63363\n",
       "1   PARTIAL   31032   31032\n",
       "2  SEMANTIC  186753  186753\n",
       "3  TEMPORAL  679772  679772"
      ]
     },
     "execution_count": 49,
     "metadata": {},
     "output_type": "execute_result"
    }
   ],
   "source": [
    "describe_duplicates(current_approach)"
   ]
  },
  {
   "attachments": {},
   "cell_type": "markdown",
   "metadata": {},
   "source": [
    "### Gather those that are for sure not duplicates"
   ]
  },
  {
   "cell_type": "code",
   "execution_count": 50,
   "metadata": {},
   "outputs": [
    {
     "name": "stdout",
     "output_type": "stream",
     "text": [
      "There are 3566 sure non duplicates from partials analysis\n"
     ]
    }
   ],
   "source": [
    "non_duplicates_AP = aggregate_partials([\n",
    "    bad_approach_AP_6,\n",
    "    bad_approach_FB_3,\n",
    "    bad_approach_BL_4,\n",
    "    bad_approach_BL_5,\n",
    "    bad_approach_BL_6\n",
    "])\n",
    "\n",
    "non_duplicates_AP['type'] = \"NON\""
   ]
  },
  {
   "cell_type": "code",
   "execution_count": 51,
   "metadata": {},
   "outputs": [],
   "source": [
    "non_duplicates_AP.to_csv(\"non_duplicates_AP.csv\", index=False, header=False)"
   ]
  },
  {
   "cell_type": "code",
   "execution_count": 52,
   "metadata": {},
   "outputs": [
    {
     "data": {
      "text/plain": [
       "8498"
      ]
     },
     "execution_count": 52,
     "metadata": {},
     "output_type": "execute_result"
    }
   ],
   "source": [
    "# Not very reliable\n",
    "\n",
    "non_duplicates_BL = pd.read_csv('non_duplicates_BL.csv',\n",
    "    names=['id1', 'id2', 'type'],\n",
    "    lineterminator='\\n')\n",
    "\n",
    "len(non_duplicates_BL)"
   ]
  },
  {
   "attachments": {},
   "cell_type": "markdown",
   "metadata": {},
   "source": [
    "### Complete with good approaches"
   ]
  },
  {
   "cell_type": "code",
   "execution_count": 53,
   "metadata": {},
   "outputs": [
    {
     "name": "stdout",
     "output_type": "stream",
     "text": [
      "At most 14000 observations modified or added\n",
      "80 rows added\n",
      "-2502 of ['PARTIAL'] have been changed\n"
     ]
    }
   ],
   "source": [
    "# current_approach = mutualisation_with_good_approach(\n",
    "#     current_approach,\n",
    "#     good_approach_BL_10,\n",
    "#     use_semantic=False,\n",
    "#     use_temporal=False,\n",
    "#     union_temporal=False,\n",
    "#     reduce_partials=False,\n",
    "#     replace_partials=False\n",
    "# )\n",
    "\n",
    "current_approach = add_specific_duplicates(\n",
    "    current_approach,\n",
    "    good_approach_AP_10,\n",
    "    types_to_add=['PARTIAL'],\n",
    "    new_type=\"PARTIAL\"\n",
    ")"
   ]
  },
  {
   "cell_type": "code",
   "execution_count": 54,
   "metadata": {},
   "outputs": [
    {
     "name": "stdout",
     "output_type": "stream",
     "text": [
      "At most 8134 observations modified or added\n",
      "3247 rows added\n",
      "902 of ['PARTIAL'] have been changed\n"
     ]
    }
   ],
   "source": [
    "current_approach = add_specific_duplicates(\n",
    "    current_approach,\n",
    "    good_approach_BL_9,\n",
    "    types_to_add=['PARTIAL'],\n",
    "    new_type=\"SEMANTIC\"\n",
    ")"
   ]
  },
  {
   "cell_type": "code",
   "execution_count": 55,
   "metadata": {},
   "outputs": [
    {
     "name": "stdout",
     "output_type": "stream",
     "text": [
      "After filtering, -26737 rows removed\n"
     ]
    }
   ],
   "source": [
    "current_approach = mutualisation_with_good_approach(\n",
    "    current_approach,\n",
    "    good_approach_AP_9,\n",
    "    use_semantic=True,\n",
    "    use_temporal=False,\n",
    "    union_temporal=False,\n",
    "    reduce_partials=True,\n",
    "    replace_partials=False\n",
    ")"
   ]
  },
  {
   "cell_type": "code",
   "execution_count": 56,
   "metadata": {},
   "outputs": [
    {
     "name": "stdout",
     "output_type": "stream",
     "text": [
      "After filtering, -1050 rows removed\n"
     ]
    }
   ],
   "source": [
    "current_approach = mutualisation_with_good_approach(\n",
    "    current_approach,\n",
    "    good_approach_BL_8,\n",
    "    use_semantic=True,\n",
    "    use_temporal=False,\n",
    "    union_temporal=False,\n",
    "    reduce_partials=False,\n",
    "    replace_partials=False\n",
    ")"
   ]
  },
  {
   "cell_type": "code",
   "execution_count": 57,
   "metadata": {},
   "outputs": [
    {
     "name": "stdout",
     "output_type": "stream",
     "text": [
      "After filtering, 237101 rows removed\n"
     ]
    }
   ],
   "source": [
    "current_approach = mutualisation_with_good_approach(\n",
    "    current_approach,\n",
    "    good_approach_BL_9,\n",
    "    use_semantic=False,\n",
    "    use_temporal=True,\n",
    "    union_temporal=False,\n",
    "    reduce_partials=False,\n",
    "    replace_partials=False\n",
    ")"
   ]
  },
  {
   "cell_type": "code",
   "execution_count": 58,
   "metadata": {},
   "outputs": [
    {
     "data": {
      "text/html": [
       "<div>\n",
       "<style scoped>\n",
       "    .dataframe tbody tr th:only-of-type {\n",
       "        vertical-align: middle;\n",
       "    }\n",
       "\n",
       "    .dataframe tbody tr th {\n",
       "        vertical-align: top;\n",
       "    }\n",
       "\n",
       "    .dataframe thead th {\n",
       "        text-align: right;\n",
       "    }\n",
       "</style>\n",
       "<table border=\"1\" class=\"dataframe\">\n",
       "  <thead>\n",
       "    <tr style=\"text-align: right;\">\n",
       "      <th></th>\n",
       "      <th>type</th>\n",
       "      <th>id1</th>\n",
       "      <th>id2</th>\n",
       "    </tr>\n",
       "  </thead>\n",
       "  <tbody>\n",
       "    <tr>\n",
       "      <th>0</th>\n",
       "      <td>FULL</td>\n",
       "      <td>63363</td>\n",
       "      <td>63363</td>\n",
       "    </tr>\n",
       "    <tr>\n",
       "      <th>1</th>\n",
       "      <td>PARTIAL</td>\n",
       "      <td>27109</td>\n",
       "      <td>27109</td>\n",
       "    </tr>\n",
       "    <tr>\n",
       "      <th>2</th>\n",
       "      <td>SEMANTIC</td>\n",
       "      <td>221790</td>\n",
       "      <td>221790</td>\n",
       "    </tr>\n",
       "    <tr>\n",
       "      <th>3</th>\n",
       "      <td>TEMPORAL</td>\n",
       "      <td>442671</td>\n",
       "      <td>442671</td>\n",
       "    </tr>\n",
       "  </tbody>\n",
       "</table>\n",
       "</div>"
      ],
      "text/plain": [
       "       type     id1     id2\n",
       "0      FULL   63363   63363\n",
       "1   PARTIAL   27109   27109\n",
       "2  SEMANTIC  221790  221790\n",
       "3  TEMPORAL  442671  442671"
      ]
     },
     "execution_count": 58,
     "metadata": {},
     "output_type": "execute_result"
    }
   ],
   "source": [
    "describe_duplicates(current_approach)"
   ]
  },
  {
   "attachments": {},
   "cell_type": "markdown",
   "metadata": {},
   "source": [
    "### Remove false duplicates"
   ]
  },
  {
   "cell_type": "code",
   "execution_count": 59,
   "metadata": {},
   "outputs": [
    {
     "name": "stdout",
     "output_type": "stream",
     "text": [
      "After filtering, 10289 rows removed\n"
     ]
    }
   ],
   "source": [
    "# NOT SURE TO KEEP YET\n",
    "\n",
    "current_approach = remove_observations_from_bad_approach(\n",
    "    current_approach,\n",
    "    bad_approach_AP_1,\n",
    "    ['SEMANTIC']\n",
    ")\n",
    "\n",
    "# current_approach = remove_observations_from_bad_approach(\n",
    "#     current_approach,\n",
    "#     bad_approach_AP_1,\n",
    "#     ['TEMPORAL']\n",
    "# )"
   ]
  },
  {
   "cell_type": "code",
   "execution_count": 60,
   "metadata": {},
   "outputs": [
    {
     "data": {
      "text/html": [
       "<div>\n",
       "<style scoped>\n",
       "    .dataframe tbody tr th:only-of-type {\n",
       "        vertical-align: middle;\n",
       "    }\n",
       "\n",
       "    .dataframe tbody tr th {\n",
       "        vertical-align: top;\n",
       "    }\n",
       "\n",
       "    .dataframe thead th {\n",
       "        text-align: right;\n",
       "    }\n",
       "</style>\n",
       "<table border=\"1\" class=\"dataframe\">\n",
       "  <thead>\n",
       "    <tr style=\"text-align: right;\">\n",
       "      <th></th>\n",
       "      <th>type</th>\n",
       "      <th>id1</th>\n",
       "      <th>id2</th>\n",
       "    </tr>\n",
       "  </thead>\n",
       "  <tbody>\n",
       "    <tr>\n",
       "      <th>0</th>\n",
       "      <td>FULL</td>\n",
       "      <td>63363</td>\n",
       "      <td>63363</td>\n",
       "    </tr>\n",
       "    <tr>\n",
       "      <th>1</th>\n",
       "      <td>PARTIAL</td>\n",
       "      <td>27109</td>\n",
       "      <td>27109</td>\n",
       "    </tr>\n",
       "    <tr>\n",
       "      <th>2</th>\n",
       "      <td>SEMANTIC</td>\n",
       "      <td>211501</td>\n",
       "      <td>211501</td>\n",
       "    </tr>\n",
       "    <tr>\n",
       "      <th>3</th>\n",
       "      <td>TEMPORAL</td>\n",
       "      <td>442671</td>\n",
       "      <td>442671</td>\n",
       "    </tr>\n",
       "  </tbody>\n",
       "</table>\n",
       "</div>"
      ],
      "text/plain": [
       "       type     id1     id2\n",
       "0      FULL   63363   63363\n",
       "1   PARTIAL   27109   27109\n",
       "2  SEMANTIC  211501  211501\n",
       "3  TEMPORAL  442671  442671"
      ]
     },
     "execution_count": 60,
     "metadata": {},
     "output_type": "execute_result"
    }
   ],
   "source": [
    "describe_duplicates(current_approach)"
   ]
  },
  {
   "attachments": {},
   "cell_type": "markdown",
   "metadata": {},
   "source": [
    "### Remove non duplicates"
   ]
  },
  {
   "cell_type": "code",
   "execution_count": 61,
   "metadata": {},
   "outputs": [
    {
     "name": "stdout",
     "output_type": "stream",
     "text": [
      "After filtering, 849 rows removed\n"
     ]
    }
   ],
   "source": [
    "current_approach = remove_observations_from_df_non_duplicates(\n",
    "    current_approach,\n",
    "    non_duplicates_AP\n",
    ")"
   ]
  },
  {
   "cell_type": "code",
   "execution_count": 62,
   "metadata": {},
   "outputs": [],
   "source": [
    "# current_approach = remove_observations_from_df_non_duplicates(\n",
    "#     current_approach,\n",
    "#     non_duplicates_BL\n",
    "# )"
   ]
  },
  {
   "attachments": {},
   "cell_type": "markdown",
   "metadata": {},
   "source": [
    "## Check results"
   ]
  },
  {
   "cell_type": "code",
   "execution_count": 63,
   "metadata": {},
   "outputs": [
    {
     "data": {
      "text/html": [
       "<div>\n",
       "<style scoped>\n",
       "    .dataframe tbody tr th:only-of-type {\n",
       "        vertical-align: middle;\n",
       "    }\n",
       "\n",
       "    .dataframe tbody tr th {\n",
       "        vertical-align: top;\n",
       "    }\n",
       "\n",
       "    .dataframe thead th {\n",
       "        text-align: right;\n",
       "    }\n",
       "</style>\n",
       "<table border=\"1\" class=\"dataframe\">\n",
       "  <thead>\n",
       "    <tr style=\"text-align: right;\">\n",
       "      <th></th>\n",
       "      <th>type</th>\n",
       "      <th>id1</th>\n",
       "      <th>id2</th>\n",
       "    </tr>\n",
       "  </thead>\n",
       "  <tbody>\n",
       "    <tr>\n",
       "      <th>0</th>\n",
       "      <td>FULL</td>\n",
       "      <td>63363</td>\n",
       "      <td>63363</td>\n",
       "    </tr>\n",
       "    <tr>\n",
       "      <th>1</th>\n",
       "      <td>PARTIAL</td>\n",
       "      <td>27109</td>\n",
       "      <td>27109</td>\n",
       "    </tr>\n",
       "    <tr>\n",
       "      <th>2</th>\n",
       "      <td>SEMANTIC</td>\n",
       "      <td>211469</td>\n",
       "      <td>211469</td>\n",
       "    </tr>\n",
       "    <tr>\n",
       "      <th>3</th>\n",
       "      <td>TEMPORAL</td>\n",
       "      <td>441854</td>\n",
       "      <td>441854</td>\n",
       "    </tr>\n",
       "  </tbody>\n",
       "</table>\n",
       "</div>"
      ],
      "text/plain": [
       "       type     id1     id2\n",
       "0      FULL   63363   63363\n",
       "1   PARTIAL   27109   27109\n",
       "2  SEMANTIC  211469  211469\n",
       "3  TEMPORAL  441854  441854"
      ]
     },
     "execution_count": 63,
     "metadata": {},
     "output_type": "execute_result"
    }
   ],
   "source": [
    "describe_duplicates(current_approach)"
   ]
  },
  {
   "cell_type": "code",
   "execution_count": 69,
   "metadata": {},
   "outputs": [],
   "source": [
    "current_approach.to_csv(\"duplicates.csv\", index=False, header=False)"
   ]
  },
  {
   "attachments": {},
   "cell_type": "markdown",
   "metadata": {},
   "source": [
    "## Final check"
   ]
  },
  {
   "cell_type": "code",
   "execution_count": 70,
   "metadata": {},
   "outputs": [],
   "source": [
    "final_approach = pd.read_csv('duplicates.csv',\n",
    "                               names=['id1', 'id2', 'type'],\n",
    "                               lineterminator='\\n')"
   ]
  },
  {
   "cell_type": "code",
   "execution_count": 71,
   "metadata": {},
   "outputs": [
    {
     "data": {
      "text/html": [
       "<div>\n",
       "<style scoped>\n",
       "    .dataframe tbody tr th:only-of-type {\n",
       "        vertical-align: middle;\n",
       "    }\n",
       "\n",
       "    .dataframe tbody tr th {\n",
       "        vertical-align: top;\n",
       "    }\n",
       "\n",
       "    .dataframe thead th {\n",
       "        text-align: right;\n",
       "    }\n",
       "</style>\n",
       "<table border=\"1\" class=\"dataframe\">\n",
       "  <thead>\n",
       "    <tr style=\"text-align: right;\">\n",
       "      <th></th>\n",
       "      <th>type</th>\n",
       "      <th>id1</th>\n",
       "      <th>id2</th>\n",
       "    </tr>\n",
       "  </thead>\n",
       "  <tbody>\n",
       "    <tr>\n",
       "      <th>0</th>\n",
       "      <td>FULL</td>\n",
       "      <td>63363</td>\n",
       "      <td>63363</td>\n",
       "    </tr>\n",
       "    <tr>\n",
       "      <th>1</th>\n",
       "      <td>PARTIAL</td>\n",
       "      <td>27109</td>\n",
       "      <td>27109</td>\n",
       "    </tr>\n",
       "    <tr>\n",
       "      <th>2</th>\n",
       "      <td>SEMANTIC</td>\n",
       "      <td>211469</td>\n",
       "      <td>211469</td>\n",
       "    </tr>\n",
       "    <tr>\n",
       "      <th>3</th>\n",
       "      <td>TEMPORAL</td>\n",
       "      <td>441854</td>\n",
       "      <td>441854</td>\n",
       "    </tr>\n",
       "  </tbody>\n",
       "</table>\n",
       "</div>"
      ],
      "text/plain": [
       "       type     id1     id2\n",
       "0      FULL   63363   63363\n",
       "1   PARTIAL   27109   27109\n",
       "2  SEMANTIC  211469  211469\n",
       "3  TEMPORAL  441854  441854"
      ]
     },
     "execution_count": 71,
     "metadata": {},
     "output_type": "execute_result"
    }
   ],
   "source": [
    "describe_duplicates(final_approach)"
   ]
  },
  {
   "attachments": {},
   "cell_type": "markdown",
   "metadata": {},
   "source": [
    "## Experiments"
   ]
  },
  {
   "cell_type": "code",
   "execution_count": 67,
   "metadata": {},
   "outputs": [
    {
     "data": {
      "text/html": [
       "<div>\n",
       "<style scoped>\n",
       "    .dataframe tbody tr th:only-of-type {\n",
       "        vertical-align: middle;\n",
       "    }\n",
       "\n",
       "    .dataframe tbody tr th {\n",
       "        vertical-align: top;\n",
       "    }\n",
       "\n",
       "    .dataframe thead th {\n",
       "        text-align: right;\n",
       "    }\n",
       "</style>\n",
       "<table border=\"1\" class=\"dataframe\">\n",
       "  <thead>\n",
       "    <tr style=\"text-align: right;\">\n",
       "      <th></th>\n",
       "      <th>type</th>\n",
       "      <th>id1</th>\n",
       "      <th>id2</th>\n",
       "    </tr>\n",
       "  </thead>\n",
       "  <tbody>\n",
       "    <tr>\n",
       "      <th>0</th>\n",
       "      <td>FULL</td>\n",
       "      <td>63363</td>\n",
       "      <td>63363</td>\n",
       "    </tr>\n",
       "    <tr>\n",
       "      <th>1</th>\n",
       "      <td>PARTIAL</td>\n",
       "      <td>31032</td>\n",
       "      <td>31032</td>\n",
       "    </tr>\n",
       "    <tr>\n",
       "      <th>2</th>\n",
       "      <td>SEMANTIC</td>\n",
       "      <td>186753</td>\n",
       "      <td>186753</td>\n",
       "    </tr>\n",
       "    <tr>\n",
       "      <th>3</th>\n",
       "      <td>TEMPORAL</td>\n",
       "      <td>679772</td>\n",
       "      <td>679772</td>\n",
       "    </tr>\n",
       "  </tbody>\n",
       "</table>\n",
       "</div>"
      ],
      "text/plain": [
       "       type     id1     id2\n",
       "0      FULL   63363   63363\n",
       "1   PARTIAL   31032   31032\n",
       "2  SEMANTIC  186753  186753\n",
       "3  TEMPORAL  679772  679772"
      ]
     },
     "execution_count": 67,
     "metadata": {},
     "output_type": "execute_result"
    }
   ],
   "source": [
    "describe_duplicates(initial_approach)"
   ]
  },
  {
   "cell_type": "code",
   "execution_count": 68,
   "metadata": {},
   "outputs": [],
   "source": [
    "# describe_duplicates(approach_with_ner)"
   ]
  }
 ],
 "metadata": {
  "kernelspec": {
   "display_name": "base",
   "language": "python",
   "name": "python3"
  },
  "language_info": {
   "codemirror_mode": {
    "name": "ipython",
    "version": 3
   },
   "file_extension": ".py",
   "mimetype": "text/x-python",
   "name": "python",
   "nbconvert_exporter": "python",
   "pygments_lexer": "ipython3",
   "version": "3.10.9"
  },
  "orig_nbformat": 4
 },
 "nbformat": 4,
 "nbformat_minor": 2
}
