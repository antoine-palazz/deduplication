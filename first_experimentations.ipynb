{
 "cells": [
  {
   "cell_type": "markdown",
   "id": "09ffef94-6bdc-4755-b63f-a9d37de5b487",
   "metadata": {},
   "source": [
    "# OJA Deduplication Challenge"
   ]
  },
  {
   "cell_type": "markdown",
   "id": "fd688565-deed-4585-a0ee-df0d4ec05a21",
   "metadata": {},
   "source": [
    "## Imports"
   ]
  },
  {
   "cell_type": "markdown",
   "id": "c8bb78e8-4f53-4270-a8b4-741d8f2c0b61",
   "metadata": {},
   "source": [
    "### Packages"
   ]
  },
  {
   "cell_type": "code",
   "execution_count": 57,
   "id": "2b6c7865-e3c1-4965-8bb5-7a6a60278116",
   "metadata": {
    "tags": []
   },
   "outputs": [],
   "source": [
    "import os\n",
    "import warnings\n",
    "\n",
    "import pandas as pd\n",
    "from tqdm import tqdm\n",
    "\n",
    "from Levenshtein import distance\n",
    "from sklearn.feature_extraction.text import TfidfVectorizer\n",
    "from sklearn.metrics.pairwise import cosine_similarity"
   ]
  },
  {
   "cell_type": "code",
   "execution_count": 52,
   "id": "81af9666-2fea-48af-8e94-080099027bbd",
   "metadata": {
    "tags": []
   },
   "outputs": [],
   "source": [
    "warnings.filterwarnings('ignore')"
   ]
  },
  {
   "cell_type": "markdown",
   "id": "75d5b862-14be-4b4a-b483-99acb9aa32af",
   "metadata": {},
   "source": [
    "### Data"
   ]
  },
  {
   "cell_type": "code",
   "execution_count": 6,
   "id": "91198bd1-39c3-4757-8116-f482e34efff5",
   "metadata": {
    "tags": []
   },
   "outputs": [
    {
     "name": "stdout",
     "output_type": "stream",
     "text": [
      "`s3/apalazzolo/Deduplication/wi_dataset.csv` -> `wi_dataset.csv`\n",
      "Total: 0 B, Transferred: 203.23 MiB, Speed: 149.45 MiB/s\n"
     ]
    },
    {
     "data": {
      "text/plain": [
       "0"
      ]
     },
     "execution_count": 6,
     "metadata": {},
     "output_type": "execute_result"
    }
   ],
   "source": [
    "# Import from s3\n",
    "os.system(f\"mc cp s3/apalazzolo/Deduplication/wi_dataset.csv wi_dataset.csv\")"
   ]
  },
  {
   "cell_type": "code",
   "execution_count": 73,
   "id": "ccd17c6a-d756-4f6c-a68a-6e54de7da6e8",
   "metadata": {
    "tags": []
   },
   "outputs": [],
   "source": [
    "original_data = pd.read_csv('wi_dataset.csv',\n",
    "                            lineterminator='\\n')"
   ]
  },
  {
   "cell_type": "code",
   "execution_count": 95,
   "id": "e62c5376-0970-4f41-85a5-d4368d0ea36b",
   "metadata": {
    "tags": []
   },
   "outputs": [],
   "source": [
    "# For now let's work with a smaller extract\n",
    "data = original_data#.head(1000)"
   ]
  },
  {
   "cell_type": "code",
   "execution_count": 96,
   "id": "4e5dfc93-bc75-4fd4-b4fe-98398b8116a6",
   "metadata": {
    "tags": []
   },
   "outputs": [
    {
     "data": {
      "text/plain": [
       "10000"
      ]
     },
     "execution_count": 96,
     "metadata": {},
     "output_type": "execute_result"
    }
   ],
   "source": [
    "n_ads = len(data)\n",
    "n_ads"
   ]
  },
  {
   "cell_type": "code",
   "execution_count": 97,
   "id": "f9c010e8-8869-4cd3-8604-b9572edfff51",
   "metadata": {},
   "outputs": [
    {
     "data": {
      "text/html": [
       "<div>\n",
       "<style scoped>\n",
       "    .dataframe tbody tr th:only-of-type {\n",
       "        vertical-align: middle;\n",
       "    }\n",
       "\n",
       "    .dataframe tbody tr th {\n",
       "        vertical-align: top;\n",
       "    }\n",
       "\n",
       "    .dataframe thead th {\n",
       "        text-align: right;\n",
       "    }\n",
       "</style>\n",
       "<table border=\"1\" class=\"dataframe\">\n",
       "  <thead>\n",
       "    <tr style=\"text-align: right;\">\n",
       "      <th></th>\n",
       "      <th>id</th>\n",
       "      <th>title</th>\n",
       "      <th>description</th>\n",
       "      <th>location</th>\n",
       "      <th>country_id</th>\n",
       "      <th>company_name</th>\n",
       "      <th>retrieval_date</th>\n",
       "    </tr>\n",
       "  </thead>\n",
       "  <tbody>\n",
       "    <tr>\n",
       "      <th>0</th>\n",
       "      <td>1</td>\n",
       "      <td>Traineeship Pensioen &amp; Leven in Utrecht</td>\n",
       "      <td>We sturen je door naar je toekomstige opdracht...</td>\n",
       "      <td>Utrecht</td>\n",
       "      <td>NL</td>\n",
       "      <td>NaN</td>\n",
       "      <td>2021-01-19</td>\n",
       "    </tr>\n",
       "    <tr>\n",
       "      <th>1</th>\n",
       "      <td>2</td>\n",
       "      <td>DEPOSITARY OFFICER (M/F)</td>\n",
       "      <td>DEPOSITARY OFFICER (M/F) DO Recruitment Adviso...</td>\n",
       "      <td>NaN</td>\n",
       "      <td>FR</td>\n",
       "      <td>DO Recruitment Advisors</td>\n",
       "      <td>2021-09-30</td>\n",
       "    </tr>\n",
       "    <tr>\n",
       "      <th>2</th>\n",
       "      <td>3</td>\n",
       "      <td>Cautam colegi manipulanti marfa</td>\n",
       "      <td>Descriere Angajam manipulanti marfa din Pitest...</td>\n",
       "      <td>Pitesti</td>\n",
       "      <td>RO</td>\n",
       "      <td>NaN</td>\n",
       "      <td>2021-06-18</td>\n",
       "    </tr>\n",
       "  </tbody>\n",
       "</table>\n",
       "</div>"
      ],
      "text/plain": [
       "   id                                    title  \\\n",
       "0   1  Traineeship Pensioen & Leven in Utrecht   \n",
       "1   2                 DEPOSITARY OFFICER (M/F)   \n",
       "2   3          Cautam colegi manipulanti marfa   \n",
       "\n",
       "                                         description location country_id  \\\n",
       "0  We sturen je door naar je toekomstige opdracht...  Utrecht         NL   \n",
       "1  DEPOSITARY OFFICER (M/F) DO Recruitment Adviso...      NaN         FR   \n",
       "2  Descriere Angajam manipulanti marfa din Pitest...  Pitesti         RO   \n",
       "\n",
       "              company_name retrieval_date  \n",
       "0                      NaN     2021-01-19  \n",
       "1  DO Recruitment Advisors     2021-09-30  \n",
       "2                      NaN     2021-06-18  "
      ]
     },
     "execution_count": 97,
     "metadata": {},
     "output_type": "execute_result"
    }
   ],
   "source": [
    "data.head(3)"
   ]
  },
  {
   "cell_type": "markdown",
   "id": "76029d4c-fcb2-42aa-9057-1293f71f5122",
   "metadata": {},
   "source": [
    "## Data preprocessing"
   ]
  },
  {
   "cell_type": "code",
   "execution_count": 98,
   "id": "4a06be7b-e6a8-44ca-8f28-5c80380140a9",
   "metadata": {
    "tags": []
   },
   "outputs": [],
   "source": [
    "# Cleaning basique\n",
    "\n",
    "data[\n",
    "    ['title', 'description', 'location', 'company_name']\n",
    "] = data[\n",
    "    ['title', 'description', 'location', 'company_name']\n",
    "].apply(lambda x: x.str.strip().str.lower())\n",
    "\n",
    "data.fillna(\"\", inplace=True)"
   ]
  },
  {
   "cell_type": "markdown",
   "id": "d24a9f1c-62f4-4490-9fb8-c46a3f8143af",
   "metadata": {},
   "source": [
    "## Naive deduplication"
   ]
  },
  {
   "cell_type": "code",
   "execution_count": 99,
   "id": "1cf4194a-7f17-4c57-ae6f-7f3ccbc9be44",
   "metadata": {
    "tags": []
   },
   "outputs": [],
   "source": [
    "duplicates = []"
   ]
  },
  {
   "cell_type": "markdown",
   "id": "c2e0ace7-81fe-49cb-8205-8b3c199e11c4",
   "metadata": {},
   "source": [
    "### Add the full duplicates"
   ]
  },
  {
   "cell_type": "code",
   "execution_count": 100,
   "id": "e13d38ca-3174-4d23-a453-40d3332c27e8",
   "metadata": {
    "tags": []
   },
   "outputs": [
    {
     "name": "stderr",
     "output_type": "stream",
     "text": [
      "  7%|▋         | 659/10000 [03:02<43:03,  3.62it/s]\n"
     ]
    },
    {
     "ename": "KeyboardInterrupt",
     "evalue": "",
     "output_type": "error",
     "traceback": [
      "\u001b[0;31m---------------------------------------------------------------------------\u001b[0m",
      "\u001b[0;31mKeyboardInterrupt\u001b[0m                         Traceback (most recent call last)",
      "Cell \u001b[0;32mIn[100], line 3\u001b[0m\n\u001b[1;32m      1\u001b[0m \u001b[38;5;28;01mfor\u001b[39;00m i \u001b[38;5;129;01min\u001b[39;00m tqdm(\u001b[38;5;28mrange\u001b[39m(n_ads)):\n\u001b[1;32m      2\u001b[0m     \u001b[38;5;28;01mfor\u001b[39;00m j \u001b[38;5;129;01min\u001b[39;00m \u001b[38;5;28mrange\u001b[39m(i\u001b[38;5;241m+\u001b[39m\u001b[38;5;241m1\u001b[39m,n_ads):\n\u001b[0;32m----> 3\u001b[0m         \u001b[38;5;28;01mif\u001b[39;00m (data\u001b[38;5;241m.\u001b[39miloc[i, \u001b[38;5;241m1\u001b[39m] \u001b[38;5;241m==\u001b[39m \u001b[43mdata\u001b[49m\u001b[38;5;241;43m.\u001b[39;49m\u001b[43miloc\u001b[49m\u001b[43m[\u001b[49m\u001b[43mj\u001b[49m\u001b[43m,\u001b[49m\u001b[43m \u001b[49m\u001b[38;5;241;43m1\u001b[39;49m\u001b[43m]\u001b[49m) \u001b[38;5;129;01mand\u001b[39;00m (data\u001b[38;5;241m.\u001b[39miloc[i, \u001b[38;5;241m2\u001b[39m] \u001b[38;5;241m==\u001b[39m data\u001b[38;5;241m.\u001b[39miloc[j, \u001b[38;5;241m2\u001b[39m]):\n\u001b[1;32m      4\u001b[0m             duplicates\u001b[38;5;241m.\u001b[39mappend({\u001b[38;5;124m'\u001b[39m\u001b[38;5;124mid1\u001b[39m\u001b[38;5;124m'\u001b[39m: i\u001b[38;5;241m+\u001b[39m\u001b[38;5;241m1\u001b[39m, \u001b[38;5;124m'\u001b[39m\u001b[38;5;124mid2\u001b[39m\u001b[38;5;124m'\u001b[39m: j\u001b[38;5;241m+\u001b[39m\u001b[38;5;241m1\u001b[39m, \u001b[38;5;124m'\u001b[39m\u001b[38;5;124mtype\u001b[39m\u001b[38;5;124m'\u001b[39m: \u001b[38;5;124m'\u001b[39m\u001b[38;5;124mFULL\u001b[39m\u001b[38;5;124m'\u001b[39m})\n\u001b[1;32m      6\u001b[0m \u001b[38;5;28mlen\u001b[39m(duplicates)\n",
      "File \u001b[0;32m/opt/mamba/lib/python3.10/site-packages/pandas/core/indexing.py:1066\u001b[0m, in \u001b[0;36m_LocationIndexer.__getitem__\u001b[0;34m(self, key)\u001b[0m\n\u001b[1;32m   1064\u001b[0m     key \u001b[38;5;241m=\u001b[39m \u001b[38;5;28mtuple\u001b[39m(com\u001b[38;5;241m.\u001b[39mapply_if_callable(x, \u001b[38;5;28mself\u001b[39m\u001b[38;5;241m.\u001b[39mobj) \u001b[38;5;28;01mfor\u001b[39;00m x \u001b[38;5;129;01min\u001b[39;00m key)\n\u001b[1;32m   1065\u001b[0m     \u001b[38;5;28;01mif\u001b[39;00m \u001b[38;5;28mself\u001b[39m\u001b[38;5;241m.\u001b[39m_is_scalar_access(key):\n\u001b[0;32m-> 1066\u001b[0m         \u001b[38;5;28;01mreturn\u001b[39;00m \u001b[38;5;28;43mself\u001b[39;49m\u001b[38;5;241;43m.\u001b[39;49m\u001b[43mobj\u001b[49m\u001b[38;5;241;43m.\u001b[39;49m\u001b[43m_get_value\u001b[49m\u001b[43m(\u001b[49m\u001b[38;5;241;43m*\u001b[39;49m\u001b[43mkey\u001b[49m\u001b[43m,\u001b[49m\u001b[43m \u001b[49m\u001b[43mtakeable\u001b[49m\u001b[38;5;241;43m=\u001b[39;49m\u001b[38;5;28;43mself\u001b[39;49m\u001b[38;5;241;43m.\u001b[39;49m\u001b[43m_takeable\u001b[49m\u001b[43m)\u001b[49m\n\u001b[1;32m   1067\u001b[0m     \u001b[38;5;28;01mreturn\u001b[39;00m \u001b[38;5;28mself\u001b[39m\u001b[38;5;241m.\u001b[39m_getitem_tuple(key)\n\u001b[1;32m   1068\u001b[0m \u001b[38;5;28;01melse\u001b[39;00m:\n\u001b[1;32m   1069\u001b[0m     \u001b[38;5;66;03m# we by definition only have the 0th axis\u001b[39;00m\n",
      "File \u001b[0;32m/opt/mamba/lib/python3.10/site-packages/pandas/core/frame.py:3915\u001b[0m, in \u001b[0;36mDataFrame._get_value\u001b[0;34m(self, index, col, takeable)\u001b[0m\n\u001b[1;32m   3913\u001b[0m \u001b[38;5;28;01mif\u001b[39;00m takeable:\n\u001b[1;32m   3914\u001b[0m     series \u001b[38;5;241m=\u001b[39m \u001b[38;5;28mself\u001b[39m\u001b[38;5;241m.\u001b[39m_ixs(col, axis\u001b[38;5;241m=\u001b[39m\u001b[38;5;241m1\u001b[39m)\n\u001b[0;32m-> 3915\u001b[0m     \u001b[38;5;28;01mreturn\u001b[39;00m \u001b[43mseries\u001b[49m\u001b[38;5;241;43m.\u001b[39;49m\u001b[43m_values\u001b[49m[index]\n\u001b[1;32m   3917\u001b[0m series \u001b[38;5;241m=\u001b[39m \u001b[38;5;28mself\u001b[39m\u001b[38;5;241m.\u001b[39m_get_item_cache(col)\n\u001b[1;32m   3918\u001b[0m engine \u001b[38;5;241m=\u001b[39m \u001b[38;5;28mself\u001b[39m\u001b[38;5;241m.\u001b[39mindex\u001b[38;5;241m.\u001b[39m_engine\n",
      "File \u001b[0;32m/opt/mamba/lib/python3.10/site-packages/pandas/core/series.py:740\u001b[0m, in \u001b[0;36mSeries._values\u001b[0;34m(self)\u001b[0m\n\u001b[1;32m    708\u001b[0m \u001b[38;5;129m@property\u001b[39m\n\u001b[1;32m    709\u001b[0m \u001b[38;5;28;01mdef\u001b[39;00m \u001b[38;5;21m_values\u001b[39m(\u001b[38;5;28mself\u001b[39m):\n\u001b[1;32m    710\u001b[0m \u001b[38;5;250m    \u001b[39m\u001b[38;5;124;03m\"\"\"\u001b[39;00m\n\u001b[1;32m    711\u001b[0m \u001b[38;5;124;03m    Return the internal repr of this data (defined by Block.interval_values).\u001b[39;00m\n\u001b[1;32m    712\u001b[0m \u001b[38;5;124;03m    This are the values as stored in the Block (ndarray or ExtensionArray\u001b[39;00m\n\u001b[0;32m   (...)\u001b[0m\n\u001b[1;32m    738\u001b[0m \n\u001b[1;32m    739\u001b[0m \u001b[38;5;124;03m    \"\"\"\u001b[39;00m\n\u001b[0;32m--> 740\u001b[0m     \u001b[38;5;28;01mreturn\u001b[39;00m \u001b[38;5;28;43mself\u001b[39;49m\u001b[38;5;241;43m.\u001b[39;49m\u001b[43m_mgr\u001b[49m\u001b[38;5;241;43m.\u001b[39;49m\u001b[43minternal_values\u001b[49m\u001b[43m(\u001b[49m\u001b[43m)\u001b[49m\n",
      "File \u001b[0;32m/opt/mamba/lib/python3.10/site-packages/pandas/core/internals/managers.py:2071\u001b[0m, in \u001b[0;36mSingleBlockManager.internal_values\u001b[0;34m(self)\u001b[0m\n\u001b[1;32m   2069\u001b[0m \u001b[38;5;28;01mdef\u001b[39;00m \u001b[38;5;21minternal_values\u001b[39m(\u001b[38;5;28mself\u001b[39m):\n\u001b[1;32m   2070\u001b[0m \u001b[38;5;250m    \u001b[39m\u001b[38;5;124;03m\"\"\"The array that Series._values returns\"\"\"\u001b[39;00m\n\u001b[0;32m-> 2071\u001b[0m     \u001b[38;5;28;01mreturn\u001b[39;00m \u001b[38;5;28;43mself\u001b[39;49m\u001b[38;5;241;43m.\u001b[39;49m\u001b[43m_block\u001b[49m\u001b[38;5;241m.\u001b[39mvalues\n",
      "File \u001b[0;32m/opt/mamba/lib/python3.10/site-packages/pandas/_libs/properties.pyx:36\u001b[0m, in \u001b[0;36mpandas._libs.properties.CachedProperty.__get__\u001b[0;34m()\u001b[0m\n",
      "File \u001b[0;32m/opt/mamba/lib/python3.10/site-packages/pandas/core/internals/managers.py:2009\u001b[0m, in \u001b[0;36mSingleBlockManager._block\u001b[0;34m(self)\u001b[0m\n\u001b[1;32m   2006\u001b[0m \u001b[38;5;28;01mdef\u001b[39;00m \u001b[38;5;21m_post_setstate\u001b[39m(\u001b[38;5;28mself\u001b[39m):\n\u001b[1;32m   2007\u001b[0m     \u001b[38;5;28;01mpass\u001b[39;00m\n\u001b[0;32m-> 2009\u001b[0m \u001b[38;5;129m@cache_readonly\u001b[39m\n\u001b[1;32m   2010\u001b[0m \u001b[38;5;28;01mdef\u001b[39;00m \u001b[38;5;21m_block\u001b[39m(\u001b[38;5;28mself\u001b[39m) \u001b[38;5;241m-\u001b[39m\u001b[38;5;241m>\u001b[39m Block:\n\u001b[1;32m   2011\u001b[0m     \u001b[38;5;28;01mreturn\u001b[39;00m \u001b[38;5;28mself\u001b[39m\u001b[38;5;241m.\u001b[39mblocks[\u001b[38;5;241m0\u001b[39m]\n\u001b[1;32m   2013\u001b[0m \u001b[38;5;129m@property\u001b[39m\n\u001b[1;32m   2014\u001b[0m \u001b[38;5;28;01mdef\u001b[39;00m \u001b[38;5;21m_blknos\u001b[39m(\u001b[38;5;28mself\u001b[39m):\n",
      "\u001b[0;31mKeyboardInterrupt\u001b[0m: "
     ]
    }
   ],
   "source": [
    "for i in tqdm(range(n_ads)):\n",
    "    for j in range(i+1,n_ads):\n",
    "        if (data.iloc[i, 1] == data.iloc[j, 1]) and (data.iloc[i, 2] == data.iloc[j, 2]):\n",
    "            duplicates.append({'id1': i+1, 'id2': j+1, 'type': 'FULL'})\n",
    "\n",
    "len(duplicates)"
   ]
  },
  {
   "cell_type": "markdown",
   "id": "fc0c6b25-6261-4d00-9a7b-d6afdaeed26f",
   "metadata": {
    "tags": []
   },
   "source": [
    "### Add the semantic duplicates"
   ]
  },
  {
   "cell_type": "code",
   "execution_count": null,
   "id": "33ef9092-0b63-4970-8f8e-3910461df66e",
   "metadata": {
    "tags": []
   },
   "outputs": [],
   "source": [
    "data['text'] = data['title'] + ' ' + data['description'] + ' ' + data['location'] + ' ' + data['company_name']\n",
    "\n",
    "# Utiliser TF-IDF pour vectoriser les textes\n",
    "vectorizer = TfidfVectorizer()\n",
    "tfidf = vectorizer.fit_transform(data['text'])\n",
    "\n",
    "# Utiliser la similarité cosinus pour comparer les textes\n",
    "similarity_matrix = cosine_similarity(tfidf)"
   ]
  },
  {
   "cell_type": "code",
   "execution_count": null,
   "id": "bbe8e120-eb94-414a-934b-aa0ed0b2e81c",
   "metadata": {
    "tags": []
   },
   "outputs": [],
   "source": [
    "# Identifier les paires d'annonces similaires\n",
    "\n",
    "for i in tqdm(range(similarity_matrix.shape[0])):\n",
    "    for j in range(i+1, similarity_matrix.shape[1]):\n",
    "        if similarity_matrix[i][j] > 0.8 and (\n",
    "            (data.iloc[i, 1] != data.iloc[j, 1]) or (data.iloc[i, 2] != data.iloc[j, 2])\n",
    "        ):\n",
    "            if data.iloc[i, 6] != data.iloc[j, 6]:\n",
    "                duplicates.append({'id1': i+1, 'id2': j+1, 'type': 'TEMPORAL'})\n",
    "            else:\n",
    "                if abs(\n",
    "                    len(data.iloc[i, 2]) - len(data.iloc[j, 2])\n",
    "                ) / max(\n",
    "                    len(data.iloc[i, 2]), len(data.iloc[j, 2])\n",
    "                ) < 0.2:\n",
    "                    duplicates.append({'id1': i+1, 'id2': j+1, 'type': 'SEMANTIC'})\n",
    "                else:\n",
    "                    duplicates.append({'id1': i+1, 'id2': j+1, 'type': 'PARTIAL'})"
   ]
  },
  {
   "cell_type": "markdown",
   "id": "8b6e7a47-7cd1-4156-a58a-2e4ec47968a2",
   "metadata": {},
   "source": [
    "## Print duplicates"
   ]
  },
  {
   "cell_type": "code",
   "execution_count": null,
   "id": "42b97a86-8af2-43ce-9d82-2fa03fe354aa",
   "metadata": {
    "tags": []
   },
   "outputs": [],
   "source": [
    "duplicates = pd.DataFrame(duplicates)\n",
    "duplicates"
   ]
  },
  {
   "cell_type": "code",
   "execution_count": null,
   "id": "e57ff259-1029-40b4-983e-4b5065634015",
   "metadata": {},
   "outputs": [],
   "source": []
  }
 ],
 "metadata": {
  "kernelspec": {
   "display_name": "Python 3 (ipykernel)",
   "language": "python",
   "name": "python3"
  },
  "language_info": {
   "codemirror_mode": {
    "name": "ipython",
    "version": 3
   },
   "file_extension": ".py",
   "mimetype": "text/x-python",
   "name": "python",
   "nbconvert_exporter": "python",
   "pygments_lexer": "ipython3",
   "version": "3.10.8"
  }
 },
 "nbformat": 4,
 "nbformat_minor": 5
}
