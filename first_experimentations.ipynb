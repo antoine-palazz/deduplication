{
 "cells": [
  {
   "cell_type": "markdown",
   "id": "09ffef94-6bdc-4755-b63f-a9d37de5b487",
   "metadata": {},
   "source": [
    "# OJA Deduplication Challenge"
   ]
  },
  {
   "cell_type": "markdown",
   "id": "fd688565-deed-4585-a0ee-df0d4ec05a21",
   "metadata": {},
   "source": [
    "## Imports"
   ]
  },
  {
   "cell_type": "markdown",
   "id": "c8bb78e8-4f53-4270-a8b4-741d8f2c0b61",
   "metadata": {},
   "source": [
    "### Packages"
   ]
  },
  {
   "cell_type": "code",
   "execution_count": 1,
   "id": "2b6c7865-e3c1-4965-8bb5-7a6a60278116",
   "metadata": {
    "tags": []
   },
   "outputs": [],
   "source": [
    "import os\n",
    "import warnings\n",
    "\n",
    "import pandas as pd\n",
    "from tqdm import tqdm\n",
    "\n",
    "from Levenshtein import distance\n",
    "from sklearn.feature_extraction.text import TfidfVectorizer\n",
    "from sklearn.metrics.pairwise import cosine_similarity"
   ]
  },
  {
   "cell_type": "code",
   "execution_count": 2,
   "id": "81af9666-2fea-48af-8e94-080099027bbd",
   "metadata": {
    "tags": []
   },
   "outputs": [],
   "source": [
    "warnings.filterwarnings('ignore')"
   ]
  },
  {
   "cell_type": "markdown",
   "id": "75d5b862-14be-4b4a-b483-99acb9aa32af",
   "metadata": {},
   "source": [
    "### Data"
   ]
  },
  {
   "cell_type": "code",
   "execution_count": 3,
   "id": "91198bd1-39c3-4757-8116-f482e34efff5",
   "metadata": {
    "tags": []
   },
   "outputs": [
    {
     "name": "stdout",
     "output_type": "stream",
     "text": [
      "`s3/apalazzolo/Deduplication/wi_dataset.csv` -> `wi_dataset.csv`\n",
      "Total: 0 B, Transferred: 203.23 MiB, Speed: 156.32 MiB/s\n"
     ]
    },
    {
     "data": {
      "text/plain": [
       "0"
      ]
     },
     "execution_count": 3,
     "metadata": {},
     "output_type": "execute_result"
    }
   ],
   "source": [
    "# Import from s3\n",
    "os.system(f\"mc cp s3/apalazzolo/Deduplication/wi_dataset.csv wi_dataset.csv\")"
   ]
  },
  {
   "cell_type": "code",
   "execution_count": 4,
   "id": "ccd17c6a-d756-4f6c-a68a-6e54de7da6e8",
   "metadata": {
    "tags": []
   },
   "outputs": [],
   "source": [
    "original_data = pd.read_csv('wi_dataset.csv',\n",
    "                            lineterminator='\\n')"
   ]
  },
  {
   "cell_type": "code",
   "execution_count": 5,
   "id": "e62c5376-0970-4f41-85a5-d4368d0ea36b",
   "metadata": {
    "tags": []
   },
   "outputs": [],
   "source": [
    "# For now let's work with a smaller extract\n",
    "data = original_data#.head(10000)"
   ]
  },
  {
   "cell_type": "code",
   "execution_count": 6,
   "id": "4e5dfc93-bc75-4fd4-b4fe-98398b8116a6",
   "metadata": {
    "tags": []
   },
   "outputs": [
    {
     "data": {
      "text/plain": [
       "10000"
      ]
     },
     "execution_count": 6,
     "metadata": {},
     "output_type": "execute_result"
    }
   ],
   "source": [
    "n_ads = len(data)\n",
    "n_ads"
   ]
  },
  {
   "cell_type": "code",
   "execution_count": 7,
   "id": "f9c010e8-8869-4cd3-8604-b9572edfff51",
   "metadata": {},
   "outputs": [
    {
     "data": {
      "text/html": [
       "<div>\n",
       "<style scoped>\n",
       "    .dataframe tbody tr th:only-of-type {\n",
       "        vertical-align: middle;\n",
       "    }\n",
       "\n",
       "    .dataframe tbody tr th {\n",
       "        vertical-align: top;\n",
       "    }\n",
       "\n",
       "    .dataframe thead th {\n",
       "        text-align: right;\n",
       "    }\n",
       "</style>\n",
       "<table border=\"1\" class=\"dataframe\">\n",
       "  <thead>\n",
       "    <tr style=\"text-align: right;\">\n",
       "      <th></th>\n",
       "      <th>id</th>\n",
       "      <th>title</th>\n",
       "      <th>description</th>\n",
       "      <th>location</th>\n",
       "      <th>country_id</th>\n",
       "      <th>company_name</th>\n",
       "      <th>retrieval_date</th>\n",
       "    </tr>\n",
       "  </thead>\n",
       "  <tbody>\n",
       "    <tr>\n",
       "      <th>0</th>\n",
       "      <td>1</td>\n",
       "      <td>Traineeship Pensioen &amp; Leven in Utrecht</td>\n",
       "      <td>We sturen je door naar je toekomstige opdracht...</td>\n",
       "      <td>Utrecht</td>\n",
       "      <td>NL</td>\n",
       "      <td>NaN</td>\n",
       "      <td>2021-01-19</td>\n",
       "    </tr>\n",
       "    <tr>\n",
       "      <th>1</th>\n",
       "      <td>2</td>\n",
       "      <td>DEPOSITARY OFFICER (M/F)</td>\n",
       "      <td>DEPOSITARY OFFICER (M/F) DO Recruitment Adviso...</td>\n",
       "      <td>NaN</td>\n",
       "      <td>FR</td>\n",
       "      <td>DO Recruitment Advisors</td>\n",
       "      <td>2021-09-30</td>\n",
       "    </tr>\n",
       "    <tr>\n",
       "      <th>2</th>\n",
       "      <td>3</td>\n",
       "      <td>Cautam colegi manipulanti marfa</td>\n",
       "      <td>Descriere Angajam manipulanti marfa din Pitest...</td>\n",
       "      <td>Pitesti</td>\n",
       "      <td>RO</td>\n",
       "      <td>NaN</td>\n",
       "      <td>2021-06-18</td>\n",
       "    </tr>\n",
       "  </tbody>\n",
       "</table>\n",
       "</div>"
      ],
      "text/plain": [
       "   id                                    title  \\\n",
       "0   1  Traineeship Pensioen & Leven in Utrecht   \n",
       "1   2                 DEPOSITARY OFFICER (M/F)   \n",
       "2   3          Cautam colegi manipulanti marfa   \n",
       "\n",
       "                                         description location country_id  \\\n",
       "0  We sturen je door naar je toekomstige opdracht...  Utrecht         NL   \n",
       "1  DEPOSITARY OFFICER (M/F) DO Recruitment Adviso...      NaN         FR   \n",
       "2  Descriere Angajam manipulanti marfa din Pitest...  Pitesti         RO   \n",
       "\n",
       "              company_name retrieval_date  \n",
       "0                      NaN     2021-01-19  \n",
       "1  DO Recruitment Advisors     2021-09-30  \n",
       "2                      NaN     2021-06-18  "
      ]
     },
     "execution_count": 7,
     "metadata": {},
     "output_type": "execute_result"
    }
   ],
   "source": [
    "data.head(3)"
   ]
  },
  {
   "cell_type": "markdown",
   "id": "76029d4c-fcb2-42aa-9057-1293f71f5122",
   "metadata": {},
   "source": [
    "## Data preprocessing"
   ]
  },
  {
   "cell_type": "code",
   "execution_count": 8,
   "id": "4a06be7b-e6a8-44ca-8f28-5c80380140a9",
   "metadata": {
    "tags": []
   },
   "outputs": [],
   "source": [
    "# Cleaning basique\n",
    "\n",
    "data[\n",
    "    ['title', 'description', 'location', 'company_name']\n",
    "] = data[\n",
    "    ['title', 'description', 'location', 'company_name']\n",
    "].apply(lambda x: x.str.strip().str.lower())\n",
    "\n",
    "data.fillna(\"\", inplace=True)"
   ]
  },
  {
   "cell_type": "markdown",
   "id": "d24a9f1c-62f4-4490-9fb8-c46a3f8143af",
   "metadata": {},
   "source": [
    "## Naive deduplication"
   ]
  },
  {
   "cell_type": "code",
   "execution_count": 9,
   "id": "1cf4194a-7f17-4c57-ae6f-7f3ccbc9be44",
   "metadata": {
    "tags": []
   },
   "outputs": [],
   "source": [
    "duplicates = []"
   ]
  },
  {
   "cell_type": "markdown",
   "id": "c2e0ace7-81fe-49cb-8205-8b3c199e11c4",
   "metadata": {},
   "source": [
    "### Add the full duplicates"
   ]
  },
  {
   "cell_type": "code",
   "execution_count": 10,
   "id": "e13d38ca-3174-4d23-a453-40d3332c27e8",
   "metadata": {
    "tags": []
   },
   "outputs": [],
   "source": [
    "# Beaucoup trop long\n",
    "# Attention, si on trie la table rien ne marche plus !\n",
    "\n",
    "# for i in tqdm(range(n_ads)):\n",
    "#     for j in range(i+1,n_ads):\n",
    "#         if (data.iloc[i, 1] == data.iloc[j, 1]) and (data.iloc[i, 2] == data.iloc[j, 2]):\n",
    "#             duplicates.append({'id1': i+1, 'id2': j+1, 'type': 'FULL'})"
   ]
  },
  {
   "cell_type": "code",
   "execution_count": 11,
   "id": "347e7d2f-37cb-42b7-8d37-30ee62e3949b",
   "metadata": {},
   "outputs": [
    {
     "name": "stdout",
     "output_type": "stream",
     "text": [
      "0\n"
     ]
    }
   ],
   "source": [
    "data.sort_values(by=['title', 'description', 'id'], inplace=True)\n",
    "\n",
    "i = 0\n",
    "j = 1\n",
    "\n",
    "while i < n_ads and j < n_ads:\n",
    "    if (i%10000 == 0) and (j == i+1):\n",
    "        print(i)\n",
    "    if data.iloc[i, 1] < data.iloc[j, 1]:\n",
    "        i += 1\n",
    "        j = i + 1\n",
    "    elif data.iloc[i, 1] > data.iloc[j, 1]:\n",
    "        j += 1\n",
    "    elif data.iloc[i, 2] < data.iloc[j, 2]:\n",
    "        i += 1\n",
    "        j = i + 1\n",
    "    elif data.iloc[i, 2] > data.iloc[j, 2]:\n",
    "        j += 1\n",
    "    else:\n",
    "        duplicates.append({'id1': data.iloc[i, 0], 'id2': data.iloc[j, 0], 'type': 'FULL'})\n",
    "        j += 1"
   ]
  },
  {
   "cell_type": "code",
   "execution_count": 12,
   "id": "7f5714b3-b472-4800-914f-13543f877684",
   "metadata": {},
   "outputs": [
    {
     "data": {
      "text/plain": [
       "2753"
      ]
     },
     "execution_count": 12,
     "metadata": {},
     "output_type": "execute_result"
    }
   ],
   "source": [
    "len(duplicates)"
   ]
  },
  {
   "cell_type": "code",
   "execution_count": 13,
   "id": "b550e345-c226-4ded-b16f-1c5ad583f3cf",
   "metadata": {},
   "outputs": [
    {
     "data": {
      "text/plain": [
       "{'id1': 236, 'id2': 1598, 'type': 'FULL'}"
      ]
     },
     "execution_count": 13,
     "metadata": {},
     "output_type": "execute_result"
    }
   ],
   "source": [
    "duplicates[0]"
   ]
  },
  {
   "cell_type": "markdown",
   "id": "fc0c6b25-6261-4d00-9a7b-d6afdaeed26f",
   "metadata": {
    "tags": []
   },
   "source": [
    "### Add the semantic duplicates"
   ]
  },
  {
   "cell_type": "code",
   "execution_count": 14,
   "id": "3b07152c-d2bc-4d8c-aa45-87b8782bcdc8",
   "metadata": {},
   "outputs": [],
   "source": [
    "data.sort_values(by=['id'], inplace=True)"
   ]
  },
  {
   "cell_type": "code",
   "execution_count": 15,
   "id": "33ef9092-0b63-4970-8f8e-3910461df66e",
   "metadata": {
    "tags": []
   },
   "outputs": [],
   "source": [
    "data['text'] = data['title'] + ' ' + data['description'] + ' ' + data['location'] + ' ' + data['company_name']\n",
    "\n",
    "# Utiliser TF-IDF pour vectoriser les textes\n",
    "vectorizer = TfidfVectorizer()\n",
    "tfidf = vectorizer.fit_transform(data['text'])"
   ]
  },
  {
   "cell_type": "code",
   "execution_count": 16,
   "id": "7db59296-d8c4-49bd-b854-78977b4c6b0f",
   "metadata": {},
   "outputs": [],
   "source": [
    "# Utiliser la similarité cosinus pour comparer les textes\n",
    "similarity_matrix = cosine_similarity(tfidf)"
   ]
  },
  {
   "cell_type": "code",
   "execution_count": 17,
   "id": "bbe8e120-eb94-414a-934b-aa0ed0b2e81c",
   "metadata": {
    "tags": []
   },
   "outputs": [
    {
     "name": "stderr",
     "output_type": "stream",
     "text": [
      "100%|██████████| 10000/10000 [00:16<00:00, 601.92it/s]\n"
     ]
    }
   ],
   "source": [
    "# Identifier les paires d'annonces similaires\n",
    "\n",
    "for i in tqdm(range(similarity_matrix.shape[0])):\n",
    "    for j in range(i+1, similarity_matrix.shape[1]):\n",
    "        if similarity_matrix[i][j] > 0.8 and (\n",
    "            (data.iloc[i, 1] != data.iloc[j, 1]) or (data.iloc[i, 2] != data.iloc[j, 2])\n",
    "        ):\n",
    "            if data.iloc[i, 6] != data.iloc[j, 6]:\n",
    "                duplicates.append({'id1': data.iloc[i, 0], 'id2': data.iloc[j, 0], 'type': 'TEMPORAL'})\n",
    "            else:\n",
    "                if abs(\n",
    "                    len(data.iloc[i, 2]) - len(data.iloc[j, 2])\n",
    "                ) / max(\n",
    "                    len(data.iloc[i, 2]), len(data.iloc[j, 2])\n",
    "                ) < 0.2:\n",
    "                    duplicates.append({'id1': data.iloc[i, 0], 'id2': data.iloc[j, 0], 'type': 'SEMANTIC'})\n",
    "                else:\n",
    "                    duplicates.append({'id1': data.iloc[i, 0], 'id2': data.iloc[j, 0], 'type': 'PARTIAL'})"
   ]
  },
  {
   "cell_type": "markdown",
   "id": "8b6e7a47-7cd1-4156-a58a-2e4ec47968a2",
   "metadata": {},
   "source": [
    "## Print duplicates"
   ]
  },
  {
   "cell_type": "code",
   "execution_count": 21,
   "id": "42b97a86-8af2-43ce-9d82-2fa03fe354aa",
   "metadata": {
    "tags": []
   },
   "outputs": [
    {
     "data": {
      "text/html": [
       "<div>\n",
       "<style scoped>\n",
       "    .dataframe tbody tr th:only-of-type {\n",
       "        vertical-align: middle;\n",
       "    }\n",
       "\n",
       "    .dataframe tbody tr th {\n",
       "        vertical-align: top;\n",
       "    }\n",
       "\n",
       "    .dataframe thead th {\n",
       "        text-align: right;\n",
       "    }\n",
       "</style>\n",
       "<table border=\"1\" class=\"dataframe\">\n",
       "  <thead>\n",
       "    <tr style=\"text-align: right;\">\n",
       "      <th></th>\n",
       "      <th>id1</th>\n",
       "      <th>id2</th>\n",
       "      <th>type</th>\n",
       "    </tr>\n",
       "  </thead>\n",
       "  <tbody>\n",
       "    <tr>\n",
       "      <th>445</th>\n",
       "      <td>3</td>\n",
       "      <td>86</td>\n",
       "      <td>FULL</td>\n",
       "    </tr>\n",
       "    <tr>\n",
       "      <th>469</th>\n",
       "      <td>5</td>\n",
       "      <td>1443</td>\n",
       "      <td>FULL</td>\n",
       "    </tr>\n",
       "    <tr>\n",
       "      <th>2753</th>\n",
       "      <td>5</td>\n",
       "      <td>6352</td>\n",
       "      <td>SEMANTIC</td>\n",
       "    </tr>\n",
       "    <tr>\n",
       "      <th>1887</th>\n",
       "      <td>9</td>\n",
       "      <td>2949</td>\n",
       "      <td>FULL</td>\n",
       "    </tr>\n",
       "    <tr>\n",
       "      <th>1888</th>\n",
       "      <td>9</td>\n",
       "      <td>3675</td>\n",
       "      <td>FULL</td>\n",
       "    </tr>\n",
       "    <tr>\n",
       "      <th>...</th>\n",
       "      <td>...</td>\n",
       "      <td>...</td>\n",
       "      <td>...</td>\n",
       "    </tr>\n",
       "    <tr>\n",
       "      <th>31213</th>\n",
       "      <td>9874</td>\n",
       "      <td>9987</td>\n",
       "      <td>TEMPORAL</td>\n",
       "    </tr>\n",
       "    <tr>\n",
       "      <th>31214</th>\n",
       "      <td>9891</td>\n",
       "      <td>9919</td>\n",
       "      <td>TEMPORAL</td>\n",
       "    </tr>\n",
       "    <tr>\n",
       "      <th>31215</th>\n",
       "      <td>9950</td>\n",
       "      <td>9958</td>\n",
       "      <td>TEMPORAL</td>\n",
       "    </tr>\n",
       "    <tr>\n",
       "      <th>31216</th>\n",
       "      <td>9950</td>\n",
       "      <td>9987</td>\n",
       "      <td>SEMANTIC</td>\n",
       "    </tr>\n",
       "    <tr>\n",
       "      <th>31217</th>\n",
       "      <td>9958</td>\n",
       "      <td>9987</td>\n",
       "      <td>TEMPORAL</td>\n",
       "    </tr>\n",
       "  </tbody>\n",
       "</table>\n",
       "<p>31218 rows × 3 columns</p>\n",
       "</div>"
      ],
      "text/plain": [
       "        id1   id2      type\n",
       "445       3    86      FULL\n",
       "469       5  1443      FULL\n",
       "2753      5  6352  SEMANTIC\n",
       "1887      9  2949      FULL\n",
       "1888      9  3675      FULL\n",
       "...     ...   ...       ...\n",
       "31213  9874  9987  TEMPORAL\n",
       "31214  9891  9919  TEMPORAL\n",
       "31215  9950  9958  TEMPORAL\n",
       "31216  9950  9987  SEMANTIC\n",
       "31217  9958  9987  TEMPORAL\n",
       "\n",
       "[31218 rows x 3 columns]"
      ]
     },
     "execution_count": 21,
     "metadata": {},
     "output_type": "execute_result"
    }
   ],
   "source": [
    "duplicates = pd.DataFrame(duplicates)\n",
    "duplicates.sort_values(by=['id1', 'id2'], inplace=True)\n",
    "duplicates"
   ]
  },
  {
   "cell_type": "code",
   "execution_count": 19,
   "id": "e57ff259-1029-40b4-983e-4b5065634015",
   "metadata": {},
   "outputs": [],
   "source": [
    "duplicates.to_csv('duplicates.csv', index=False)"
   ]
  },
  {
   "cell_type": "code",
   "execution_count": 20,
   "id": "8cbaa345-d5f1-4c63-8918-bbcbae734a13",
   "metadata": {
    "tags": []
   },
   "outputs": [
    {
     "name": "stdout",
     "output_type": "stream",
     "text": [
      "`/home/onyxia/work/deduplication/duplicates.csv` -> `s3/apalazzolo/Deduplication/duplicates.csv`\n",
      "Total: 0 B, Transferred: 561.82 KiB, Speed: 4.57 MiB/s\n"
     ]
    },
    {
     "data": {
      "text/plain": [
       "0"
      ]
     },
     "execution_count": 20,
     "metadata": {},
     "output_type": "execute_result"
    }
   ],
   "source": [
    "os.system(f\"mc cp duplicates.csv s3/apalazzolo/Deduplication/duplicates.csv\")"
   ]
  },
  {
   "cell_type": "code",
   "execution_count": null,
   "id": "207d048c-e4f5-425e-8daa-eb66d3cf7340",
   "metadata": {},
   "outputs": [],
   "source": []
  }
 ],
 "metadata": {
  "kernelspec": {
   "display_name": "Python 3 (ipykernel)",
   "language": "python",
   "name": "python3"
  },
  "language_info": {
   "codemirror_mode": {
    "name": "ipython",
    "version": 3
   },
   "file_extension": ".py",
   "mimetype": "text/x-python",
   "name": "python",
   "nbconvert_exporter": "python",
   "pygments_lexer": "ipython3",
   "version": "3.10.8"
  }
 },
 "nbformat": 4,
 "nbformat_minor": 5
}
