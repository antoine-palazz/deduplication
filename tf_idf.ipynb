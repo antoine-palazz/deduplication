{
 "cells": [
  {
   "cell_type": "markdown",
   "id": "09ffef94-6bdc-4755-b63f-a9d37de5b487",
   "metadata": {},
   "source": [
    "# OJA Deduplication Challenge"
   ]
  },
  {
   "cell_type": "markdown",
   "id": "fd688565-deed-4585-a0ee-df0d4ec05a21",
   "metadata": {},
   "source": [
    "## Imports"
   ]
  },
  {
   "cell_type": "markdown",
   "id": "c8bb78e8-4f53-4270-a8b4-741d8f2c0b61",
   "metadata": {},
   "source": [
    "### Packages"
   ]
  },
  {
   "cell_type": "code",
   "execution_count": 198,
   "id": "2b6c7865-e3c1-4965-8bb5-7a6a60278116",
   "metadata": {
    "tags": []
   },
   "outputs": [
    {
     "name": "stderr",
     "output_type": "stream",
     "text": [
      "[nltk_data] Downloading package stopwords to /home/onyxia/nltk_data...\n",
      "[nltk_data]   Package stopwords is already up-to-date!\n"
     ]
    }
   ],
   "source": [
    "import os\n",
    "import warnings\n",
    "\n",
    "import pandas as pd\n",
    "import re\n",
    "from unidecode import unidecode\n",
    "from tqdm import tqdm\n",
    "\n",
    "from nltk.corpus import stopwords\n",
    "import nltk\n",
    "nltk.download('stopwords')\n",
    "\n",
    "# from Levenshtein import distance\n",
    "from sklearn.feature_extraction.text import TfidfVectorizer\n",
    "from sklearn.metrics.pairwise import cosine_similarity"
   ]
  },
  {
   "cell_type": "code",
   "execution_count": 199,
   "id": "81af9666-2fea-48af-8e94-080099027bbd",
   "metadata": {
    "tags": []
   },
   "outputs": [],
   "source": [
    "warnings.filterwarnings('ignore')"
   ]
  },
  {
   "cell_type": "markdown",
   "id": "75d5b862-14be-4b4a-b483-99acb9aa32af",
   "metadata": {},
   "source": [
    "### Data"
   ]
  },
  {
   "cell_type": "code",
   "execution_count": 200,
   "id": "91198bd1-39c3-4757-8116-f482e34efff5",
   "metadata": {
    "tags": []
   },
   "outputs": [
    {
     "name": "stdout",
     "output_type": "stream",
     "text": [
      "`s3/apalazzolo/Deduplication/wi_dataset.csv` -> `wi_dataset.csv`\n",
      "Total: 0 B, Transferred: 203.23 MiB, Speed: 147.70 MiB/s\n"
     ]
    },
    {
     "data": {
      "text/plain": [
       "0"
      ]
     },
     "execution_count": 200,
     "metadata": {},
     "output_type": "execute_result"
    }
   ],
   "source": [
    "# Import from s3\n",
    "os.system(f\"mc cp s3/apalazzolo/Deduplication/wi_dataset.csv wi_dataset.csv\")"
   ]
  },
  {
   "cell_type": "code",
   "execution_count": 201,
   "id": "ccd17c6a-d756-4f6c-a68a-6e54de7da6e8",
   "metadata": {
    "tags": []
   },
   "outputs": [],
   "source": [
    "data = pd.read_csv('wi_dataset.csv',\n",
    "                   lineterminator='\\n')"
   ]
  },
  {
   "cell_type": "code",
   "execution_count": 202,
   "id": "e62c5376-0970-4f41-85a5-d4368d0ea36b",
   "metadata": {
    "tags": []
   },
   "outputs": [],
   "source": [
    "# For now let's work with a smaller extract\n",
    "\n",
    "# data = original_data.head(10000)"
   ]
  },
  {
   "cell_type": "code",
   "execution_count": 203,
   "id": "4e5dfc93-bc75-4fd4-b4fe-98398b8116a6",
   "metadata": {
    "tags": []
   },
   "outputs": [
    {
     "data": {
      "text/plain": [
       "112056"
      ]
     },
     "execution_count": 203,
     "metadata": {},
     "output_type": "execute_result"
    }
   ],
   "source": [
    "n_ads = len(data)\n",
    "n_ads"
   ]
  },
  {
   "cell_type": "code",
   "execution_count": 204,
   "id": "f9c010e8-8869-4cd3-8604-b9572edfff51",
   "metadata": {},
   "outputs": [
    {
     "data": {
      "text/html": [
       "<div>\n",
       "<style scoped>\n",
       "    .dataframe tbody tr th:only-of-type {\n",
       "        vertical-align: middle;\n",
       "    }\n",
       "\n",
       "    .dataframe tbody tr th {\n",
       "        vertical-align: top;\n",
       "    }\n",
       "\n",
       "    .dataframe thead th {\n",
       "        text-align: right;\n",
       "    }\n",
       "</style>\n",
       "<table border=\"1\" class=\"dataframe\">\n",
       "  <thead>\n",
       "    <tr style=\"text-align: right;\">\n",
       "      <th></th>\n",
       "      <th>id</th>\n",
       "      <th>title</th>\n",
       "      <th>description</th>\n",
       "      <th>location</th>\n",
       "      <th>country_id</th>\n",
       "      <th>company_name</th>\n",
       "      <th>retrieval_date</th>\n",
       "    </tr>\n",
       "  </thead>\n",
       "  <tbody>\n",
       "    <tr>\n",
       "      <th>0</th>\n",
       "      <td>1</td>\n",
       "      <td>Traineeship Pensioen &amp; Leven in Utrecht</td>\n",
       "      <td>We sturen je door naar je toekomstige opdracht...</td>\n",
       "      <td>Utrecht</td>\n",
       "      <td>NL</td>\n",
       "      <td>NaN</td>\n",
       "      <td>2021-01-19</td>\n",
       "    </tr>\n",
       "    <tr>\n",
       "      <th>1</th>\n",
       "      <td>2</td>\n",
       "      <td>DEPOSITARY OFFICER (M/F)</td>\n",
       "      <td>DEPOSITARY OFFICER (M/F) DO Recruitment Adviso...</td>\n",
       "      <td>NaN</td>\n",
       "      <td>FR</td>\n",
       "      <td>DO Recruitment Advisors</td>\n",
       "      <td>2021-09-30</td>\n",
       "    </tr>\n",
       "    <tr>\n",
       "      <th>2</th>\n",
       "      <td>3</td>\n",
       "      <td>Cautam colegi manipulanti marfa</td>\n",
       "      <td>Descriere Angajam manipulanti marfa din Pitest...</td>\n",
       "      <td>Pitesti</td>\n",
       "      <td>RO</td>\n",
       "      <td>NaN</td>\n",
       "      <td>2021-06-18</td>\n",
       "    </tr>\n",
       "    <tr>\n",
       "      <th>3</th>\n",
       "      <td>4</td>\n",
       "      <td>Home Care Assistant</td>\n",
       "      <td>Are you looking for a role as a Care Assistant...</td>\n",
       "      <td>NaN</td>\n",
       "      <td>UK</td>\n",
       "      <td>Cera Care</td>\n",
       "      <td>2021-02-09</td>\n",
       "    </tr>\n",
       "    <tr>\n",
       "      <th>4</th>\n",
       "      <td>5</td>\n",
       "      <td>Chef de chantier espaces verts h/f</td>\n",
       "      <td>LE POSTE Vous êtes passionné par les Espaces V...</td>\n",
       "      <td>NaN</td>\n",
       "      <td>FR</td>\n",
       "      <td>ALPHEA CONSEIL</td>\n",
       "      <td>2021-06-08</td>\n",
       "    </tr>\n",
       "  </tbody>\n",
       "</table>\n",
       "</div>"
      ],
      "text/plain": [
       "   id                                    title  \\\n",
       "0   1  Traineeship Pensioen & Leven in Utrecht   \n",
       "1   2                 DEPOSITARY OFFICER (M/F)   \n",
       "2   3          Cautam colegi manipulanti marfa   \n",
       "3   4                      Home Care Assistant   \n",
       "4   5       Chef de chantier espaces verts h/f   \n",
       "\n",
       "                                         description location country_id  \\\n",
       "0  We sturen je door naar je toekomstige opdracht...  Utrecht         NL   \n",
       "1  DEPOSITARY OFFICER (M/F) DO Recruitment Adviso...      NaN         FR   \n",
       "2  Descriere Angajam manipulanti marfa din Pitest...  Pitesti         RO   \n",
       "3  Are you looking for a role as a Care Assistant...      NaN         UK   \n",
       "4  LE POSTE Vous êtes passionné par les Espaces V...      NaN         FR   \n",
       "\n",
       "              company_name retrieval_date  \n",
       "0                      NaN     2021-01-19  \n",
       "1  DO Recruitment Advisors     2021-09-30  \n",
       "2                      NaN     2021-06-18  \n",
       "3                Cera Care     2021-02-09  \n",
       "4           ALPHEA CONSEIL     2021-06-08  "
      ]
     },
     "execution_count": 204,
     "metadata": {},
     "output_type": "execute_result"
    }
   ],
   "source": [
    "data.head()"
   ]
  },
  {
   "cell_type": "code",
   "execution_count": 205,
   "id": "2b7cdd05-817f-4b3b-951d-78748a0dc5b6",
   "metadata": {
    "tags": []
   },
   "outputs": [
    {
     "data": {
      "text/html": [
       "<div>\n",
       "<style scoped>\n",
       "    .dataframe tbody tr th:only-of-type {\n",
       "        vertical-align: middle;\n",
       "    }\n",
       "\n",
       "    .dataframe tbody tr th {\n",
       "        vertical-align: top;\n",
       "    }\n",
       "\n",
       "    .dataframe thead th {\n",
       "        text-align: right;\n",
       "    }\n",
       "</style>\n",
       "<table border=\"1\" class=\"dataframe\">\n",
       "  <thead>\n",
       "    <tr style=\"text-align: right;\">\n",
       "      <th></th>\n",
       "      <th>id</th>\n",
       "      <th>title</th>\n",
       "      <th>description</th>\n",
       "      <th>location</th>\n",
       "      <th>country_id</th>\n",
       "      <th>company_name</th>\n",
       "      <th>retrieval_date</th>\n",
       "    </tr>\n",
       "  </thead>\n",
       "  <tbody>\n",
       "    <tr>\n",
       "      <th>112051</th>\n",
       "      <td>112052</td>\n",
       "      <td>OPERATORE IMPIANTI AUTOMATICI</td>\n",
       "      <td>OPERATORE IMPIANTI AUTOMATICI SBE VARVIT - Mon...</td>\n",
       "      <td>Monfalcone, Friuli-Venezia Giulia</td>\n",
       "      <td>IT</td>\n",
       "      <td>S.B.E. VARVIT</td>\n",
       "      <td>2021-01-31</td>\n",
       "    </tr>\n",
       "    <tr>\n",
       "      <th>112052</th>\n",
       "      <td>112053</td>\n",
       "      <td>Tarvittaessa töihin kutsuttavia siivoojia</td>\n",
       "      <td>Etsimme useampaa MATALAPAINEPESIJÄÄ tiimiimme ...</td>\n",
       "      <td>NaN</td>\n",
       "      <td>FI</td>\n",
       "      <td>ISS Palvelut Oy</td>\n",
       "      <td>2021-04-01</td>\n",
       "    </tr>\n",
       "    <tr>\n",
       "      <th>112053</th>\n",
       "      <td>112054</td>\n",
       "      <td>Timanställning - Lager - Start Augusti</td>\n",
       "      <td>Om Jobbet: Just nu söker vi efter nya medarbet...</td>\n",
       "      <td>Jönköping</td>\n",
       "      <td>SE</td>\n",
       "      <td>Lyreco Sverige AB</td>\n",
       "      <td>2021-08-03</td>\n",
       "    </tr>\n",
       "    <tr>\n",
       "      <th>112054</th>\n",
       "      <td>112055</td>\n",
       "      <td>Opérateur de saisie bancaire H/F</td>\n",
       "      <td>Venez nous découvrir sur : https://www.tessi.e...</td>\n",
       "      <td>Fontenay-sous-Bois (94)</td>\n",
       "      <td>FR</td>\n",
       "      <td>tessi</td>\n",
       "      <td>2021-05-31</td>\n",
       "    </tr>\n",
       "    <tr>\n",
       "      <th>112055</th>\n",
       "      <td>112056</td>\n",
       "      <td>Senior Java developer</td>\n",
       "      <td>Do you want to know what is means to be BOLD? ...</td>\n",
       "      <td>NaN</td>\n",
       "      <td>PT</td>\n",
       "      <td>BOLD International</td>\n",
       "      <td>2021-01-30</td>\n",
       "    </tr>\n",
       "  </tbody>\n",
       "</table>\n",
       "</div>"
      ],
      "text/plain": [
       "            id                                      title  \\\n",
       "112051  112052              OPERATORE IMPIANTI AUTOMATICI   \n",
       "112052  112053  Tarvittaessa töihin kutsuttavia siivoojia   \n",
       "112053  112054     Timanställning - Lager - Start Augusti   \n",
       "112054  112055           Opérateur de saisie bancaire H/F   \n",
       "112055  112056                      Senior Java developer   \n",
       "\n",
       "                                              description  \\\n",
       "112051  OPERATORE IMPIANTI AUTOMATICI SBE VARVIT - Mon...   \n",
       "112052  Etsimme useampaa MATALAPAINEPESIJÄÄ tiimiimme ...   \n",
       "112053  Om Jobbet: Just nu söker vi efter nya medarbet...   \n",
       "112054  Venez nous découvrir sur : https://www.tessi.e...   \n",
       "112055  Do you want to know what is means to be BOLD? ...   \n",
       "\n",
       "                                 location country_id        company_name  \\\n",
       "112051  Monfalcone, Friuli-Venezia Giulia         IT       S.B.E. VARVIT   \n",
       "112052                                NaN         FI     ISS Palvelut Oy   \n",
       "112053                          Jönköping         SE   Lyreco Sverige AB   \n",
       "112054            Fontenay-sous-Bois (94)         FR               tessi   \n",
       "112055                                NaN         PT  BOLD International   \n",
       "\n",
       "       retrieval_date  \n",
       "112051     2021-01-31  \n",
       "112052     2021-04-01  \n",
       "112053     2021-08-03  \n",
       "112054     2021-05-31  \n",
       "112055     2021-01-30  "
      ]
     },
     "execution_count": 205,
     "metadata": {},
     "output_type": "execute_result"
    }
   ],
   "source": [
    "data.tail()"
   ]
  },
  {
   "cell_type": "markdown",
   "id": "76029d4c-fcb2-42aa-9057-1293f71f5122",
   "metadata": {},
   "source": [
    "## Data preprocessing"
   ]
  },
  {
   "cell_type": "code",
   "execution_count": 206,
   "id": "4a06be7b-e6a8-44ca-8f28-5c80380140a9",
   "metadata": {
    "tags": []
   },
   "outputs": [],
   "source": [
    "# Basic cleaning\n",
    "\n",
    "data.fillna(\"\", inplace=True)\n",
    "\n",
    "data[\n",
    "    ['title', 'description', 'location', 'country_id', 'company_name']\n",
    "] = data[\n",
    "    ['title', 'description', 'location', 'country_id', 'company_name']\n",
    "].apply(lambda x: x.str.replace(r'\\W', ' ').apply(lambda x: unidecode(re.sub(' +', ' ', x))).str.strip().str.lower())"
   ]
  },
  {
   "cell_type": "code",
   "execution_count": 207,
   "id": "831a7d00-056e-4b67-bd4b-6334b10ff77d",
   "metadata": {},
   "outputs": [
    {
     "data": {
      "text/html": [
       "<div>\n",
       "<style scoped>\n",
       "    .dataframe tbody tr th:only-of-type {\n",
       "        vertical-align: middle;\n",
       "    }\n",
       "\n",
       "    .dataframe tbody tr th {\n",
       "        vertical-align: top;\n",
       "    }\n",
       "\n",
       "    .dataframe thead th {\n",
       "        text-align: right;\n",
       "    }\n",
       "</style>\n",
       "<table border=\"1\" class=\"dataframe\">\n",
       "  <thead>\n",
       "    <tr style=\"text-align: right;\">\n",
       "      <th></th>\n",
       "      <th>id</th>\n",
       "      <th>title</th>\n",
       "      <th>description</th>\n",
       "      <th>location</th>\n",
       "      <th>country_id</th>\n",
       "      <th>company_name</th>\n",
       "      <th>retrieval_date</th>\n",
       "    </tr>\n",
       "  </thead>\n",
       "  <tbody>\n",
       "    <tr>\n",
       "      <th>0</th>\n",
       "      <td>1</td>\n",
       "      <td>traineeship pensioen leven in utrecht</td>\n",
       "      <td>we sturen je door naar je toekomstige opdracht...</td>\n",
       "      <td>utrecht</td>\n",
       "      <td>nl</td>\n",
       "      <td></td>\n",
       "      <td>2021-01-19</td>\n",
       "    </tr>\n",
       "    <tr>\n",
       "      <th>1</th>\n",
       "      <td>2</td>\n",
       "      <td>depositary officer m f</td>\n",
       "      <td>depositary officer m f do recruitment advisors...</td>\n",
       "      <td></td>\n",
       "      <td>fr</td>\n",
       "      <td>do recruitment advisors</td>\n",
       "      <td>2021-09-30</td>\n",
       "    </tr>\n",
       "    <tr>\n",
       "      <th>2</th>\n",
       "      <td>3</td>\n",
       "      <td>cautam colegi manipulanti marfa</td>\n",
       "      <td>descriere angajam manipulanti marfa din pitest...</td>\n",
       "      <td>pitesti</td>\n",
       "      <td>ro</td>\n",
       "      <td></td>\n",
       "      <td>2021-06-18</td>\n",
       "    </tr>\n",
       "    <tr>\n",
       "      <th>3</th>\n",
       "      <td>4</td>\n",
       "      <td>home care assistant</td>\n",
       "      <td>are you looking for a role as a care assistant...</td>\n",
       "      <td></td>\n",
       "      <td>uk</td>\n",
       "      <td>cera care</td>\n",
       "      <td>2021-02-09</td>\n",
       "    </tr>\n",
       "    <tr>\n",
       "      <th>4</th>\n",
       "      <td>5</td>\n",
       "      <td>chef de chantier espaces verts h f</td>\n",
       "      <td>le poste vous etes passionne par les espaces v...</td>\n",
       "      <td></td>\n",
       "      <td>fr</td>\n",
       "      <td>alphea conseil</td>\n",
       "      <td>2021-06-08</td>\n",
       "    </tr>\n",
       "  </tbody>\n",
       "</table>\n",
       "</div>"
      ],
      "text/plain": [
       "   id                                  title  \\\n",
       "0   1  traineeship pensioen leven in utrecht   \n",
       "1   2                 depositary officer m f   \n",
       "2   3        cautam colegi manipulanti marfa   \n",
       "3   4                    home care assistant   \n",
       "4   5     chef de chantier espaces verts h f   \n",
       "\n",
       "                                         description location country_id  \\\n",
       "0  we sturen je door naar je toekomstige opdracht...  utrecht         nl   \n",
       "1  depositary officer m f do recruitment advisors...                  fr   \n",
       "2  descriere angajam manipulanti marfa din pitest...  pitesti         ro   \n",
       "3  are you looking for a role as a care assistant...                  uk   \n",
       "4  le poste vous etes passionne par les espaces v...                  fr   \n",
       "\n",
       "              company_name retrieval_date  \n",
       "0                              2021-01-19  \n",
       "1  do recruitment advisors     2021-09-30  \n",
       "2                              2021-06-18  \n",
       "3                cera care     2021-02-09  \n",
       "4           alphea conseil     2021-06-08  "
      ]
     },
     "execution_count": 207,
     "metadata": {},
     "output_type": "execute_result"
    }
   ],
   "source": [
    "data.head()"
   ]
  },
  {
   "cell_type": "code",
   "execution_count": 208,
   "id": "5b769019-a4c4-4bec-83da-cdbff1826171",
   "metadata": {},
   "outputs": [
    {
     "data": {
      "text/html": [
       "<div>\n",
       "<style scoped>\n",
       "    .dataframe tbody tr th:only-of-type {\n",
       "        vertical-align: middle;\n",
       "    }\n",
       "\n",
       "    .dataframe tbody tr th {\n",
       "        vertical-align: top;\n",
       "    }\n",
       "\n",
       "    .dataframe thead th {\n",
       "        text-align: right;\n",
       "    }\n",
       "</style>\n",
       "<table border=\"1\" class=\"dataframe\">\n",
       "  <thead>\n",
       "    <tr style=\"text-align: right;\">\n",
       "      <th></th>\n",
       "      <th>id</th>\n",
       "      <th>title</th>\n",
       "      <th>description</th>\n",
       "      <th>location</th>\n",
       "      <th>country_id</th>\n",
       "      <th>company_name</th>\n",
       "      <th>retrieval_date</th>\n",
       "    </tr>\n",
       "  </thead>\n",
       "  <tbody>\n",
       "    <tr>\n",
       "      <th>112051</th>\n",
       "      <td>112052</td>\n",
       "      <td>operatore impianti automatici</td>\n",
       "      <td>operatore impianti automatici sbe varvit monfa...</td>\n",
       "      <td>monfalcone friuli venezia giulia</td>\n",
       "      <td>it</td>\n",
       "      <td>s b e varvit</td>\n",
       "      <td>2021-01-31</td>\n",
       "    </tr>\n",
       "    <tr>\n",
       "      <th>112052</th>\n",
       "      <td>112053</td>\n",
       "      <td>tarvittaessa toihin kutsuttavia siivoojia</td>\n",
       "      <td>etsimme useampaa matalapainepesijaa tiimiimme ...</td>\n",
       "      <td></td>\n",
       "      <td>fi</td>\n",
       "      <td>iss palvelut oy</td>\n",
       "      <td>2021-04-01</td>\n",
       "    </tr>\n",
       "    <tr>\n",
       "      <th>112053</th>\n",
       "      <td>112054</td>\n",
       "      <td>timanstallning lager start augusti</td>\n",
       "      <td>om jobbet just nu soker vi efter nya medarbeta...</td>\n",
       "      <td>jonkoping</td>\n",
       "      <td>se</td>\n",
       "      <td>lyreco sverige ab</td>\n",
       "      <td>2021-08-03</td>\n",
       "    </tr>\n",
       "    <tr>\n",
       "      <th>112054</th>\n",
       "      <td>112055</td>\n",
       "      <td>operateur de saisie bancaire h f</td>\n",
       "      <td>venez nous decouvrir sur https www tessi eu fr...</td>\n",
       "      <td>fontenay sous bois 94</td>\n",
       "      <td>fr</td>\n",
       "      <td>tessi</td>\n",
       "      <td>2021-05-31</td>\n",
       "    </tr>\n",
       "    <tr>\n",
       "      <th>112055</th>\n",
       "      <td>112056</td>\n",
       "      <td>senior java developer</td>\n",
       "      <td>do you want to know what is means to be bold b...</td>\n",
       "      <td></td>\n",
       "      <td>pt</td>\n",
       "      <td>bold international</td>\n",
       "      <td>2021-01-30</td>\n",
       "    </tr>\n",
       "  </tbody>\n",
       "</table>\n",
       "</div>"
      ],
      "text/plain": [
       "            id                                      title  \\\n",
       "112051  112052              operatore impianti automatici   \n",
       "112052  112053  tarvittaessa toihin kutsuttavia siivoojia   \n",
       "112053  112054         timanstallning lager start augusti   \n",
       "112054  112055           operateur de saisie bancaire h f   \n",
       "112055  112056                      senior java developer   \n",
       "\n",
       "                                              description  \\\n",
       "112051  operatore impianti automatici sbe varvit monfa...   \n",
       "112052  etsimme useampaa matalapainepesijaa tiimiimme ...   \n",
       "112053  om jobbet just nu soker vi efter nya medarbeta...   \n",
       "112054  venez nous decouvrir sur https www tessi eu fr...   \n",
       "112055  do you want to know what is means to be bold b...   \n",
       "\n",
       "                                location country_id        company_name  \\\n",
       "112051  monfalcone friuli venezia giulia         it        s b e varvit   \n",
       "112052                                           fi     iss palvelut oy   \n",
       "112053                         jonkoping         se   lyreco sverige ab   \n",
       "112054             fontenay sous bois 94         fr               tessi   \n",
       "112055                                           pt  bold international   \n",
       "\n",
       "       retrieval_date  \n",
       "112051     2021-01-31  \n",
       "112052     2021-04-01  \n",
       "112053     2021-08-03  \n",
       "112054     2021-05-31  \n",
       "112055     2021-01-30  "
      ]
     },
     "execution_count": 208,
     "metadata": {},
     "output_type": "execute_result"
    }
   ],
   "source": [
    "data.tail()"
   ]
  },
  {
   "cell_type": "markdown",
   "id": "d24a9f1c-62f4-4490-9fb8-c46a3f8143af",
   "metadata": {},
   "source": [
    "## Naive deduplication"
   ]
  },
  {
   "cell_type": "code",
   "execution_count": 209,
   "id": "1cf4194a-7f17-4c57-ae6f-7f3ccbc9be44",
   "metadata": {
    "tags": []
   },
   "outputs": [],
   "source": [
    "duplicates = []"
   ]
  },
  {
   "cell_type": "markdown",
   "id": "c2e0ace7-81fe-49cb-8205-8b3c199e11c4",
   "metadata": {},
   "source": [
    "### Add the full duplicates"
   ]
  },
  {
   "cell_type": "code",
   "execution_count": 210,
   "id": "e13d38ca-3174-4d23-a453-40d3332c27e8",
   "metadata": {
    "tags": []
   },
   "outputs": [],
   "source": [
    "# Way too long to run\n",
    "# + sorting the table breaks the code\n",
    "\n",
    "# for i in tqdm(range(n_ads)):\n",
    "#     for j in range(i+1,n_ads):\n",
    "#         if (data.iloc[i, 1] == data.iloc[j, 1]) and (data.iloc[i, 2] == data.iloc[j, 2]):\n",
    "#             duplicates.append({'id1': i+1, 'id2': j+1, 'type': 'FULL'})"
   ]
  },
  {
   "cell_type": "code",
   "execution_count": 211,
   "id": "aa306830-a995-4086-b7a9-fe51fd61316d",
   "metadata": {},
   "outputs": [],
   "source": [
    "data.sort_values(by=['title', 'description', 'id', 'company_name', 'location'], inplace=True)"
   ]
  },
  {
   "cell_type": "code",
   "execution_count": 212,
   "id": "347e7d2f-37cb-42b7-8d37-30ee62e3949b",
   "metadata": {},
   "outputs": [],
   "source": [
    "# Let's try by also using columns 5 and 3\n",
    "\n",
    "# i = 0\n",
    "# j = 1\n",
    "# while i < n_ads and j < n_ads:\n",
    "#     if (i%10000 == 0) and (j == i+1):\n",
    "#         print(i)\n",
    "#     if data.iloc[i, 1] < data.iloc[j, 1]:\n",
    "#         i += 1\n",
    "#         j = i + 1\n",
    "#     elif data.iloc[i, 1] > data.iloc[j, 1]:\n",
    "#         j += 1\n",
    "#     elif data.iloc[i, 2] < data.iloc[j, 2]:\n",
    "#         i += 1\n",
    "#         j = i + 1\n",
    "#     elif data.iloc[i, 2] > data.iloc[j, 2]:\n",
    "#         j += 1\n",
    "#     else:\n",
    "#         duplicates.append({'id1': data.iloc[i, 0], 'id2': data.iloc[j, 0], 'type': 'FULL'})\n",
    "#         j += 1"
   ]
  },
  {
   "cell_type": "code",
   "execution_count": 213,
   "id": "500983f6-287f-4909-83dc-a6253b3177e2",
   "metadata": {
    "tags": []
   },
   "outputs": [
    {
     "name": "stderr",
     "output_type": "stream",
     "text": [
      "100%|██████████| 112055/112055 [01:18<00:00, 1424.53it/s]\n"
     ]
    },
    {
     "data": {
      "text/plain": [
       "278593"
      ]
     },
     "execution_count": 213,
     "metadata": {},
     "output_type": "execute_result"
    }
   ],
   "source": [
    "for i in tqdm(range(n_ads-1)):\n",
    "    j = i+1\n",
    "    while j < n_ads and data.iloc[j, 1] == data.iloc[i, 1] and data.iloc[j, 2] == data.iloc[i, 2]:\n",
    "        if data.iloc[j, 5] == data.iloc[i, 5] or len(data.iloc[i, 5]) * len(data.iloc[j, 5]) == 0:\n",
    "            if data.iloc[j, 3] == data.iloc[i, 3] or len(data.iloc[i, 3]) * len(data.iloc[j, 3]) == 0:\n",
    "                if len(data.iloc[i, 5]) * len(data.iloc[j, 5]) != 0 or len(data.iloc[i, 3]) * len(data.iloc[j, 3]) != 0:\n",
    "                    duplicates.append({'id1': data.iloc[i, 0], 'id2': data.iloc[j, 0], 'type': 'FULL'})\n",
    "        j += 1\n",
    "\n",
    "len(duplicates)"
   ]
  },
  {
   "cell_type": "code",
   "execution_count": 214,
   "id": "7f5714b3-b472-4800-914f-13543f877684",
   "metadata": {},
   "outputs": [
    {
     "data": {
      "text/plain": [
       "278593"
      ]
     },
     "execution_count": 214,
     "metadata": {},
     "output_type": "execute_result"
    }
   ],
   "source": [
    "len(duplicates)"
   ]
  },
  {
   "cell_type": "code",
   "execution_count": 215,
   "id": "b550e345-c226-4ded-b16f-1c5ad583f3cf",
   "metadata": {},
   "outputs": [
    {
     "data": {
      "text/plain": [
       "{'id1': 16097, 'id2': 23753, 'type': 'FULL'}"
      ]
     },
     "execution_count": 215,
     "metadata": {},
     "output_type": "execute_result"
    }
   ],
   "source": [
    "duplicates[0]"
   ]
  },
  {
   "cell_type": "markdown",
   "id": "fc0c6b25-6261-4d00-9a7b-d6afdaeed26f",
   "metadata": {
    "tags": []
   },
   "source": [
    "### Add the semantic duplicates"
   ]
  },
  {
   "cell_type": "code",
   "execution_count": 216,
   "id": "3b07152c-d2bc-4d8c-aa45-87b8782bcdc8",
   "metadata": {},
   "outputs": [],
   "source": [
    "data.sort_values(by=['id'], inplace=True)"
   ]
  },
  {
   "cell_type": "code",
   "execution_count": 217,
   "id": "0e2c1272-a34d-42af-bd78-12b8d3927346",
   "metadata": {},
   "outputs": [],
   "source": [
    "final_stopwords_list = stopwords.words(\n",
    "    'danish') + stopwords.words(\n",
    "    'dutch') + stopwords.words(\n",
    "    'english') + stopwords.words(\n",
    "    'finnish') + stopwords.words(\n",
    "    'french') + stopwords.words(\n",
    "    'german') + stopwords.words(\n",
    "    'hungarian') + stopwords.words(\n",
    "    'portuguese') + stopwords.words(\n",
    "    'romanian') + stopwords.words(\n",
    "    'russian') + stopwords.words(\n",
    "    'spanish')"
   ]
  },
  {
   "cell_type": "code",
   "execution_count": 218,
   "id": "33ef9092-0b63-4970-8f8e-3910461df66e",
   "metadata": {
    "tags": []
   },
   "outputs": [
    {
     "data": {
      "text/plain": [
       "<112056x399438 sparse matrix of type '<class 'numpy.float64'>'\n",
       "\twith 3666825 stored elements in Compressed Sparse Row format>"
      ]
     },
     "execution_count": 218,
     "metadata": {},
     "output_type": "execute_result"
    }
   ],
   "source": [
    "data['text'] = data['title'] + ' ' + data['description'] + ' ' + data['location'] + ' ' + data['country_id'] + ' ' + data['company_name']\n",
    "\n",
    "# Use TF-IDF to vectorize the texts\n",
    "vectorizer = TfidfVectorizer(stop_words=final_stopwords_list,\n",
    "                             max_df = 0.01)\n",
    "tfidf = vectorizer.fit_transform(data['text'])\n",
    "tfidf"
   ]
  },
  {
   "cell_type": "code",
   "execution_count": 219,
   "id": "7db59296-d8c4-49bd-b854-78977b4c6b0f",
   "metadata": {},
   "outputs": [],
   "source": [
    "# Use cosine similarity to compare the text\n",
    "# But actually way too big output\n",
    "\n",
    "# similarity_matrix = cosine_similarity(tfidf)"
   ]
  },
  {
   "cell_type": "code",
   "execution_count": 220,
   "id": "ae41e1bb-efd3-4de3-b9e4-dbe26f3a9e4c",
   "metadata": {
    "tags": []
   },
   "outputs": [],
   "source": [
    "# Identify similar ads pairs\n",
    "# Needs to be done by steps\n",
    "\n",
    "# for i in tqdm(range(similarity_matrix.shape[0])):\n",
    "#     for j in range(i+1, similarity_matrix.shape[1]):\n",
    "#         if similarity_matrix[i][j] > 0.8 and (\n",
    "#             (data.iloc[i, 1] != data.iloc[j, 1]) or (data.iloc[i, 2] != data.iloc[j, 2])\n",
    "#         ):\n",
    "#             if data.iloc[i, 6] != data.iloc[j, 6]:\n",
    "#                 duplicates.append({'id1': data.iloc[i, 0], 'id2': data.iloc[j, 0], 'type': 'TEMPORAL'})\n",
    "#             else:\n",
    "#                 if abs(\n",
    "#                     len(data.iloc[i, 2]) - len(data.iloc[j, 2])\n",
    "#                 ) / max(\n",
    "#                     len(data.iloc[i, 2]), len(data.iloc[j, 2])\n",
    "#                 ) < 0.08:\n",
    "#                     duplicates.append({'id1': data.iloc[i, 0], 'id2': data.iloc[j, 0], 'type': 'SEMANTIC'})\n",
    "#                 else:\n",
    "#                     duplicates.append({'id1': data.iloc[i, 0], 'id2': data.iloc[j, 0], 'type': 'PARTIAL'})"
   ]
  },
  {
   "cell_type": "code",
   "execution_count": 221,
   "id": "8ec3f227-de13-4b96-aa81-b8c0bd331962",
   "metadata": {},
   "outputs": [],
   "source": [
    "def cosine_similarity_by_chunk(start, end):\n",
    "    if end > n_ads:\n",
    "        end = n_ads\n",
    "    return cosine_similarity(X=tfidf[start:end], Y=tfidf)"
   ]
  },
  {
   "cell_type": "code",
   "execution_count": 222,
   "id": "776d4960-89af-4f83-80dc-bbdc58dcbdb0",
   "metadata": {
    "tags": []
   },
   "outputs": [
    {
     "name": "stderr",
     "output_type": "stream",
     "text": [
      "100%|██████████| 10000/10000 [05:51<00:00, 28.46it/s]\n"
     ]
    },
    {
     "name": "stdout",
     "output_type": "stream",
     "text": [
      "62928\n"
     ]
    },
    {
     "name": "stderr",
     "output_type": "stream",
     "text": [
      "100%|██████████| 10000/10000 [05:17<00:00, 31.46it/s]\n"
     ]
    },
    {
     "name": "stdout",
     "output_type": "stream",
     "text": [
      "58391\n"
     ]
    },
    {
     "name": "stderr",
     "output_type": "stream",
     "text": [
      "100%|██████████| 10000/10000 [04:46<00:00, 34.92it/s]\n"
     ]
    },
    {
     "name": "stdout",
     "output_type": "stream",
     "text": [
      "52758\n"
     ]
    },
    {
     "name": "stderr",
     "output_type": "stream",
     "text": [
      "100%|██████████| 10000/10000 [04:11<00:00, 39.81it/s]\n"
     ]
    },
    {
     "name": "stdout",
     "output_type": "stream",
     "text": [
      "45984\n"
     ]
    },
    {
     "name": "stderr",
     "output_type": "stream",
     "text": [
      "100%|██████████| 10000/10000 [03:38<00:00, 45.72it/s]\n"
     ]
    },
    {
     "name": "stdout",
     "output_type": "stream",
     "text": [
      "39847\n"
     ]
    },
    {
     "name": "stderr",
     "output_type": "stream",
     "text": [
      "100%|██████████| 10000/10000 [03:06<00:00, 53.55it/s]\n"
     ]
    },
    {
     "name": "stdout",
     "output_type": "stream",
     "text": [
      "34155\n"
     ]
    },
    {
     "name": "stderr",
     "output_type": "stream",
     "text": [
      "100%|██████████| 10000/10000 [02:34<00:00, 64.84it/s]\n"
     ]
    },
    {
     "name": "stdout",
     "output_type": "stream",
     "text": [
      "28544\n"
     ]
    },
    {
     "name": "stderr",
     "output_type": "stream",
     "text": [
      "100%|██████████| 10000/10000 [02:01<00:00, 82.58it/s]\n"
     ]
    },
    {
     "name": "stdout",
     "output_type": "stream",
     "text": [
      "22553\n"
     ]
    },
    {
     "name": "stderr",
     "output_type": "stream",
     "text": [
      "100%|██████████| 10000/10000 [01:28<00:00, 112.57it/s]\n"
     ]
    },
    {
     "name": "stdout",
     "output_type": "stream",
     "text": [
      "16687\n"
     ]
    },
    {
     "name": "stderr",
     "output_type": "stream",
     "text": [
      "100%|██████████| 10000/10000 [00:55<00:00, 180.54it/s]\n"
     ]
    },
    {
     "name": "stdout",
     "output_type": "stream",
     "text": [
      "10294\n"
     ]
    },
    {
     "name": "stderr",
     "output_type": "stream",
     "text": [
      "100%|██████████| 10000/10000 [00:22<00:00, 440.80it/s]\n"
     ]
    },
    {
     "name": "stdout",
     "output_type": "stream",
     "text": [
      "4211\n"
     ]
    },
    {
     "name": "stderr",
     "output_type": "stream",
     "text": [
      "100%|██████████| 10000/10000 [00:00<00:00, 13496.45it/s]"
     ]
    },
    {
     "name": "stdout",
     "output_type": "stream",
     "text": [
      "112\n"
     ]
    },
    {
     "name": "stderr",
     "output_type": "stream",
     "text": [
      "\n"
     ]
    }
   ],
   "source": [
    "chunk_size = 10000\n",
    "\n",
    "for chunk_start in range(0, n_ads, chunk_size):\n",
    "    similarity_matrix_chunk = cosine_similarity_by_chunk(chunk_start, chunk_start+chunk_size)\n",
    "    compteur_init = len(duplicates)\n",
    "    for i in tqdm(range(chunk_size)):\n",
    "        for j in range(chunk_start+i+1, n_ads):\n",
    "            if similarity_matrix_chunk[i][j] > 0.95:\n",
    "                if abs(\n",
    "                    len(data.iloc[chunk_start+i, 2]) - len(data.iloc[j, 2])\n",
    "                ) / (1 + min(\n",
    "                    len(data.iloc[chunk_start+i, 2]), len(data.iloc[j, 2])\n",
    "                )) > 0.1:\n",
    "                    duplicates.append({'id1': data.iloc[chunk_start+i, 0], 'id2': data.iloc[j, 0], 'type': 'PARTIAL'})\n",
    "                elif data.iloc[chunk_start+i, 6] != data.iloc[j, 6]:\n",
    "                    duplicates.append({'id1': data.iloc[chunk_start+i, 0], 'id2': data.iloc[j, 0], 'type': 'TEMPORAL'})\n",
    "                else:\n",
    "                    duplicates.append({'id1': data.iloc[chunk_start+i, 0], 'id2': data.iloc[j, 0], 'type': 'SEMANTIC'})\n",
    "    compteur_end = len(duplicates)\n",
    "    print(compteur_end-compteur_init)"
   ]
  },
  {
   "cell_type": "markdown",
   "id": "8b6e7a47-7cd1-4156-a58a-2e4ec47968a2",
   "metadata": {},
   "source": [
    "## Print duplicates"
   ]
  },
  {
   "cell_type": "code",
   "execution_count": 223,
   "id": "42b97a86-8af2-43ce-9d82-2fa03fe354aa",
   "metadata": {
    "tags": []
   },
   "outputs": [
    {
     "data": {
      "text/html": [
       "<div>\n",
       "<style scoped>\n",
       "    .dataframe tbody tr th:only-of-type {\n",
       "        vertical-align: middle;\n",
       "    }\n",
       "\n",
       "    .dataframe tbody tr th {\n",
       "        vertical-align: top;\n",
       "    }\n",
       "\n",
       "    .dataframe thead th {\n",
       "        text-align: right;\n",
       "    }\n",
       "</style>\n",
       "<table border=\"1\" class=\"dataframe\">\n",
       "  <thead>\n",
       "    <tr style=\"text-align: right;\">\n",
       "      <th></th>\n",
       "      <th>id1</th>\n",
       "      <th>id2</th>\n",
       "      <th>type</th>\n",
       "    </tr>\n",
       "  </thead>\n",
       "  <tbody>\n",
       "    <tr>\n",
       "      <th>40678</th>\n",
       "      <td>3</td>\n",
       "      <td>86</td>\n",
       "      <td>FULL</td>\n",
       "    </tr>\n",
       "    <tr>\n",
       "      <th>40679</th>\n",
       "      <td>3</td>\n",
       "      <td>11168</td>\n",
       "      <td>FULL</td>\n",
       "    </tr>\n",
       "    <tr>\n",
       "      <th>40680</th>\n",
       "      <td>3</td>\n",
       "      <td>32721</td>\n",
       "      <td>FULL</td>\n",
       "    </tr>\n",
       "    <tr>\n",
       "      <th>40681</th>\n",
       "      <td>3</td>\n",
       "      <td>56648</td>\n",
       "      <td>FULL</td>\n",
       "    </tr>\n",
       "    <tr>\n",
       "      <th>40682</th>\n",
       "      <td>3</td>\n",
       "      <td>68245</td>\n",
       "      <td>FULL</td>\n",
       "    </tr>\n",
       "    <tr>\n",
       "      <th>...</th>\n",
       "      <td>...</td>\n",
       "      <td>...</td>\n",
       "      <td>...</td>\n",
       "    </tr>\n",
       "    <tr>\n",
       "      <th>179181</th>\n",
       "      <td>111533</td>\n",
       "      <td>111583</td>\n",
       "      <td>FULL</td>\n",
       "    </tr>\n",
       "    <tr>\n",
       "      <th>655053</th>\n",
       "      <td>111576</td>\n",
       "      <td>111924</td>\n",
       "      <td>TEMPORAL</td>\n",
       "    </tr>\n",
       "    <tr>\n",
       "      <th>655054</th>\n",
       "      <td>111622</td>\n",
       "      <td>111643</td>\n",
       "      <td>TEMPORAL</td>\n",
       "    </tr>\n",
       "    <tr>\n",
       "      <th>36984</th>\n",
       "      <td>111757</td>\n",
       "      <td>112018</td>\n",
       "      <td>FULL</td>\n",
       "    </tr>\n",
       "    <tr>\n",
       "      <th>253205</th>\n",
       "      <td>111869</td>\n",
       "      <td>112054</td>\n",
       "      <td>FULL</td>\n",
       "    </tr>\n",
       "  </tbody>\n",
       "</table>\n",
       "<p>376999 rows × 3 columns</p>\n",
       "</div>"
      ],
      "text/plain": [
       "           id1     id2      type\n",
       "40678        3      86      FULL\n",
       "40679        3   11168      FULL\n",
       "40680        3   32721      FULL\n",
       "40681        3   56648      FULL\n",
       "40682        3   68245      FULL\n",
       "...        ...     ...       ...\n",
       "179181  111533  111583      FULL\n",
       "655053  111576  111924  TEMPORAL\n",
       "655054  111622  111643  TEMPORAL\n",
       "36984   111757  112018      FULL\n",
       "253205  111869  112054      FULL\n",
       "\n",
       "[376999 rows x 3 columns]"
      ]
     },
     "execution_count": 223,
     "metadata": {},
     "output_type": "execute_result"
    }
   ],
   "source": [
    "duplicates = pd.DataFrame(duplicates)\n",
    "duplicates.sort_values(by=['type'], inplace=True)\n",
    "duplicates.drop_duplicates(subset=['id1', 'id2'], inplace=True)\n",
    "duplicates.sort_values(by=['id1', 'id2'], inplace=True)\n",
    "duplicates"
   ]
  },
  {
   "cell_type": "code",
   "execution_count": 224,
   "id": "b1c8bb75-28c8-46e8-b56d-670b6a3715bc",
   "metadata": {},
   "outputs": [
    {
     "data": {
      "text/plain": [
       "0"
      ]
     },
     "execution_count": 224,
     "metadata": {},
     "output_type": "execute_result"
    }
   ],
   "source": [
    "len(duplicates) - len(duplicates.drop_duplicates(subset=['id1', 'id2']))"
   ]
  },
  {
   "cell_type": "code",
   "execution_count": 225,
   "id": "df29eca5-57fc-4177-88f5-fb54bff7d030",
   "metadata": {
    "tags": []
   },
   "outputs": [
    {
     "data": {
      "text/html": [
       "<div>\n",
       "<style scoped>\n",
       "    .dataframe tbody tr th:only-of-type {\n",
       "        vertical-align: middle;\n",
       "    }\n",
       "\n",
       "    .dataframe tbody tr th {\n",
       "        vertical-align: top;\n",
       "    }\n",
       "\n",
       "    .dataframe thead th {\n",
       "        text-align: right;\n",
       "    }\n",
       "</style>\n",
       "<table border=\"1\" class=\"dataframe\">\n",
       "  <thead>\n",
       "    <tr style=\"text-align: right;\">\n",
       "      <th></th>\n",
       "      <th>id1</th>\n",
       "      <th>id2</th>\n",
       "      <th>type</th>\n",
       "    </tr>\n",
       "  </thead>\n",
       "  <tbody>\n",
       "  </tbody>\n",
       "</table>\n",
       "</div>"
      ],
      "text/plain": [
       "Empty DataFrame\n",
       "Columns: [id1, id2, type]\n",
       "Index: []"
      ]
     },
     "execution_count": 225,
     "metadata": {},
     "output_type": "execute_result"
    }
   ],
   "source": [
    "duplicates[duplicates['id1'] > duplicates['id2']]"
   ]
  },
  {
   "cell_type": "code",
   "execution_count": 226,
   "id": "3ada46bb-8f0b-4f1a-836d-480fab2fc4fa",
   "metadata": {
    "tags": []
   },
   "outputs": [
    {
     "data": {
      "text/html": [
       "<div>\n",
       "<style scoped>\n",
       "    .dataframe tbody tr th:only-of-type {\n",
       "        vertical-align: middle;\n",
       "    }\n",
       "\n",
       "    .dataframe tbody tr th {\n",
       "        vertical-align: top;\n",
       "    }\n",
       "\n",
       "    .dataframe thead th {\n",
       "        text-align: right;\n",
       "    }\n",
       "</style>\n",
       "<table border=\"1\" class=\"dataframe\">\n",
       "  <thead>\n",
       "    <tr style=\"text-align: right;\">\n",
       "      <th></th>\n",
       "      <th>id1</th>\n",
       "      <th>id2</th>\n",
       "    </tr>\n",
       "    <tr>\n",
       "      <th>type</th>\n",
       "      <th></th>\n",
       "      <th></th>\n",
       "    </tr>\n",
       "  </thead>\n",
       "  <tbody>\n",
       "    <tr>\n",
       "      <th>FULL</th>\n",
       "      <td>278593</td>\n",
       "      <td>278593</td>\n",
       "    </tr>\n",
       "    <tr>\n",
       "      <th>PARTIAL</th>\n",
       "      <td>5839</td>\n",
       "      <td>5839</td>\n",
       "    </tr>\n",
       "    <tr>\n",
       "      <th>SEMANTIC</th>\n",
       "      <td>17706</td>\n",
       "      <td>17706</td>\n",
       "    </tr>\n",
       "    <tr>\n",
       "      <th>TEMPORAL</th>\n",
       "      <td>74861</td>\n",
       "      <td>74861</td>\n",
       "    </tr>\n",
       "  </tbody>\n",
       "</table>\n",
       "</div>"
      ],
      "text/plain": [
       "             id1     id2\n",
       "type                    \n",
       "FULL      278593  278593\n",
       "PARTIAL     5839    5839\n",
       "SEMANTIC   17706   17706\n",
       "TEMPORAL   74861   74861"
      ]
     },
     "execution_count": 226,
     "metadata": {},
     "output_type": "execute_result"
    }
   ],
   "source": [
    "duplicates.groupby('type').count()"
   ]
  },
  {
   "cell_type": "code",
   "execution_count": 227,
   "id": "e57ff259-1029-40b4-983e-4b5065634015",
   "metadata": {},
   "outputs": [],
   "source": [
    "duplicates.to_csv('duplicates.csv', index=False, header=False)"
   ]
  },
  {
   "cell_type": "code",
   "execution_count": 228,
   "id": "8cbaa345-d5f1-4c63-8918-bbcbae734a13",
   "metadata": {
    "tags": []
   },
   "outputs": [
    {
     "name": "stdout",
     "output_type": "stream",
     "text": [
      "`/home/onyxia/work/deduplication/duplicates.csv` -> `s3/apalazzolo/Deduplication/duplicates.csv`\n",
      "Total: 0 B, Transferred: 6.49 MiB, Speed: 42.56 MiB/s\n"
     ]
    },
    {
     "data": {
      "text/plain": [
       "0"
      ]
     },
     "execution_count": 228,
     "metadata": {},
     "output_type": "execute_result"
    }
   ],
   "source": [
    "os.system(f\"mc cp duplicates.csv s3/apalazzolo/Deduplication/duplicates_tf_idf.csv\")"
   ]
  },
  {
   "cell_type": "code",
   "execution_count": null,
   "id": "207d048c-e4f5-425e-8daa-eb66d3cf7340",
   "metadata": {},
   "outputs": [],
   "source": []
  }
 ],
 "metadata": {
  "kernelspec": {
   "display_name": "Python 3 (ipykernel)",
   "language": "python",
   "name": "python3"
  },
  "language_info": {
   "codemirror_mode": {
    "name": "ipython",
    "version": 3
   },
   "file_extension": ".py",
   "mimetype": "text/x-python",
   "name": "python",
   "nbconvert_exporter": "python",
   "pygments_lexer": "ipython3",
   "version": "3.10.8"
  }
 },
 "nbformat": 4,
 "nbformat_minor": 5
}
